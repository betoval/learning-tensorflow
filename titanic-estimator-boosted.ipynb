{
  "nbformat": 4,
  "nbformat_minor": 0,
  "metadata": {
    "colab": {
      "name": "titanic-estimator.ipynb",
      "provenance": [],
      "authorship_tag": "ABX9TyOszh0mFo7ujZ4Mt6Smt2U/",
      "include_colab_link": true
    },
    "kernelspec": {
      "name": "python3",
      "display_name": "Python 3"
    }
  },
  "cells": [
    {
      "cell_type": "markdown",
      "metadata": {
        "id": "view-in-github",
        "colab_type": "text"
      },
      "source": [
        "<a href=\"https://colab.research.google.com/github/betoval/learning-tensorflow/blob/master/titanic-estimator-boosted.ipynb\" target=\"_parent\"><img src=\"https://colab.research.google.com/assets/colab-badge.svg\" alt=\"Open In Colab\"/></a>"
      ]
    },
    {
      "cell_type": "code",
      "metadata": {
        "id": "9xfVsuFP-V3R",
        "colab_type": "code",
        "colab": {}
      },
      "source": [
        "import tensorflow as tf\n",
        "import pandas as pd\n",
        "from sklearn.model_selection import train_test_split"
      ],
      "execution_count": 0,
      "outputs": []
    },
    {
      "cell_type": "code",
      "metadata": {
        "id": "VoAC6VKHcA8n",
        "colab_type": "code",
        "outputId": "520f6e89-52a6-452b-a202-9adcb2b478db",
        "colab": {
          "base_uri": "https://localhost:8080/",
          "height": 359
        }
      },
      "source": [
        "#we use pandas to load the csv files\n",
        "train = pd.read_csv(\"train.csv\")\n",
        "test = pd.read_csv(\"test.csv\")\n",
        "#showing some of the data\n",
        "train.head(10)"
      ],
      "execution_count": 1569,
      "outputs": [
        {
          "output_type": "execute_result",
          "data": {
            "text/html": [
              "<div>\n",
              "<style scoped>\n",
              "    .dataframe tbody tr th:only-of-type {\n",
              "        vertical-align: middle;\n",
              "    }\n",
              "\n",
              "    .dataframe tbody tr th {\n",
              "        vertical-align: top;\n",
              "    }\n",
              "\n",
              "    .dataframe thead th {\n",
              "        text-align: right;\n",
              "    }\n",
              "</style>\n",
              "<table border=\"1\" class=\"dataframe\">\n",
              "  <thead>\n",
              "    <tr style=\"text-align: right;\">\n",
              "      <th></th>\n",
              "      <th>PassengerId</th>\n",
              "      <th>Survived</th>\n",
              "      <th>Pclass</th>\n",
              "      <th>Name</th>\n",
              "      <th>Sex</th>\n",
              "      <th>Age</th>\n",
              "      <th>SibSp</th>\n",
              "      <th>Parch</th>\n",
              "      <th>Ticket</th>\n",
              "      <th>Fare</th>\n",
              "      <th>Cabin</th>\n",
              "      <th>Embarked</th>\n",
              "    </tr>\n",
              "  </thead>\n",
              "  <tbody>\n",
              "    <tr>\n",
              "      <th>0</th>\n",
              "      <td>1</td>\n",
              "      <td>0</td>\n",
              "      <td>3</td>\n",
              "      <td>Braund, Mr. Owen Harris</td>\n",
              "      <td>male</td>\n",
              "      <td>22.0</td>\n",
              "      <td>1</td>\n",
              "      <td>0</td>\n",
              "      <td>A/5 21171</td>\n",
              "      <td>7.2500</td>\n",
              "      <td>NaN</td>\n",
              "      <td>S</td>\n",
              "    </tr>\n",
              "    <tr>\n",
              "      <th>1</th>\n",
              "      <td>2</td>\n",
              "      <td>1</td>\n",
              "      <td>1</td>\n",
              "      <td>Cumings, Mrs. John Bradley (Florence Briggs Th...</td>\n",
              "      <td>female</td>\n",
              "      <td>38.0</td>\n",
              "      <td>1</td>\n",
              "      <td>0</td>\n",
              "      <td>PC 17599</td>\n",
              "      <td>71.2833</td>\n",
              "      <td>C85</td>\n",
              "      <td>C</td>\n",
              "    </tr>\n",
              "    <tr>\n",
              "      <th>2</th>\n",
              "      <td>3</td>\n",
              "      <td>1</td>\n",
              "      <td>3</td>\n",
              "      <td>Heikkinen, Miss. Laina</td>\n",
              "      <td>female</td>\n",
              "      <td>26.0</td>\n",
              "      <td>0</td>\n",
              "      <td>0</td>\n",
              "      <td>STON/O2. 3101282</td>\n",
              "      <td>7.9250</td>\n",
              "      <td>NaN</td>\n",
              "      <td>S</td>\n",
              "    </tr>\n",
              "    <tr>\n",
              "      <th>3</th>\n",
              "      <td>4</td>\n",
              "      <td>1</td>\n",
              "      <td>1</td>\n",
              "      <td>Futrelle, Mrs. Jacques Heath (Lily May Peel)</td>\n",
              "      <td>female</td>\n",
              "      <td>35.0</td>\n",
              "      <td>1</td>\n",
              "      <td>0</td>\n",
              "      <td>113803</td>\n",
              "      <td>53.1000</td>\n",
              "      <td>C123</td>\n",
              "      <td>S</td>\n",
              "    </tr>\n",
              "    <tr>\n",
              "      <th>4</th>\n",
              "      <td>5</td>\n",
              "      <td>0</td>\n",
              "      <td>3</td>\n",
              "      <td>Allen, Mr. William Henry</td>\n",
              "      <td>male</td>\n",
              "      <td>35.0</td>\n",
              "      <td>0</td>\n",
              "      <td>0</td>\n",
              "      <td>373450</td>\n",
              "      <td>8.0500</td>\n",
              "      <td>NaN</td>\n",
              "      <td>S</td>\n",
              "    </tr>\n",
              "    <tr>\n",
              "      <th>5</th>\n",
              "      <td>6</td>\n",
              "      <td>0</td>\n",
              "      <td>3</td>\n",
              "      <td>Moran, Mr. James</td>\n",
              "      <td>male</td>\n",
              "      <td>NaN</td>\n",
              "      <td>0</td>\n",
              "      <td>0</td>\n",
              "      <td>330877</td>\n",
              "      <td>8.4583</td>\n",
              "      <td>NaN</td>\n",
              "      <td>Q</td>\n",
              "    </tr>\n",
              "    <tr>\n",
              "      <th>6</th>\n",
              "      <td>7</td>\n",
              "      <td>0</td>\n",
              "      <td>1</td>\n",
              "      <td>McCarthy, Mr. Timothy J</td>\n",
              "      <td>male</td>\n",
              "      <td>54.0</td>\n",
              "      <td>0</td>\n",
              "      <td>0</td>\n",
              "      <td>17463</td>\n",
              "      <td>51.8625</td>\n",
              "      <td>E46</td>\n",
              "      <td>S</td>\n",
              "    </tr>\n",
              "    <tr>\n",
              "      <th>7</th>\n",
              "      <td>8</td>\n",
              "      <td>0</td>\n",
              "      <td>3</td>\n",
              "      <td>Palsson, Master. Gosta Leonard</td>\n",
              "      <td>male</td>\n",
              "      <td>2.0</td>\n",
              "      <td>3</td>\n",
              "      <td>1</td>\n",
              "      <td>349909</td>\n",
              "      <td>21.0750</td>\n",
              "      <td>NaN</td>\n",
              "      <td>S</td>\n",
              "    </tr>\n",
              "    <tr>\n",
              "      <th>8</th>\n",
              "      <td>9</td>\n",
              "      <td>1</td>\n",
              "      <td>3</td>\n",
              "      <td>Johnson, Mrs. Oscar W (Elisabeth Vilhelmina Berg)</td>\n",
              "      <td>female</td>\n",
              "      <td>27.0</td>\n",
              "      <td>0</td>\n",
              "      <td>2</td>\n",
              "      <td>347742</td>\n",
              "      <td>11.1333</td>\n",
              "      <td>NaN</td>\n",
              "      <td>S</td>\n",
              "    </tr>\n",
              "    <tr>\n",
              "      <th>9</th>\n",
              "      <td>10</td>\n",
              "      <td>1</td>\n",
              "      <td>2</td>\n",
              "      <td>Nasser, Mrs. Nicholas (Adele Achem)</td>\n",
              "      <td>female</td>\n",
              "      <td>14.0</td>\n",
              "      <td>1</td>\n",
              "      <td>0</td>\n",
              "      <td>237736</td>\n",
              "      <td>30.0708</td>\n",
              "      <td>NaN</td>\n",
              "      <td>C</td>\n",
              "    </tr>\n",
              "  </tbody>\n",
              "</table>\n",
              "</div>"
            ],
            "text/plain": [
              "   PassengerId  Survived  Pclass  ...     Fare Cabin  Embarked\n",
              "0            1         0       3  ...   7.2500   NaN         S\n",
              "1            2         1       1  ...  71.2833   C85         C\n",
              "2            3         1       3  ...   7.9250   NaN         S\n",
              "3            4         1       1  ...  53.1000  C123         S\n",
              "4            5         0       3  ...   8.0500   NaN         S\n",
              "5            6         0       3  ...   8.4583   NaN         Q\n",
              "6            7         0       1  ...  51.8625   E46         S\n",
              "7            8         0       3  ...  21.0750   NaN         S\n",
              "8            9         1       3  ...  11.1333   NaN         S\n",
              "9           10         1       2  ...  30.0708   NaN         C\n",
              "\n",
              "[10 rows x 12 columns]"
            ]
          },
          "metadata": {
            "tags": []
          },
          "execution_count": 1569
        }
      ]
    },
    {
      "cell_type": "markdown",
      "metadata": {
        "id": "GpyzK_YOs11u",
        "colab_type": "text"
      },
      "source": [
        "We note that we have the word \"NaN\" in the 'Age' feature, which means that we are missing those values."
      ]
    },
    {
      "cell_type": "code",
      "metadata": {
        "id": "cIRDhM20ucos",
        "colab_type": "code",
        "outputId": "92354f16-1287-49ec-fd00-a595e68dc746",
        "colab": {
          "base_uri": "https://localhost:8080/",
          "height": 119
        }
      },
      "source": [
        "total = train.isnull().sum().sort_values(ascending=False)\n",
        "total.head()"
      ],
      "execution_count": 1570,
      "outputs": [
        {
          "output_type": "execute_result",
          "data": {
            "text/plain": [
              "Cabin       687\n",
              "Age         177\n",
              "Embarked      2\n",
              "Fare          0\n",
              "Ticket        0\n",
              "dtype: int64"
            ]
          },
          "metadata": {
            "tags": []
          },
          "execution_count": 1570
        }
      ]
    },
    {
      "cell_type": "code",
      "metadata": {
        "id": "f1Afnaghv44M",
        "colab_type": "code",
        "outputId": "9cc11f72-0fef-4cdd-f2e1-0c4d47df5a1f",
        "colab": {
          "base_uri": "https://localhost:8080/",
          "height": 85
        }
      },
      "source": [
        "train['Embarked'].value_counts()"
      ],
      "execution_count": 1571,
      "outputs": [
        {
          "output_type": "execute_result",
          "data": {
            "text/plain": [
              "S    644\n",
              "C    168\n",
              "Q     77\n",
              "Name: Embarked, dtype: int64"
            ]
          },
          "metadata": {
            "tags": []
          },
          "execution_count": 1571
        }
      ]
    },
    {
      "cell_type": "markdown",
      "metadata": {
        "id": "O91cbkHywBKA",
        "colab_type": "text"
      },
      "source": [
        "Here, we note that we are missing 177 values of Age, 687 of Cabin, and 2 of Embarked. As a first attemp we will replace the missing values of Age with the value of the \"mean age\" and the Embarked values with S, which is the most common."
      ]
    },
    {
      "cell_type": "code",
      "metadata": {
        "id": "ChgstGPamKAV",
        "colab_type": "code",
        "outputId": "6fcfdcf3-f183-49a3-cee9-c13b923328e7",
        "colab": {
          "base_uri": "https://localhost:8080/",
          "height": 340
        }
      },
      "source": [
        "train.info()"
      ],
      "execution_count": 1572,
      "outputs": [
        {
          "output_type": "stream",
          "text": [
            "<class 'pandas.core.frame.DataFrame'>\n",
            "RangeIndex: 891 entries, 0 to 890\n",
            "Data columns (total 12 columns):\n",
            " #   Column       Non-Null Count  Dtype  \n",
            "---  ------       --------------  -----  \n",
            " 0   PassengerId  891 non-null    int64  \n",
            " 1   Survived     891 non-null    int64  \n",
            " 2   Pclass       891 non-null    int64  \n",
            " 3   Name         891 non-null    object \n",
            " 4   Sex          891 non-null    object \n",
            " 5   Age          714 non-null    float64\n",
            " 6   SibSp        891 non-null    int64  \n",
            " 7   Parch        891 non-null    int64  \n",
            " 8   Ticket       891 non-null    object \n",
            " 9   Fare         891 non-null    float64\n",
            " 10  Cabin        204 non-null    object \n",
            " 11  Embarked     889 non-null    object \n",
            "dtypes: float64(2), int64(5), object(5)\n",
            "memory usage: 83.7+ KB\n"
          ],
          "name": "stdout"
        }
      ]
    },
    {
      "cell_type": "markdown",
      "metadata": {
        "id": "LtjFmkipn3qL",
        "colab_type": "text"
      },
      "source": [
        "We can see that the data has 11 features + Survived (the feature we are interested in).\n",
        "\n",
        "Below, we can examine the statistics of the data using `pd.DataFrame.describe`"
      ]
    },
    {
      "cell_type": "code",
      "metadata": {
        "id": "6M4xme6Qr-vn",
        "colab_type": "code",
        "outputId": "a634ef79-34a8-451c-c8d1-334209c359dc",
        "colab": {
          "base_uri": "https://localhost:8080/",
          "height": 297
        }
      },
      "source": [
        "train.describe()"
      ],
      "execution_count": 1573,
      "outputs": [
        {
          "output_type": "execute_result",
          "data": {
            "text/html": [
              "<div>\n",
              "<style scoped>\n",
              "    .dataframe tbody tr th:only-of-type {\n",
              "        vertical-align: middle;\n",
              "    }\n",
              "\n",
              "    .dataframe tbody tr th {\n",
              "        vertical-align: top;\n",
              "    }\n",
              "\n",
              "    .dataframe thead th {\n",
              "        text-align: right;\n",
              "    }\n",
              "</style>\n",
              "<table border=\"1\" class=\"dataframe\">\n",
              "  <thead>\n",
              "    <tr style=\"text-align: right;\">\n",
              "      <th></th>\n",
              "      <th>PassengerId</th>\n",
              "      <th>Survived</th>\n",
              "      <th>Pclass</th>\n",
              "      <th>Age</th>\n",
              "      <th>SibSp</th>\n",
              "      <th>Parch</th>\n",
              "      <th>Fare</th>\n",
              "    </tr>\n",
              "  </thead>\n",
              "  <tbody>\n",
              "    <tr>\n",
              "      <th>count</th>\n",
              "      <td>891.000000</td>\n",
              "      <td>891.000000</td>\n",
              "      <td>891.000000</td>\n",
              "      <td>714.000000</td>\n",
              "      <td>891.000000</td>\n",
              "      <td>891.000000</td>\n",
              "      <td>891.000000</td>\n",
              "    </tr>\n",
              "    <tr>\n",
              "      <th>mean</th>\n",
              "      <td>446.000000</td>\n",
              "      <td>0.383838</td>\n",
              "      <td>2.308642</td>\n",
              "      <td>29.699118</td>\n",
              "      <td>0.523008</td>\n",
              "      <td>0.381594</td>\n",
              "      <td>32.204208</td>\n",
              "    </tr>\n",
              "    <tr>\n",
              "      <th>std</th>\n",
              "      <td>257.353842</td>\n",
              "      <td>0.486592</td>\n",
              "      <td>0.836071</td>\n",
              "      <td>14.526497</td>\n",
              "      <td>1.102743</td>\n",
              "      <td>0.806057</td>\n",
              "      <td>49.693429</td>\n",
              "    </tr>\n",
              "    <tr>\n",
              "      <th>min</th>\n",
              "      <td>1.000000</td>\n",
              "      <td>0.000000</td>\n",
              "      <td>1.000000</td>\n",
              "      <td>0.420000</td>\n",
              "      <td>0.000000</td>\n",
              "      <td>0.000000</td>\n",
              "      <td>0.000000</td>\n",
              "    </tr>\n",
              "    <tr>\n",
              "      <th>25%</th>\n",
              "      <td>223.500000</td>\n",
              "      <td>0.000000</td>\n",
              "      <td>2.000000</td>\n",
              "      <td>20.125000</td>\n",
              "      <td>0.000000</td>\n",
              "      <td>0.000000</td>\n",
              "      <td>7.910400</td>\n",
              "    </tr>\n",
              "    <tr>\n",
              "      <th>50%</th>\n",
              "      <td>446.000000</td>\n",
              "      <td>0.000000</td>\n",
              "      <td>3.000000</td>\n",
              "      <td>28.000000</td>\n",
              "      <td>0.000000</td>\n",
              "      <td>0.000000</td>\n",
              "      <td>14.454200</td>\n",
              "    </tr>\n",
              "    <tr>\n",
              "      <th>75%</th>\n",
              "      <td>668.500000</td>\n",
              "      <td>1.000000</td>\n",
              "      <td>3.000000</td>\n",
              "      <td>38.000000</td>\n",
              "      <td>1.000000</td>\n",
              "      <td>0.000000</td>\n",
              "      <td>31.000000</td>\n",
              "    </tr>\n",
              "    <tr>\n",
              "      <th>max</th>\n",
              "      <td>891.000000</td>\n",
              "      <td>1.000000</td>\n",
              "      <td>3.000000</td>\n",
              "      <td>80.000000</td>\n",
              "      <td>8.000000</td>\n",
              "      <td>6.000000</td>\n",
              "      <td>512.329200</td>\n",
              "    </tr>\n",
              "  </tbody>\n",
              "</table>\n",
              "</div>"
            ],
            "text/plain": [
              "       PassengerId    Survived      Pclass  ...       SibSp       Parch        Fare\n",
              "count   891.000000  891.000000  891.000000  ...  891.000000  891.000000  891.000000\n",
              "mean    446.000000    0.383838    2.308642  ...    0.523008    0.381594   32.204208\n",
              "std     257.353842    0.486592    0.836071  ...    1.102743    0.806057   49.693429\n",
              "min       1.000000    0.000000    1.000000  ...    0.000000    0.000000    0.000000\n",
              "25%     223.500000    0.000000    2.000000  ...    0.000000    0.000000    7.910400\n",
              "50%     446.000000    0.000000    3.000000  ...    0.000000    0.000000   14.454200\n",
              "75%     668.500000    1.000000    3.000000  ...    1.000000    0.000000   31.000000\n",
              "max     891.000000    1.000000    3.000000  ...    8.000000    6.000000  512.329200\n",
              "\n",
              "[8 rows x 7 columns]"
            ]
          },
          "metadata": {
            "tags": []
          },
          "execution_count": 1573
        }
      ]
    },
    {
      "cell_type": "markdown",
      "metadata": {
        "id": "NgdE4ofo8dzM",
        "colab_type": "text"
      },
      "source": [
        "It is evident that we are missing 177 'Age' values. We need to take care of that.\n",
        "\n",
        "Of course, not all features are useful. In fact, we don't need the following: PassengerID, ticket, Name because they don't tell us anything about the survival rate. It is important to note that the Cabin feature could be useful, however, we will drop it because of its missing values."
      ]
    },
    {
      "cell_type": "code",
      "metadata": {
        "id": "MPTdouC-8QXz",
        "colab_type": "code",
        "outputId": "839a482c-561f-4e7c-c9cb-7ee0dd2b296a",
        "colab": {
          "base_uri": "https://localhost:8080/",
          "height": 51
        }
      },
      "source": [
        "#show train columns\n",
        "train.columns.values"
      ],
      "execution_count": 1574,
      "outputs": [
        {
          "output_type": "execute_result",
          "data": {
            "text/plain": [
              "array(['PassengerId', 'Survived', 'Pclass', 'Name', 'Sex', 'Age', 'SibSp',\n",
              "       'Parch', 'Ticket', 'Fare', 'Cabin', 'Embarked'], dtype=object)"
            ]
          },
          "metadata": {
            "tags": []
          },
          "execution_count": 1574
        }
      ]
    },
    {
      "cell_type": "code",
      "metadata": {
        "id": "yZCjTiZqXmMy",
        "colab_type": "code",
        "outputId": "038a08a8-d7d1-4303-8788-3aa648c8616d",
        "colab": {
          "base_uri": "https://localhost:8080/",
          "height": 51
        }
      },
      "source": [
        "#show test columns\n",
        "test.columns.values"
      ],
      "execution_count": 1575,
      "outputs": [
        {
          "output_type": "execute_result",
          "data": {
            "text/plain": [
              "array(['PassengerId', 'Pclass', 'Name', 'Sex', 'Age', 'SibSp', 'Parch',\n",
              "       'Ticket', 'Fare', 'Cabin', 'Embarked'], dtype=object)"
            ]
          },
          "metadata": {
            "tags": []
          },
          "execution_count": 1575
        }
      ]
    },
    {
      "cell_type": "code",
      "metadata": {
        "id": "kg6NWCDvtjIO",
        "colab_type": "code",
        "outputId": "27ee4e95-3266-4f50-f435-c611392347a7",
        "colab": {
          "base_uri": "https://localhost:8080/",
          "height": 153
        }
      },
      "source": [
        "#obtain the mean age to replace the missing values\n",
        "train.mean(axis=0)"
      ],
      "execution_count": 1576,
      "outputs": [
        {
          "output_type": "execute_result",
          "data": {
            "text/plain": [
              "PassengerId    446.000000\n",
              "Survived         0.383838\n",
              "Pclass           2.308642\n",
              "Age             29.699118\n",
              "SibSp            0.523008\n",
              "Parch            0.381594\n",
              "Fare            32.204208\n",
              "dtype: float64"
            ]
          },
          "metadata": {
            "tags": []
          },
          "execution_count": 1576
        }
      ]
    },
    {
      "cell_type": "code",
      "metadata": {
        "id": "Q38Y77ttWiow",
        "colab_type": "code",
        "outputId": "8d0acfae-8687-44b0-8f01-ba05d5cc8f7c",
        "colab": {
          "base_uri": "https://localhost:8080/",
          "height": 221
        }
      },
      "source": [
        "#features\n",
        "train_x = train.drop(['PassengerId', 'Name', 'Ticket', 'Cabin','Survived'],\n",
        "                     axis=1)\n",
        "#label\n",
        "train_y = train['Survived']\n",
        "#test dataset, doesn't include the label\n",
        "test_x = test.drop(['PassengerId', 'Name', 'Ticket', 'Cabin'],axis=1)\n",
        "#train_y only includes 0 and 1 (dead or alive)\n",
        "print(train_y)"
      ],
      "execution_count": 1577,
      "outputs": [
        {
          "output_type": "stream",
          "text": [
            "0      0\n",
            "1      1\n",
            "2      1\n",
            "3      1\n",
            "4      0\n",
            "      ..\n",
            "886    0\n",
            "887    1\n",
            "888    0\n",
            "889    1\n",
            "890    0\n",
            "Name: Survived, Length: 891, dtype: int64\n"
          ],
          "name": "stdout"
        }
      ]
    },
    {
      "cell_type": "code",
      "metadata": {
        "id": "ecRToJ0t8ECl",
        "colab_type": "code",
        "colab": {}
      },
      "source": [
        "#fill the Age feature with the mean, which is 30\n",
        "train_x['Age'] = train_x['Age'].fillna(30)"
      ],
      "execution_count": 0,
      "outputs": []
    },
    {
      "cell_type": "code",
      "metadata": {
        "id": "MPqUgcSf0hB_",
        "colab_type": "code",
        "colab": {}
      },
      "source": [
        "#fill Embarked with S, the most common value\n",
        "train_x[\"Embarked\"].fillna(\"S\", inplace = True) "
      ],
      "execution_count": 0,
      "outputs": []
    },
    {
      "cell_type": "code",
      "metadata": {
        "id": "Bo_8b6D66VtU",
        "colab_type": "code",
        "outputId": "d86cbbb0-12f9-4736-f402-b0e31871b49d",
        "colab": {
          "base_uri": "https://localhost:8080/",
          "height": 255
        }
      },
      "source": [
        "#train_x is the \"complete\" train data\n",
        "train_x.info()"
      ],
      "execution_count": 1580,
      "outputs": [
        {
          "output_type": "stream",
          "text": [
            "<class 'pandas.core.frame.DataFrame'>\n",
            "RangeIndex: 891 entries, 0 to 890\n",
            "Data columns (total 7 columns):\n",
            " #   Column    Non-Null Count  Dtype  \n",
            "---  ------    --------------  -----  \n",
            " 0   Pclass    891 non-null    int64  \n",
            " 1   Sex       891 non-null    object \n",
            " 2   Age       891 non-null    float64\n",
            " 3   SibSp     891 non-null    int64  \n",
            " 4   Parch     891 non-null    int64  \n",
            " 5   Fare      891 non-null    float64\n",
            " 6   Embarked  891 non-null    object \n",
            "dtypes: float64(2), int64(3), object(2)\n",
            "memory usage: 48.9+ KB\n"
          ],
          "name": "stdout"
        }
      ]
    },
    {
      "cell_type": "code",
      "metadata": {
        "id": "HFYSEXNqhfOE",
        "colab_type": "code",
        "outputId": "31693571-6067-46a1-f790-2be90715242c",
        "colab": {
          "base_uri": "https://localhost:8080/",
          "height": 255
        }
      },
      "source": [
        "#indeed, the test_x dataset doesn't include Survived\n",
        "test_x.info()"
      ],
      "execution_count": 1581,
      "outputs": [
        {
          "output_type": "stream",
          "text": [
            "<class 'pandas.core.frame.DataFrame'>\n",
            "RangeIndex: 418 entries, 0 to 417\n",
            "Data columns (total 7 columns):\n",
            " #   Column    Non-Null Count  Dtype  \n",
            "---  ------    --------------  -----  \n",
            " 0   Pclass    418 non-null    int64  \n",
            " 1   Sex       418 non-null    object \n",
            " 2   Age       332 non-null    float64\n",
            " 3   SibSp     418 non-null    int64  \n",
            " 4   Parch     418 non-null    int64  \n",
            " 5   Fare      417 non-null    float64\n",
            " 6   Embarked  418 non-null    object \n",
            "dtypes: float64(2), int64(3), object(2)\n",
            "memory usage: 23.0+ KB\n"
          ],
          "name": "stdout"
        }
      ]
    },
    {
      "cell_type": "code",
      "metadata": {
        "id": "MJ-j3XmmCa_M",
        "colab_type": "code",
        "outputId": "5b4c184c-e201-4f03-fcb3-97cd62d0c33c",
        "colab": {
          "base_uri": "https://localhost:8080/",
          "height": 119
        }
      },
      "source": [
        "test_x.mean(axis=0)"
      ],
      "execution_count": 1582,
      "outputs": [
        {
          "output_type": "execute_result",
          "data": {
            "text/plain": [
              "Pclass     2.265550\n",
              "Age       30.272590\n",
              "SibSp      0.447368\n",
              "Parch      0.392344\n",
              "Fare      35.627188\n",
              "dtype: float64"
            ]
          },
          "metadata": {
            "tags": []
          },
          "execution_count": 1582
        }
      ]
    },
    {
      "cell_type": "code",
      "metadata": {
        "id": "4kLKvrXYCfDM",
        "colab_type": "code",
        "colab": {}
      },
      "source": [
        "test_x['Age'] = test_x['Age'].fillna(30)\n",
        "test_x['Fare'] = test_x['Fare'].fillna(36)"
      ],
      "execution_count": 0,
      "outputs": []
    },
    {
      "cell_type": "code",
      "metadata": {
        "id": "G7aJwNWcCpNb",
        "colab_type": "code",
        "outputId": "dfea5ed7-83bd-4c85-dc42-53ad20179392",
        "colab": {
          "base_uri": "https://localhost:8080/",
          "height": 255
        }
      },
      "source": [
        "test_x.info()"
      ],
      "execution_count": 1584,
      "outputs": [
        {
          "output_type": "stream",
          "text": [
            "<class 'pandas.core.frame.DataFrame'>\n",
            "RangeIndex: 418 entries, 0 to 417\n",
            "Data columns (total 7 columns):\n",
            " #   Column    Non-Null Count  Dtype  \n",
            "---  ------    --------------  -----  \n",
            " 0   Pclass    418 non-null    int64  \n",
            " 1   Sex       418 non-null    object \n",
            " 2   Age       418 non-null    float64\n",
            " 3   SibSp     418 non-null    int64  \n",
            " 4   Parch     418 non-null    int64  \n",
            " 5   Fare      418 non-null    float64\n",
            " 6   Embarked  418 non-null    object \n",
            "dtypes: float64(2), int64(3), object(2)\n",
            "memory usage: 23.0+ KB\n"
          ],
          "name": "stdout"
        }
      ]
    },
    {
      "cell_type": "markdown",
      "metadata": {
        "id": "P3l2fHcaGPEf",
        "colab_type": "text"
      },
      "source": [
        "features = dataframe that includes all the necessary data to determinate if a passenger will survive or not.\n",
        "\n",
        "labels = dataframe containing the information we want to predict. In this example, \"Survived\" is the label.\n",
        "\n",
        "We need to split the train dataset into three parts:\n",
        "\n",
        "1. Training\n",
        "\n",
        "2. Validation\n",
        "\n",
        "3. Test\n",
        "\n",
        "In this example, the Test dataset is already provided. We just need to split \n",
        "the train dataset into: Train and Validation (sometimes called crossvalidation)"
      ]
    },
    {
      "cell_type": "code",
      "metadata": {
        "id": "4RBk9dKTelJQ",
        "colab_type": "code",
        "colab": {}
      },
      "source": [
        "#sampling 80% for train data and 20% for validation\n",
        "train_x, val_x, train_y, val_y = train_test_split(train_x, train_y, \n",
        "                                                  test_size=0.2, \n",
        "                                                  random_state=1)\n",
        "\n",
        "#create input function\n",
        "train_input_fn = tf.compat.v1.estimator.inputs.pandas_input_fn(x=train_x,\n",
        "                                                               y=train_y,\n",
        "                                                               num_epochs=None,\n",
        "                                                               batch_size=100,\n",
        "                                                               shuffle=True)\n",
        "\n",
        "#validation function\n",
        "val_input_fn = tf.compat.v1.estimator.inputs.pandas_input_fn(x=val_x,\n",
        "                                                             y=val_y,\n",
        "                                                              num_epochs=1,\n",
        "                                                              batch_size=\n",
        "                                                             len(val_x),\n",
        "                                                              shuffle=False)\n",
        "\n",
        "                                                      "
      ],
      "execution_count": 0,
      "outputs": []
    },
    {
      "cell_type": "markdown",
      "metadata": {
        "id": "ty1KB2yThQR2",
        "colab_type": "text"
      },
      "source": [
        "**Feature Columns**\n",
        "\n",
        "In this example, we have Categorical columns and numerical columns"
      ]
    },
    {
      "cell_type": "code",
      "metadata": {
        "id": "HNfmhXM1HQzh",
        "colab_type": "code",
        "colab": {}
      },
      "source": [
        "#the layman implementation of feature columns\n",
        "Sex = tf.feature_column.categorical_column_with_vocabulary_list(\"Sex\", [\"male\", \"female\"])\n",
        "Embarked = tf.feature_column.categorical_column_with_vocabulary_list(\"Embarked\", [\"S\", \"C\", \"Q\"])\n",
        "Age = tf.feature_column.numeric_column(\"Age\")\n",
        "Fare = tf.feature_column.numeric_column(\"Fare\")\n",
        "Parch = tf.feature_column.numeric_column(\"Parch\")\n",
        "Pclass = tf.feature_column.numeric_column(\"Pclass\")\n",
        "SibSp = tf.feature_column.numeric_column(\"SibSp\")\n",
        "\n",
        "ft_columns = [tf.feature_column.indicator_column(Sex), tf.feature_column.indicator_column(Embarked), Age, Fare, Parch, Pclass, SibSp]"
      ],
      "execution_count": 0,
      "outputs": []
    },
    {
      "cell_type": "markdown",
      "metadata": {
        "id": "f7WLsP3_Pyha",
        "colab_type": "text"
      },
      "source": [
        "\n",
        "\n",
        "```\n",
        "feature_columns = []\n",
        "num_cols = ['Age', 'Fare', 'Parch', 'Pclass', 'SibSp']\n",
        "for num_name in num_cols:\n",
        "  feature_columns.append(tf.feature_column.numeric_column(num_name))\n",
        "\n",
        "categorical_cols = ['Sex', 'Embarked']\n",
        "for ft_name in categorical_cols:\n",
        "  vocabulary = train_x[ft_name].unique()\n",
        "  feature_columns.append(tf.feature_column.categorical_column_with_vocabulary_list(ft_name, vocabulary))\n",
        "```\n",
        "\n"
      ]
    },
    {
      "cell_type": "markdown",
      "metadata": {
        "id": "bkNp1UfcmIOY",
        "colab_type": "text"
      },
      "source": [
        "**Instantiate the Estimator**\n",
        "\n",
        "We are going to use a Linear Classifier. This will train the model to classify the data into two possible cases: survival and not survival.\n",
        "\n",
        "hidden_units = number of hidden nodes per layer. Ex. [30,10] means that we have two layers, the first one with 30 nodes and the second one with 10 nodes.\n",
        "\n",
        "n_classes= number of label classes"
      ]
    },
    {
      "cell_type": "code",
      "metadata": {
        "id": "A4vYPRV5ltaA",
        "colab_type": "code",
        "outputId": "7cb92339-256e-4b2a-80f4-6f7cb9223f69",
        "colab": {
          "base_uri": "https://localhost:8080/",
          "height": 190
        }
      },
      "source": [
        "model = tf.estimator.DNNClassifier(feature_columns=ft_columns,\n",
        "                                   hidden_units=[35,25,30], \n",
        "                                   n_classes=2, \n",
        "                                   optimizer='Adam')"
      ],
      "execution_count": 1587,
      "outputs": [
        {
          "output_type": "stream",
          "text": [
            "INFO:tensorflow:Using default config.\n",
            "WARNING:tensorflow:Using temporary folder as model directory: /tmp/tmpnc8nlswl\n",
            "INFO:tensorflow:Using config: {'_model_dir': '/tmp/tmpnc8nlswl', '_tf_random_seed': None, '_save_summary_steps': 100, '_save_checkpoints_steps': None, '_save_checkpoints_secs': 600, '_session_config': allow_soft_placement: true\n",
            "graph_options {\n",
            "  rewrite_options {\n",
            "    meta_optimizer_iterations: ONE\n",
            "  }\n",
            "}\n",
            ", '_keep_checkpoint_max': 5, '_keep_checkpoint_every_n_hours': 10000, '_log_step_count_steps': 100, '_train_distribute': None, '_device_fn': None, '_protocol': None, '_eval_distribute': None, '_experimental_distribute': None, '_experimental_max_worker_delay_secs': None, '_session_creation_timeout_secs': 7200, '_service': None, '_cluster_spec': ClusterSpec({}), '_task_type': 'worker', '_task_id': 0, '_global_id_in_cluster': 0, '_master': '', '_evaluation_master': '', '_is_chief': True, '_num_ps_replicas': 0, '_num_worker_replicas': 1}\n"
          ],
          "name": "stdout"
        }
      ]
    },
    {
      "cell_type": "markdown",
      "metadata": {
        "id": "G4iovzZ-nsZk",
        "colab_type": "text"
      },
      "source": [
        "**Train the model**"
      ]
    },
    {
      "cell_type": "code",
      "metadata": {
        "id": "03dsVfrbnrh1",
        "colab_type": "code",
        "outputId": "0569d2ad-8454-487b-95a5-9d16599fea7d",
        "colab": {
          "base_uri": "https://localhost:8080/",
          "height": 530
        }
      },
      "source": [
        "model.train(input_fn=train_input_fn, steps=500)"
      ],
      "execution_count": 1588,
      "outputs": [
        {
          "output_type": "stream",
          "text": [
            "INFO:tensorflow:Calling model_fn.\n",
            "WARNING:tensorflow:Layer dnn is casting an input tensor from dtype float64 to the layer's dtype of float32, which is new behavior in TensorFlow 2.  The layer has dtype float32 because it's dtype defaults to floatx.\n",
            "\n",
            "If you intended to run this layer in float32, you can safely ignore this warning. If in doubt, this warning is likely only an issue if you are porting a TensorFlow 1.X model to TensorFlow 2.\n",
            "\n",
            "To change all layers to have dtype float64 by default, call `tf.keras.backend.set_floatx('float64')`. To change just this layer, pass dtype='float64' to the layer constructor. If you are the author of this layer, you can disable autocasting by passing autocast=False to the base Layer constructor.\n",
            "\n",
            "INFO:tensorflow:Done calling model_fn.\n",
            "INFO:tensorflow:Create CheckpointSaverHook.\n",
            "INFO:tensorflow:Graph was finalized.\n",
            "INFO:tensorflow:Running local_init_op.\n",
            "INFO:tensorflow:Done running local_init_op.\n",
            "INFO:tensorflow:Calling checkpoint listeners before saving checkpoint 0...\n",
            "INFO:tensorflow:Saving checkpoints for 0 into /tmp/tmpnc8nlswl/model.ckpt.\n",
            "INFO:tensorflow:Calling checkpoint listeners after saving checkpoint 0...\n",
            "INFO:tensorflow:loss = 4.4548283, step = 0\n",
            "INFO:tensorflow:global_step/sec: 254.706\n",
            "INFO:tensorflow:loss = 0.5534516, step = 100 (0.396 sec)\n",
            "INFO:tensorflow:global_step/sec: 313.488\n",
            "INFO:tensorflow:loss = 0.54212135, step = 200 (0.321 sec)\n",
            "INFO:tensorflow:global_step/sec: 319.37\n",
            "INFO:tensorflow:loss = 0.4387488, step = 300 (0.311 sec)\n",
            "INFO:tensorflow:global_step/sec: 300.258\n",
            "INFO:tensorflow:loss = 0.4934529, step = 400 (0.332 sec)\n",
            "INFO:tensorflow:Calling checkpoint listeners before saving checkpoint 500...\n",
            "INFO:tensorflow:Saving checkpoints for 500 into /tmp/tmpnc8nlswl/model.ckpt.\n",
            "INFO:tensorflow:Calling checkpoint listeners after saving checkpoint 500...\n",
            "INFO:tensorflow:Loss for final step: 0.3793793.\n"
          ],
          "name": "stdout"
        },
        {
          "output_type": "execute_result",
          "data": {
            "text/plain": [
              "<tensorflow_estimator.python.estimator.canned.dnn.DNNClassifierV2 at 0x7fd5b5208128>"
            ]
          },
          "metadata": {
            "tags": []
          },
          "execution_count": 1588
        }
      ]
    },
    {
      "cell_type": "markdown",
      "metadata": {
        "id": "7W6pe2wQRwVw",
        "colab_type": "text"
      },
      "source": [
        "**Evaluate the model**"
      ]
    },
    {
      "cell_type": "code",
      "metadata": {
        "id": "l-Z2pFahR0kS",
        "colab_type": "code",
        "outputId": "e1d675d4-3409-4f1a-c5b1-92afb900c5a9",
        "colab": {
          "base_uri": "https://localhost:8080/",
          "height": 377
        }
      },
      "source": [
        "accuracy_score = model.evaluate(input_fn=val_input_fn)[\"accuracy\"]\n",
        "print(\"\\nTest accuracy: {0:f}%\\n\".format(accuracy_score*100))"
      ],
      "execution_count": 1589,
      "outputs": [
        {
          "output_type": "stream",
          "text": [
            "INFO:tensorflow:Calling model_fn.\n",
            "WARNING:tensorflow:Layer dnn is casting an input tensor from dtype float64 to the layer's dtype of float32, which is new behavior in TensorFlow 2.  The layer has dtype float32 because it's dtype defaults to floatx.\n",
            "\n",
            "If you intended to run this layer in float32, you can safely ignore this warning. If in doubt, this warning is likely only an issue if you are porting a TensorFlow 1.X model to TensorFlow 2.\n",
            "\n",
            "To change all layers to have dtype float64 by default, call `tf.keras.backend.set_floatx('float64')`. To change just this layer, pass dtype='float64' to the layer constructor. If you are the author of this layer, you can disable autocasting by passing autocast=False to the base Layer constructor.\n",
            "\n",
            "INFO:tensorflow:Done calling model_fn.\n",
            "INFO:tensorflow:Starting evaluation at 2020-04-30T20:31:19Z\n",
            "INFO:tensorflow:Graph was finalized.\n",
            "INFO:tensorflow:Restoring parameters from /tmp/tmpnc8nlswl/model.ckpt-500\n",
            "INFO:tensorflow:Running local_init_op.\n",
            "INFO:tensorflow:Done running local_init_op.\n",
            "INFO:tensorflow:Inference Time : 0.69671s\n",
            "INFO:tensorflow:Finished evaluation at 2020-04-30-20:31:19\n",
            "INFO:tensorflow:Saving dict for global step 500: accuracy = 0.7709497, accuracy_baseline = 0.59217876, auc = 0.8316749, auc_precision_recall = 0.7995031, average_loss = 0.49102288, global_step = 500, label/mean = 0.40782124, loss = 0.49102288, precision = 0.76666665, prediction/mean = 0.35330972, recall = 0.63013697\n",
            "INFO:tensorflow:Saving 'checkpoint_path' summary for global step 500: /tmp/tmpnc8nlswl/model.ckpt-500\n",
            "\n",
            "Test accuracy: 77.094972%\n",
            "\n"
          ],
          "name": "stdout"
        }
      ]
    },
    {
      "cell_type": "markdown",
      "metadata": {
        "id": "Muul7m33qq3r",
        "colab_type": "text"
      },
      "source": [
        "**TEST DATA**"
      ]
    },
    {
      "cell_type": "code",
      "metadata": {
        "id": "IWCzZ0gMQaI1",
        "colab_type": "code",
        "colab": {}
      },
      "source": [
        "test_input_fn = tf.compat.v1.estimator.inputs.pandas_input_fn(x=test_x,\n",
        "                                                              num_epochs=1,\n",
        "                                                              batch_size=len(test_x),\n",
        "                                                              shuffle=False)"
      ],
      "execution_count": 0,
      "outputs": []
    },
    {
      "cell_type": "code",
      "metadata": {
        "id": "patHxi9Fqt1S",
        "colab_type": "code",
        "outputId": "69ff943f-05fb-44ba-ac1f-d2cc316d1ab0",
        "colab": {
          "base_uri": "https://localhost:8080/",
          "height": 428
        }
      },
      "source": [
        "LABEL =['YOU DIED', 'YOU LIVED']\n",
        "predictions = model.predict(input_fn=test_input_fn)\n",
        "for i, predict in enumerate(predictions):\n",
        "    label_ = predict['class_ids'][0]\n",
        "    probs = predict['probabilities'][label_]\n",
        "    print(f'Prediction \\t{LABEL[label_]} ({100*probs} %) ')\n",
        "    if i==10: break"
      ],
      "execution_count": 1591,
      "outputs": [
        {
          "output_type": "stream",
          "text": [
            "INFO:tensorflow:Calling model_fn.\n",
            "WARNING:tensorflow:Layer dnn is casting an input tensor from dtype float64 to the layer's dtype of float32, which is new behavior in TensorFlow 2.  The layer has dtype float32 because it's dtype defaults to floatx.\n",
            "\n",
            "If you intended to run this layer in float32, you can safely ignore this warning. If in doubt, this warning is likely only an issue if you are porting a TensorFlow 1.X model to TensorFlow 2.\n",
            "\n",
            "To change all layers to have dtype float64 by default, call `tf.keras.backend.set_floatx('float64')`. To change just this layer, pass dtype='float64' to the layer constructor. If you are the author of this layer, you can disable autocasting by passing autocast=False to the base Layer constructor.\n",
            "\n",
            "INFO:tensorflow:Done calling model_fn.\n",
            "INFO:tensorflow:Graph was finalized.\n",
            "INFO:tensorflow:Restoring parameters from /tmp/tmpnc8nlswl/model.ckpt-500\n",
            "INFO:tensorflow:Running local_init_op.\n",
            "INFO:tensorflow:Done running local_init_op.\n",
            "Prediction \tYOU DIED (88.58720064163208 %) \n",
            "Prediction \tYOU DIED (58.219313621520996 %) \n",
            "Prediction \tYOU DIED (86.60492897033691 %) \n",
            "Prediction \tYOU DIED (90.80526828765869 %) \n",
            "Prediction \tYOU DIED (59.26775932312012 %) \n",
            "Prediction \tYOU DIED (84.38296914100647 %) \n",
            "Prediction \tYOU LIVED (70.31823992729187 %) \n",
            "Prediction \tYOU DIED (88.48382234573364 %) \n",
            "Prediction \tYOU LIVED (62.8265917301178 %) \n",
            "Prediction \tYOU DIED (92.20805168151855 %) \n",
            "Prediction \tYOU DIED (91.73411726951599 %) \n"
          ],
          "name": "stdout"
        }
      ]
    },
    {
      "cell_type": "markdown",
      "metadata": {
        "id": "erYThZaEe6Vh",
        "colab_type": "text"
      },
      "source": [
        "Boosted decision trees"
      ]
    },
    {
      "cell_type": "code",
      "metadata": {
        "id": "S_93AKjae5Cu",
        "colab_type": "code",
        "colab": {
          "base_uri": "https://localhost:8080/",
          "height": 190
        },
        "outputId": "0eebf4bb-b09e-42ef-b6a0-da879aba178b"
      },
      "source": [
        "treemodel = tf.estimator.BoostedTreesClassifier(feature_columns=ft_columns, n_batches_per_layer=1)"
      ],
      "execution_count": 1592,
      "outputs": [
        {
          "output_type": "stream",
          "text": [
            "INFO:tensorflow:Using default config.\n",
            "WARNING:tensorflow:Using temporary folder as model directory: /tmp/tmpnu0euoz0\n",
            "INFO:tensorflow:Using config: {'_model_dir': '/tmp/tmpnu0euoz0', '_tf_random_seed': None, '_save_summary_steps': 100, '_save_checkpoints_steps': None, '_save_checkpoints_secs': 600, '_session_config': allow_soft_placement: true\n",
            "graph_options {\n",
            "  rewrite_options {\n",
            "    meta_optimizer_iterations: ONE\n",
            "  }\n",
            "}\n",
            ", '_keep_checkpoint_max': 5, '_keep_checkpoint_every_n_hours': 10000, '_log_step_count_steps': 100, '_train_distribute': None, '_device_fn': None, '_protocol': None, '_eval_distribute': None, '_experimental_distribute': None, '_experimental_max_worker_delay_secs': None, '_session_creation_timeout_secs': 7200, '_service': None, '_cluster_spec': ClusterSpec({}), '_task_type': 'worker', '_task_id': 0, '_global_id_in_cluster': 0, '_master': '', '_evaluation_master': '', '_is_chief': True, '_num_ps_replicas': 0, '_num_worker_replicas': 1}\n"
          ],
          "name": "stdout"
        }
      ]
    },
    {
      "cell_type": "code",
      "metadata": {
        "id": "fOBYtW9OgfWG",
        "colab_type": "code",
        "colab": {
          "base_uri": "https://localhost:8080/",
          "height": 646
        },
        "outputId": "a3352eb6-c6cc-4d0c-c439-f6ec282f9ba4"
      },
      "source": [
        "treemodel.train(input_fn=train_input_fn, steps=500)"
      ],
      "execution_count": 1593,
      "outputs": [
        {
          "output_type": "stream",
          "text": [
            "INFO:tensorflow:Calling model_fn.\n",
            "INFO:tensorflow:Done calling model_fn.\n",
            "INFO:tensorflow:Create CheckpointSaverHook.\n",
            "WARNING:tensorflow:Issue encountered when serializing resources.\n",
            "Type is unsupported, or the types of the items don't match field type in CollectionDef. Note this is a warning and probably safe to ignore.\n",
            "'_Resource' object has no attribute 'name'\n",
            "INFO:tensorflow:Graph was finalized.\n",
            "INFO:tensorflow:Running local_init_op.\n",
            "INFO:tensorflow:Done running local_init_op.\n",
            "WARNING:tensorflow:Issue encountered when serializing resources.\n",
            "Type is unsupported, or the types of the items don't match field type in CollectionDef. Note this is a warning and probably safe to ignore.\n",
            "'_Resource' object has no attribute 'name'\n",
            "INFO:tensorflow:Calling checkpoint listeners before saving checkpoint 0...\n",
            "INFO:tensorflow:Saving checkpoints for 0 into /tmp/tmpnu0euoz0/model.ckpt.\n",
            "WARNING:tensorflow:Issue encountered when serializing resources.\n",
            "Type is unsupported, or the types of the items don't match field type in CollectionDef. Note this is a warning and probably safe to ignore.\n",
            "'_Resource' object has no attribute 'name'\n",
            "INFO:tensorflow:Calling checkpoint listeners after saving checkpoint 0...\n",
            "INFO:tensorflow:loss = 0.6931472, step = 0\n",
            "INFO:tensorflow:global_step/sec: 152.668\n",
            "INFO:tensorflow:loss = 0.29978526, step = 99 (0.659 sec)\n",
            "INFO:tensorflow:global_step/sec: 171.666\n",
            "INFO:tensorflow:loss = 0.20218584, step = 199 (0.580 sec)\n",
            "INFO:tensorflow:global_step/sec: 159.339\n",
            "INFO:tensorflow:loss = 0.24352843, step = 299 (0.631 sec)\n",
            "INFO:tensorflow:global_step/sec: 148.694\n",
            "INFO:tensorflow:loss = 0.16075109, step = 399 (0.669 sec)\n",
            "INFO:tensorflow:global_step/sec: 137.76\n",
            "INFO:tensorflow:loss = 0.16740833, step = 499 (0.726 sec)\n",
            "INFO:tensorflow:Calling checkpoint listeners before saving checkpoint 500...\n",
            "INFO:tensorflow:Saving checkpoints for 500 into /tmp/tmpnu0euoz0/model.ckpt.\n",
            "WARNING:tensorflow:Issue encountered when serializing resources.\n",
            "Type is unsupported, or the types of the items don't match field type in CollectionDef. Note this is a warning and probably safe to ignore.\n",
            "'_Resource' object has no attribute 'name'\n",
            "INFO:tensorflow:Calling checkpoint listeners after saving checkpoint 500...\n",
            "INFO:tensorflow:Loss for final step: 0.16740833.\n"
          ],
          "name": "stdout"
        },
        {
          "output_type": "execute_result",
          "data": {
            "text/plain": [
              "<tensorflow_estimator.python.estimator.canned.boosted_trees.BoostedTreesClassifier at 0x7fd5ae5d4f98>"
            ]
          },
          "metadata": {
            "tags": []
          },
          "execution_count": 1593
        }
      ]
    },
    {
      "cell_type": "code",
      "metadata": {
        "id": "yNcSvR2dhEc8",
        "colab_type": "code",
        "colab": {
          "base_uri": "https://localhost:8080/",
          "height": 360
        },
        "outputId": "dc28a8d3-94d9-4c0e-b79e-a21a56618a91"
      },
      "source": [
        "accuracy_score = treemodel.evaluate(input_fn=val_input_fn)[\"accuracy\"]\n",
        "print(\"\\nTest accuracy: {0:f}%\\n\".format(accuracy_score*100))"
      ],
      "execution_count": 1594,
      "outputs": [
        {
          "output_type": "stream",
          "text": [
            "INFO:tensorflow:Calling model_fn.\n",
            "WARNING:tensorflow:Trapezoidal rule is known to produce incorrect PR-AUCs; please switch to \"careful_interpolation\" instead.\n",
            "WARNING:tensorflow:Trapezoidal rule is known to produce incorrect PR-AUCs; please switch to \"careful_interpolation\" instead.\n",
            "INFO:tensorflow:Done calling model_fn.\n",
            "INFO:tensorflow:Starting evaluation at 2020-04-30T20:31:25Z\n",
            "INFO:tensorflow:Graph was finalized.\n",
            "INFO:tensorflow:Restoring parameters from /tmp/tmpnu0euoz0/model.ckpt-500\n",
            "INFO:tensorflow:Running local_init_op.\n",
            "INFO:tensorflow:Done running local_init_op.\n",
            "INFO:tensorflow:Inference Time : 0.58500s\n",
            "INFO:tensorflow:Finished evaluation at 2020-04-30-20:31:26\n",
            "INFO:tensorflow:Saving dict for global step 500: accuracy = 0.7932961, accuracy_baseline = 0.59217876, auc = 0.8530628, auc_precision_recall = 0.81369996, average_loss = 0.6434807, global_step = 500, label/mean = 0.40782124, loss = 0.6434807, precision = 0.8, prediction/mean = 0.3520006, recall = 0.65753424\n",
            "WARNING:tensorflow:Issue encountered when serializing resources.\n",
            "Type is unsupported, or the types of the items don't match field type in CollectionDef. Note this is a warning and probably safe to ignore.\n",
            "'_Resource' object has no attribute 'name'\n",
            "INFO:tensorflow:Saving 'checkpoint_path' summary for global step 500: /tmp/tmpnu0euoz0/model.ckpt-500\n",
            "\n",
            "Test accuracy: 79.329610%\n",
            "\n"
          ],
          "name": "stdout"
        }
      ]
    },
    {
      "cell_type": "code",
      "metadata": {
        "id": "QyUtTskpiYak",
        "colab_type": "code",
        "colab": {
          "base_uri": "https://localhost:8080/",
          "height": 306
        },
        "outputId": "f46e654a-919f-427d-b5f8-fbeb012b4436"
      },
      "source": [
        "LABEL =['YOU DIED', 'YOU LIVED']\n",
        "predictions = treemodel.predict(input_fn=test_input_fn)\n",
        "for i, predict in enumerate(predictions):\n",
        "    label_ = predict['class_ids'][0]\n",
        "    probs = predict['probabilities'][label_]\n",
        "    print(f'Prediction \\t{LABEL[label_]} ({100*probs} %) ')\n",
        "    if i==10: break"
      ],
      "execution_count": 1595,
      "outputs": [
        {
          "output_type": "stream",
          "text": [
            "INFO:tensorflow:Calling model_fn.\n",
            "INFO:tensorflow:Done calling model_fn.\n",
            "INFO:tensorflow:Graph was finalized.\n",
            "INFO:tensorflow:Restoring parameters from /tmp/tmpnu0euoz0/model.ckpt-500\n",
            "INFO:tensorflow:Running local_init_op.\n",
            "INFO:tensorflow:Done running local_init_op.\n",
            "Prediction \tYOU DIED (99.83439445495605 %) \n",
            "Prediction \tYOU DIED (96.85419797897339 %) \n",
            "Prediction \tYOU DIED (98.64720106124878 %) \n",
            "Prediction \tYOU DIED (73.42827320098877 %) \n",
            "Prediction \tYOU DIED (94.23112273216248 %) \n",
            "Prediction \tYOU DIED (65.06338715553284 %) \n",
            "Prediction \tYOU DIED (83.68947505950928 %) \n",
            "Prediction \tYOU DIED (99.59249496459961 %) \n",
            "Prediction \tYOU LIVED (98.56703877449036 %) \n",
            "Prediction \tYOU DIED (99.55267310142517 %) \n",
            "Prediction \tYOU DIED (99.94274377822876 %) \n"
          ],
          "name": "stdout"
        }
      ]
    }
  ]
}