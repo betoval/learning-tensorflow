{
  "nbformat": 4,
  "nbformat_minor": 0,
  "metadata": {
    "colab": {
      "name": "intro-tensorflow2.ipynb",
      "provenance": [],
      "authorship_tag": "ABX9TyNmuaI3QHRlBGstb2qyD1ef",
      "include_colab_link": true
    },
    "kernelspec": {
      "name": "python3",
      "display_name": "Python 3"
    }
  },
  "cells": [
    {
      "cell_type": "markdown",
      "metadata": {
        "id": "view-in-github",
        "colab_type": "text"
      },
      "source": [
        "<a href=\"https://colab.research.google.com/github/betoval/learning-tensorflow/blob/master/intro_tensorflow2.ipynb\" target=\"_parent\"><img src=\"https://colab.research.google.com/assets/colab-badge.svg\" alt=\"Open In Colab\"/></a>"
      ]
    },
    {
      "cell_type": "code",
      "metadata": {
        "id": "OUxQYBxMcwrX",
        "colab_type": "code",
        "colab": {
          "base_uri": "https://localhost:8080/",
          "height": 34
        },
        "outputId": "dd9c6350-43f8-4ad7-cda0-d4f50dd74cae"
      },
      "source": [
        "%tensorflow_version 2.x\n",
        "import tensorflow as tf\n",
        "\n",
        "var = tf.Variable([3,3])\n",
        "\n",
        "#the command mentioned in the book is deprecated\n",
        "#config.list is the new command\n",
        "if tf.test.is_gpu_available():\n",
        "  print('Running on GPU')\n",
        "  print('GPU #0?')\n",
        "  print(var.device.endswith('GPU:0'))\n",
        "else:\n",
        "  print('Running on CPU')"
      ],
      "execution_count": 10,
      "outputs": [
        {
          "output_type": "stream",
          "text": [
            "Running on CPU\n"
          ],
          "name": "stdout"
        }
      ]
    },
    {
      "cell_type": "markdown",
      "metadata": {
        "id": "_rlVYuAKlEOM",
        "colab_type": "text"
      },
      "source": [
        "If we choose GPU in the notebook settings, then we will obtain GPU as output (duh). However, we do not need a lot of resources right now, we will stick to CPU."
      ]
    },
    {
      "cell_type": "markdown",
      "metadata": {
        "id": "TMaugkDx_geM",
        "colab_type": "text"
      },
      "source": [
        "**Declaring eager variables, wtf is a tensor?, and all that preliminary stuff** \n",
        "\n",
        "The rank specifies the number of \"dimensions\" (n) of the tensor, that is, it indicates the number of indices that are required to specify a particular element of that tensor. For me, it is easier to think of tensors as n-forms. In the example below, we are talking about a 3-form, that is, an object with 3 indices.\n",
        "If you want to visualize them, then think of tensors as matrices. In this example, we are working with a 3 dimensional matrix with 2 slices, 2 rows and 3 columns (this info is given by the shape of the tensor, that is, shape = (2, 2, 3)). Thus, if we want to assign a new value to an entry, then we need to specify three numbers corresponding to the slice, row and column."
      ]
    },
    {
      "cell_type": "code",
      "metadata": {
        "id": "ZXoLtLYCgoTN",
        "colab_type": "code",
        "colab": {
          "base_uri": "https://localhost:8080/",
          "height": 187
        },
        "outputId": "dba2f037-6762-4d85-f7ec-c5e25ebccb7b"
      },
      "source": [
        "#declaring eager variables\n",
        "t0 = 24 #python variable\n",
        "t1 = tf.Variable(42) # scalar or 0 rank tensor\n",
        "#3-form or rank 3 tensor\n",
        "t2 = tf.Variable([[[0.,1.,2.],[3.,4.,5.]],[[6.,7.,8.],[9.,10.,11.]]]) #datatype=float32\n",
        "print(tf.rank(t2)) #print the rank of the tensor\n",
        "t2[1,1,1].assign(33) #assign new value to the entry 1,1,1\n",
        "print(t2.shape) #print shape of tensor\n",
        "t0,t1,t2"
      ],
      "execution_count": 22,
      "outputs": [
        {
          "output_type": "stream",
          "text": [
            "tf.Tensor(3, shape=(), dtype=int32)\n",
            "(2, 2, 3)\n"
          ],
          "name": "stdout"
        },
        {
          "output_type": "execute_result",
          "data": {
            "text/plain": [
              "(24,\n",
              " <tf.Variable 'Variable:0' shape=() dtype=int32, numpy=42>,\n",
              " <tf.Variable 'Variable:0' shape=(2, 2, 3) dtype=float32, numpy=\n",
              " array([[[ 0.,  1.,  2.],\n",
              "         [ 3.,  4.,  5.]],\n",
              " \n",
              "        [[ 6.,  7.,  8.],\n",
              "         [ 9., 33., 11.]]], dtype=float32)>)"
            ]
          },
          "metadata": {
            "tags": []
          },
          "execution_count": 22
        }
      ]
    },
    {
      "cell_type": "markdown",
      "metadata": {
        "id": "erAwZdZY7Nbp",
        "colab_type": "text"
      },
      "source": [
        "**Reshaping a tensor**\n",
        "\n",
        "The snippet below shows how to reshape a tensor. We took the already defined t2 tensor. In the first line we reshape it to a 2-form (rank 2 tensor), which can be visualized as a matrix with 2 rows and 6 columns. In the second line we did something similar."
      ]
    },
    {
      "cell_type": "code",
      "metadata": {
        "id": "1RY0vAHsuGDk",
        "colab_type": "code",
        "colab": {
          "base_uri": "https://localhost:8080/",
          "height": 119
        },
        "outputId": "44032b27-b398-4ecc-bd58-7bf7a2ea654a"
      },
      "source": [
        "#reshaping a tensor\n",
        "r1 = tf.reshape(t2,[2,6]) #2 rows 6 columns\n",
        "r2 = tf.reshape(t2,[1,12]) #1 rows 12 cols\n",
        "r1,r2\n"
      ],
      "execution_count": 26,
      "outputs": [
        {
          "output_type": "execute_result",
          "data": {
            "text/plain": [
              "(<tf.Tensor: shape=(2, 6), dtype=float32, numpy=\n",
              " array([[ 0.,  1.,  2.,  3.,  4.,  5.],\n",
              "        [ 6.,  7.,  8.,  9., 33., 11.]], dtype=float32)>,\n",
              " <tf.Tensor: shape=(1, 12), dtype=float32, numpy=\n",
              " array([[ 0.,  1.,  2.,  3.,  4.,  5.,  6.,  7.,  8.,  9., 33., 11.]],\n",
              "       dtype=float32)>)"
            ]
          },
          "metadata": {
            "tags": []
          },
          "execution_count": 26
        }
      ]
    },
    {
      "cell_type": "code",
      "metadata": {
        "id": "z_Zu5CCe3Spd",
        "colab_type": "code",
        "colab": {
          "base_uri": "https://localhost:8080/",
          "height": 136
        },
        "outputId": "59df28bf-3e9a-48a2-f135-1cec1448735c"
      },
      "source": [
        "#Tensor as a numpy/python variable\n",
        "print(t2.numpy())\n",
        "print(t2[1,0,2].numpy())\n",
        "#number of elements of a tensor (size)\n",
        "s = tf.size(input = t2).numpy()\n",
        "s"
      ],
      "execution_count": 34,
      "outputs": [
        {
          "output_type": "stream",
          "text": [
            "[[[ 0.  1.  2.]\n",
            "  [ 3.  4.  5.]]\n",
            "\n",
            " [[ 6.  7.  8.]\n",
            "  [ 9. 33. 11.]]]\n",
            "8.0\n"
          ],
          "name": "stdout"
        },
        {
          "output_type": "execute_result",
          "data": {
            "text/plain": [
              "12"
            ]
          },
          "metadata": {
            "tags": []
          },
          "execution_count": 34
        }
      ]
    },
    {
      "cell_type": "markdown",
      "metadata": {
        "id": "wPOJ2bZv7f7N",
        "colab_type": "text"
      },
      "source": [
        "**Operations between tensors.**\n",
        "\n",
        "We can operate between the elements of a tensor using the operators +, -, * and /. They also accept broadcasting, that is, arithmetic operations between tensors of different shape (just like broadcasting in python/numpy between arrays of different shape). In the example below, we multiply a rank3 tensor by a scalar"
      ]
    },
    {
      "cell_type": "code",
      "metadata": {
        "id": "g8UB491R4vGV",
        "colab_type": "code",
        "colab": {
          "base_uri": "https://localhost:8080/",
          "height": 119
        },
        "outputId": "e68f2420-c85e-45c5-b95e-69b4290606d5"
      },
      "source": [
        "#Tensor operations\n",
        "t2*t2\n",
        "#broadcasting\n",
        "t4 = t2*4\n",
        "print(t4)"
      ],
      "execution_count": 39,
      "outputs": [
        {
          "output_type": "stream",
          "text": [
            "tf.Tensor(\n",
            "[[[  0.   4.   8.]\n",
            "  [ 12.  16.  20.]]\n",
            "\n",
            " [[ 24.  28.  32.]\n",
            "  [ 36. 132.  44.]]], shape=(2, 2, 3), dtype=float32)\n"
          ],
          "name": "stdout"
        }
      ]
    },
    {
      "cell_type": "markdown",
      "metadata": {
        "id": "qKh3tYT7-ojh",
        "colab_type": "text"
      },
      "source": [
        "**Matrix multiplication and transpose**\n",
        "\n",
        "We use tf.matmul() to multiply matrices, and tf.trnaspose() to obtain the corresponding trnaspose matrix. Here, we define two row matrices u, v, then we consider the transpose of v. Finally, we multiply v*v^t. The result is a 1x1 matrix."
      ]
    },
    {
      "cell_type": "code",
      "metadata": {
        "id": "vpQyW6999IUl",
        "colab_type": "code",
        "colab": {
          "base_uri": "https://localhost:8080/",
          "height": 34
        },
        "outputId": "3ce471bf-3b8e-48be-a9b4-9ada9f00f5bb"
      },
      "source": [
        "#matrix multiplication\n",
        "u = tf.constant([[3,4,5]]) #row matrix\n",
        "v = tf.constant([[1,2,1]]) #row matrix\n",
        "tf.matmul(u,tf.transpose(a=v)) #multiply u with v transpose"
      ],
      "execution_count": 40,
      "outputs": [
        {
          "output_type": "execute_result",
          "data": {
            "text/plain": [
              "<tf.Tensor: shape=(1, 1), dtype=int32, numpy=array([[16]], dtype=int32)>"
            ]
          },
          "metadata": {
            "tags": []
          },
          "execution_count": 40
        }
      ]
    },
    {
      "cell_type": "markdown",
      "metadata": {
        "id": "wxXOjsFiBUED",
        "colab_type": "text"
      },
      "source": [
        "**Ragged tensors**\n",
        "\n",
        "A ragged tensor has one or more ragged dimensions. A ragged dimension is a property of the slices. It basically indicates that such slices may have different shapes as seen in the example below"
      ]
    },
    {
      "cell_type": "code",
      "metadata": {
        "id": "Y1Pg6W97CHOQ",
        "colab_type": "code",
        "colab": {
          "base_uri": "https://localhost:8080/",
          "height": 119
        },
        "outputId": "f221e6ce-e947-4e93-c6a8-b4dc244d64fc"
      },
      "source": [
        "#declare ragged constant array\n",
        "ragged = tf.ragged.constant([[5,2,6,1],[],[4,10,7], [8], [6,7]])\n",
        "print(ragged)\n",
        "print(ragged[0,:])\n",
        "print(ragged[1,:])\n",
        "print(ragged[2,:])\n",
        "print(ragged[3,:])\n",
        "print(ragged[4,:])"
      ],
      "execution_count": 41,
      "outputs": [
        {
          "output_type": "stream",
          "text": [
            "<tf.RaggedTensor [[5, 2, 6, 1], [], [4, 10, 7], [8], [6, 7]]>\n",
            "tf.Tensor([5 2 6 1], shape=(4,), dtype=int32)\n",
            "tf.Tensor([], shape=(0,), dtype=int32)\n",
            "tf.Tensor([ 4 10  7], shape=(3,), dtype=int32)\n",
            "tf.Tensor([8], shape=(1,), dtype=int32)\n",
            "tf.Tensor([6 7], shape=(2,), dtype=int32)\n"
          ],
          "name": "stdout"
        }
      ]
    }
  ]
}