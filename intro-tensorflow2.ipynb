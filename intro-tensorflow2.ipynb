{
  "nbformat": 4,
  "nbformat_minor": 0,
  "metadata": {
    "colab": {
      "name": "intro-tensorflow2.ipynb",
      "provenance": [],
      "collapsed_sections": [],
      "authorship_tag": "ABX9TyO+9ugBlb2gKHMbXut27/0W",
      "include_colab_link": true
    },
    "kernelspec": {
      "name": "python3",
      "display_name": "Python 3"
    }
  },
  "cells": [
    {
      "cell_type": "markdown",
      "metadata": {
        "id": "view-in-github",
        "colab_type": "text"
      },
      "source": [
        "<a href=\"https://colab.research.google.com/github/betoval/learning-tensorflow/blob/master/intro-tensorflow2.ipynb\" target=\"_parent\"><img src=\"https://colab.research.google.com/assets/colab-badge.svg\" alt=\"Open In Colab\"/></a>"
      ]
    },
    {
      "cell_type": "code",
      "metadata": {
        "id": "OUxQYBxMcwrX",
        "colab_type": "code",
        "outputId": "eb8eed9d-c075-4e46-e11d-b32e9662d027",
        "colab": {
          "base_uri": "https://localhost:8080/",
          "height": 34
        }
      },
      "source": [
        "%tensorflow_version 2.x\n",
        "import tensorflow as tf\n",
        "\n",
        "var = tf.Variable([3,3])\n",
        "\n",
        "#the command mentioned in the book is deprecated\n",
        "#config.list is the new command\n",
        "if tf.config.list_physical_devices('GPU'):\n",
        "  print('Running on GPU')\n",
        "  print('GPU #0?')\n",
        "  print(var.device.endswith('GPU:0'))\n",
        "else:\n",
        "  print('Running on CPU')"
      ],
      "execution_count": 0,
      "outputs": [
        {
          "output_type": "stream",
          "text": [
            "Running on CPU\n"
          ],
          "name": "stdout"
        }
      ]
    },
    {
      "cell_type": "markdown",
      "metadata": {
        "id": "_rlVYuAKlEOM",
        "colab_type": "text"
      },
      "source": [
        "If we choose GPU in the notebook settings, then we will obtain GPU as output (duh). However, we do not need a lot of resources right now, we will stick to CPU."
      ]
    },
    {
      "cell_type": "markdown",
      "metadata": {
        "id": "TMaugkDx_geM",
        "colab_type": "text"
      },
      "source": [
        "**Declaring eager variables, wtf is a tensor?, and all that preliminary stuff** \n",
        "\n",
        "The rank specifies the number of \"dimensions\" (n) of the tensor, that is, it indicates the number of indices that are required to specify a particular element of that tensor. For me, it is easier to think of tensors as n-forms. In the example below, we are talking about a 3-form, that is, an object with 3 indices.\n",
        "If you want to visualize them, then think of tensors as matrices. In this example, we are working with a 3 dimensional matrix with 2 slices, 2 rows and 3 columns (this info is given by the shape of the tensor, that is, shape = (2, 2, 3)). Thus, if we want to assign a new value to an entry, then we need to specify three numbers corresponding to the slice, row and column."
      ]
    },
    {
      "cell_type": "code",
      "metadata": {
        "id": "ZXoLtLYCgoTN",
        "colab_type": "code",
        "outputId": "bc5cbd6d-6d59-48cc-db95-b66f22693cad",
        "colab": {
          "base_uri": "https://localhost:8080/",
          "height": 187
        }
      },
      "source": [
        "#declaring eager variables\n",
        "t0 = 24 #python variable\n",
        "t1 = tf.Variable(42) # scalar or 0 rank tensor\n",
        "#3-form or rank 3 tensor\n",
        "t2 = tf.Variable([[[0.,1.,2.],[3.,4.,5.]],[[6.,7.,8.],[9.,10.,11.]]]) #datatype=float32\n",
        "print(tf.rank(t2)) #print the rank of the tensor\n",
        "t2[1,1,1].assign(33) #assign new value to the entry 1,1,1\n",
        "print(t2.shape) #print shape of tensor\n",
        "t0,t1,t2"
      ],
      "execution_count": 0,
      "outputs": [
        {
          "output_type": "stream",
          "text": [
            "tf.Tensor(3, shape=(), dtype=int32)\n",
            "(2, 2, 3)\n"
          ],
          "name": "stdout"
        },
        {
          "output_type": "execute_result",
          "data": {
            "text/plain": [
              "(24,\n",
              " <tf.Variable 'Variable:0' shape=() dtype=int32, numpy=42>,\n",
              " <tf.Variable 'Variable:0' shape=(2, 2, 3) dtype=float32, numpy=\n",
              " array([[[ 0.,  1.,  2.],\n",
              "         [ 3.,  4.,  5.]],\n",
              " \n",
              "        [[ 6.,  7.,  8.],\n",
              "         [ 9., 33., 11.]]], dtype=float32)>)"
            ]
          },
          "metadata": {
            "tags": []
          },
          "execution_count": 3
        }
      ]
    },
    {
      "cell_type": "markdown",
      "metadata": {
        "id": "erAwZdZY7Nbp",
        "colab_type": "text"
      },
      "source": [
        "**Reshaping a tensor**\n",
        "\n",
        "The snippet below shows how to reshape a tensor. We took the already defined t2 tensor. In the first line we reshape it to a 2-form (rank 2 tensor), which can be visualized as a matrix with 2 rows and 6 columns. In the second line we did something similar."
      ]
    },
    {
      "cell_type": "code",
      "metadata": {
        "id": "1RY0vAHsuGDk",
        "colab_type": "code",
        "outputId": "520a9ebd-7b4f-4046-e658-2bcf7b8d5a43",
        "colab": {
          "base_uri": "https://localhost:8080/",
          "height": 119
        }
      },
      "source": [
        "#reshaping a tensor\n",
        "r1 = tf.reshape(t2,[2,6]) #2 rows 6 columns\n",
        "r2 = tf.reshape(t2,[1,12]) #1 rows 12 cols\n",
        "r1,r2\n"
      ],
      "execution_count": 0,
      "outputs": [
        {
          "output_type": "execute_result",
          "data": {
            "text/plain": [
              "(<tf.Tensor: shape=(2, 6), dtype=float32, numpy=\n",
              " array([[ 0.,  1.,  2.,  3.,  4.,  5.],\n",
              "        [ 6.,  7.,  8.,  9., 33., 11.]], dtype=float32)>,\n",
              " <tf.Tensor: shape=(1, 12), dtype=float32, numpy=\n",
              " array([[ 0.,  1.,  2.,  3.,  4.,  5.,  6.,  7.,  8.,  9., 33., 11.]],\n",
              "       dtype=float32)>)"
            ]
          },
          "metadata": {
            "tags": []
          },
          "execution_count": 4
        }
      ]
    },
    {
      "cell_type": "code",
      "metadata": {
        "id": "z_Zu5CCe3Spd",
        "colab_type": "code",
        "outputId": "9beec3f9-d52f-4676-83ac-ef244ebdbc9a",
        "colab": {
          "base_uri": "https://localhost:8080/",
          "height": 136
        }
      },
      "source": [
        "#Tensor as a numpy/python variable\n",
        "print(t2.numpy())\n",
        "print(t2[1,0,2].numpy())\n",
        "#number of elements of a tensor (size)\n",
        "s = tf.size(input = t2).numpy()\n",
        "s"
      ],
      "execution_count": 0,
      "outputs": [
        {
          "output_type": "stream",
          "text": [
            "[[[ 0.  1.  2.]\n",
            "  [ 3.  4.  5.]]\n",
            "\n",
            " [[ 6.  7.  8.]\n",
            "  [ 9. 33. 11.]]]\n",
            "8.0\n"
          ],
          "name": "stdout"
        },
        {
          "output_type": "execute_result",
          "data": {
            "text/plain": [
              "12"
            ]
          },
          "metadata": {
            "tags": []
          },
          "execution_count": 5
        }
      ]
    },
    {
      "cell_type": "markdown",
      "metadata": {
        "id": "wPOJ2bZv7f7N",
        "colab_type": "text"
      },
      "source": [
        "**Operations between tensors.**\n",
        "\n",
        "We can operate between the elements of a tensor using the operators +, -, * and /. They also accept broadcasting, that is, arithmetic operations between tensors of different shape (just like broadcasting in python/numpy between arrays of different shape). In the example below, we multiply a rank3 tensor by a scalar"
      ]
    },
    {
      "cell_type": "code",
      "metadata": {
        "id": "g8UB491R4vGV",
        "colab_type": "code",
        "outputId": "d33aae67-e902-4905-b322-0fdbfdcc3ef2",
        "colab": {
          "base_uri": "https://localhost:8080/",
          "height": 119
        }
      },
      "source": [
        "#Tensor operations\n",
        "t2*t2\n",
        "#broadcasting\n",
        "t4 = t2*4\n",
        "print(t4)"
      ],
      "execution_count": 0,
      "outputs": [
        {
          "output_type": "stream",
          "text": [
            "tf.Tensor(\n",
            "[[[  0.   4.   8.]\n",
            "  [ 12.  16.  20.]]\n",
            "\n",
            " [[ 24.  28.  32.]\n",
            "  [ 36. 132.  44.]]], shape=(2, 2, 3), dtype=float32)\n"
          ],
          "name": "stdout"
        }
      ]
    },
    {
      "cell_type": "markdown",
      "metadata": {
        "id": "qKh3tYT7-ojh",
        "colab_type": "text"
      },
      "source": [
        "**Matrix multiplication and transpose**\n",
        "\n",
        "We use tf.matmul() to multiply matrices, and tf.trnaspose() to obtain the corresponding trnaspose matrix. Here, we define two row matrices u, v, then we consider the transpose of v. Finally, we multiply v*v^t. The result is a 1x1 matrix."
      ]
    },
    {
      "cell_type": "code",
      "metadata": {
        "id": "vpQyW6999IUl",
        "colab_type": "code",
        "outputId": "6a7d5a9d-cc88-4635-9c54-1dd6076a51a6",
        "colab": {
          "base_uri": "https://localhost:8080/",
          "height": 34
        }
      },
      "source": [
        "#matrix multiplication\n",
        "u = tf.constant([[3,4,5]]) #row matrix\n",
        "v = tf.constant([[1,2,1]]) #row matrix\n",
        "tf.matmul(u,tf.transpose(a=v)) #multiply u with v transpose"
      ],
      "execution_count": 0,
      "outputs": [
        {
          "output_type": "execute_result",
          "data": {
            "text/plain": [
              "<tf.Tensor: shape=(1, 1), dtype=int32, numpy=array([[16]], dtype=int32)>"
            ]
          },
          "metadata": {
            "tags": []
          },
          "execution_count": 7
        }
      ]
    },
    {
      "cell_type": "markdown",
      "metadata": {
        "id": "wxXOjsFiBUED",
        "colab_type": "text"
      },
      "source": [
        "**Ragged tensors**\n",
        "\n",
        "A ragged tensor has one or more ragged dimensions. A ragged dimension is a property of the slices. It basically indicates that such slices may have different shapes as seen in the example below"
      ]
    },
    {
      "cell_type": "code",
      "metadata": {
        "id": "Y1Pg6W97CHOQ",
        "colab_type": "code",
        "outputId": "71b2b55f-8e60-4984-f2c1-c45e3f2f7eac",
        "colab": {
          "base_uri": "https://localhost:8080/",
          "height": 119
        }
      },
      "source": [
        "#declare ragged constant array\n",
        "ragged = tf.ragged.constant([[5,2,6,1],[],[4,10,7], [8], [6,7]])\n",
        "print(ragged)\n",
        "print(ragged[0,:])\n",
        "print(ragged[1,:])\n",
        "print(ragged[2,:])\n",
        "print(ragged[3,:])\n",
        "print(ragged[4,:])"
      ],
      "execution_count": 0,
      "outputs": [
        {
          "output_type": "stream",
          "text": [
            "<tf.RaggedTensor [[5, 2, 6, 1], [], [4, 10, 7], [8], [6, 7]]>\n",
            "tf.Tensor([5 2 6 1], shape=(4,), dtype=int32)\n",
            "tf.Tensor([], shape=(0,), dtype=int32)\n",
            "tf.Tensor([ 4 10  7], shape=(3,), dtype=int32)\n",
            "tf.Tensor([8], shape=(1,), dtype=int32)\n",
            "tf.Tensor([6 7], shape=(2,), dtype=int32)\n"
          ],
          "name": "stdout"
        }
      ]
    },
    {
      "cell_type": "markdown",
      "metadata": {
        "id": "v0ApNlQe3fFj",
        "colab_type": "text"
      },
      "source": [
        "**Useful tensor operations**\n",
        "\n",
        "Difference squared (distance or norm). The exmaple below uses broadcasting."
      ]
    },
    {
      "cell_type": "code",
      "metadata": {
        "id": "ky06yVtb4G8F",
        "colab_type": "code",
        "outputId": "ecb1da25-1bce-4ce0-ac17-aa463bdde43f",
        "colab": {
          "base_uri": "https://localhost:8080/",
          "height": 34
        }
      },
      "source": [
        "x = [1 ,6, 8, 9, 4]\n",
        "y = 4\n",
        "s = tf.math.squared_difference(x,y)\n",
        "s"
      ],
      "execution_count": 0,
      "outputs": [
        {
          "output_type": "execute_result",
          "data": {
            "text/plain": [
              "<tf.Tensor: shape=(5,), dtype=int32, numpy=array([ 9,  4, 16, 25,  0], dtype=int32)>"
            ]
          },
          "metadata": {
            "tags": []
          },
          "execution_count": 9
        }
      ]
    },
    {
      "cell_type": "markdown",
      "metadata": {
        "id": "jkhPfvmw5KZG",
        "colab_type": "text"
      },
      "source": [
        "Reduce mean. A simple mean, that is, (4+5+7+3)/4=4.75"
      ]
    },
    {
      "cell_type": "code",
      "metadata": {
        "id": "6Pd36ET15N7s",
        "colab_type": "code",
        "outputId": "9d43ae2b-302d-4d00-d88d-505b16c5edd1",
        "colab": {
          "base_uri": "https://localhost:8080/",
          "height": 34
        }
      },
      "source": [
        "numbers = tf.constant([[4.,5.],[7., 3.]])\n",
        "tf.reduce_mean(input_tensor=numbers)\n",
        "#a simple mean"
      ],
      "execution_count": 0,
      "outputs": [
        {
          "output_type": "execute_result",
          "data": {
            "text/plain": [
              "<tf.Tensor: shape=(), dtype=float32, numpy=4.75>"
            ]
          },
          "metadata": {
            "tags": []
          },
          "execution_count": 12
        }
      ]
    },
    {
      "cell_type": "markdown",
      "metadata": {
        "id": "_jnMhvpQ59mJ",
        "colab_type": "text"
      },
      "source": [
        "Mean across columns. In this case, the operation performed is (4+7)/2 = 5.5 (5+3)/2=4"
      ]
    },
    {
      "cell_type": "code",
      "metadata": {
        "id": "ANtPUm9M6CN_",
        "colab_type": "code",
        "outputId": "63b6aa96-b4bc-4192-dbf3-eaf2c55785e0",
        "colab": {
          "base_uri": "https://localhost:8080/",
          "height": 34
        }
      },
      "source": [
        "tf.reduce_mean(input_tensor=numbers, axis=0)"
      ],
      "execution_count": 0,
      "outputs": [
        {
          "output_type": "execute_result",
          "data": {
            "text/plain": [
              "<tf.Tensor: shape=(2,), dtype=float32, numpy=array([5.5, 4. ], dtype=float32)>"
            ]
          },
          "metadata": {
            "tags": []
          },
          "execution_count": 14
        }
      ]
    },
    {
      "cell_type": "markdown",
      "metadata": {
        "id": "TltY-3CZ62FH",
        "colab_type": "text"
      },
      "source": [
        "Mean across rows. We need to put axis = 1. The operation performed is (4+5)/2=4.5 and (7+3)/2=5"
      ]
    },
    {
      "cell_type": "code",
      "metadata": {
        "id": "amYLG3vt7EAv",
        "colab_type": "code",
        "outputId": "8ef9b1f3-2cac-482d-d1d0-35d959f00bb5",
        "colab": {
          "base_uri": "https://localhost:8080/",
          "height": 34
        }
      },
      "source": [
        "tf.reduce_mean(input_tensor=numbers, axis=1)"
      ],
      "execution_count": 0,
      "outputs": [
        {
          "output_type": "execute_result",
          "data": {
            "text/plain": [
              "<tf.Tensor: shape=(2,), dtype=float32, numpy=array([4.5, 5. ], dtype=float32)>"
            ]
          },
          "metadata": {
            "tags": []
          },
          "execution_count": 15
        }
      ]
    },
    {
      "cell_type": "markdown",
      "metadata": {
        "id": "LbQJLG0h7jeN",
        "colab_type": "text"
      },
      "source": [
        "**Tensors with random values**\n",
        "\n",
        "Useful when initializing weights and biases\n",
        "\n",
        "tf.random.normal() = a tensor with values from a normal distribution"
      ]
    },
    {
      "cell_type": "code",
      "metadata": {
        "id": "Vms1KBly7t-9",
        "colab_type": "code",
        "outputId": "25383213-6ee2-444e-d25b-5d3b7eae960a",
        "colab": {
          "base_uri": "https://localhost:8080/",
          "height": 85
        }
      },
      "source": [
        "ran = tf.random.normal(shape=(3,2), mean=10, stddev=2, dtype=tf.float32, seed=None, name=None)\n",
        "print(ran)"
      ],
      "execution_count": 0,
      "outputs": [
        {
          "output_type": "stream",
          "text": [
            "tf.Tensor(\n",
            "[[10.2635145 10.758774 ]\n",
            " [10.161226   8.147552 ]\n",
            " [10.873544  11.679983 ]], shape=(3, 2), dtype=float32)\n"
          ],
          "name": "stdout"
        }
      ]
    },
    {
      "cell_type": "markdown",
      "metadata": {
        "id": "f1dV1QkH9FvD",
        "colab_type": "text"
      },
      "source": [
        "tf.random.uniform()= tensor filled with values from a uniform distribution in the range minval to maxval, including the lower bound but no the upper. For int32 dtype you must specify the maxval, and for dtype float32 you can write maxval = None."
      ]
    },
    {
      "cell_type": "code",
      "metadata": {
        "id": "g8VnqQR49adt",
        "colab_type": "code",
        "outputId": "5b7e2468-cf1d-4420-bb8f-4b3bc1b48d70",
        "colab": {
          "base_uri": "https://localhost:8080/",
          "height": 68
        }
      },
      "source": [
        "tf.random.uniform(shape = (2,2), minval=0, maxval=12, dtype=tf.int32, seed=None, name=None)"
      ],
      "execution_count": 0,
      "outputs": [
        {
          "output_type": "execute_result",
          "data": {
            "text/plain": [
              "<tf.Tensor: shape=(2, 2), dtype=int32, numpy=\n",
              "array([[ 1,  9],\n",
              "       [ 1, 11]], dtype=int32)>"
            ]
          },
          "metadata": {
            "tags": []
          },
          "execution_count": 28
        }
      ]
    },
    {
      "cell_type": "markdown",
      "metadata": {
        "id": "Ei04u_Ts_l2S",
        "colab_type": "text"
      },
      "source": [
        "**Practical example of random values**\n",
        "\n",
        "Define two dices. Note that in shape we just write explicitly the \"size\" of the matrix, which is 10x1. \n",
        "\n",
        "In this exmaple, concatenate puts the three column matrices \"one after another\" to form a 10x3 matrix\n",
        "\n"
      ]
    },
    {
      "cell_type": "code",
      "metadata": {
        "id": "nd9xChOcAJpV",
        "colab_type": "code",
        "outputId": "a434cdb2-2067-4177-cfc7-471f8a351459",
        "colab": {
          "base_uri": "https://localhost:8080/",
          "height": 204
        }
      },
      "source": [
        "dice1 = tf.Variable(tf.random.uniform([10,1], minval=1, maxval=7, dtype=tf.int32))\n",
        "dice2 = tf.Variable(tf.random.uniform([10,1], minval=1, maxval=7, dtype=tf.int32))\n",
        "#sum the two 10x1 matrices with random values\n",
        "dice_sum = dice1+dice2\n",
        "#to produce a single 10x3 matrix, we'll concatenate them along dim 1\n",
        "result_matrix = tf.concat(values=[dice1, dice2, dice_sum], axis=1)\n",
        "print(result_matrix)"
      ],
      "execution_count": 0,
      "outputs": [
        {
          "output_type": "stream",
          "text": [
            "tf.Tensor(\n",
            "[[ 3  4  7]\n",
            " [ 3  5  8]\n",
            " [ 2  2  4]\n",
            " [ 6  6 12]\n",
            " [ 2  3  5]\n",
            " [ 4  1  5]\n",
            " [ 2  2  4]\n",
            " [ 6  4 10]\n",
            " [ 5  1  6]\n",
            " [ 5  3  8]], shape=(10, 3), dtype=int32)\n"
          ],
          "name": "stdout"
        }
      ]
    },
    {
      "cell_type": "markdown",
      "metadata": {
        "id": "-fsSHnSvZPpH",
        "colab_type": "text"
      },
      "source": [
        "**Find the indices of the elements with the largest and smallest values**"
      ]
    },
    {
      "cell_type": "code",
      "metadata": {
        "id": "XcJOSDDxZiZ6",
        "colab_type": "code",
        "outputId": "d5211363-b200-4871-d54e-1c648314b8d6",
        "colab": {
          "base_uri": "https://localhost:8080/",
          "height": 68
        }
      },
      "source": [
        "#1-D tensor\n",
        "t5 = tf.constant([2, 5, 7, 87, 11, 45, -9, 7, -4])\n",
        "print(t5)\n",
        "i = tf.argmax(input=t5)\n",
        "#print the index of the entry with largest value\n",
        "print('index of max:',i)\n",
        "#print the largest value\n",
        "print('Max element:',t5[i].numpy())"
      ],
      "execution_count": 0,
      "outputs": [
        {
          "output_type": "stream",
          "text": [
            "tf.Tensor([ 2  5  7 87 11 45 -9  7 -4], shape=(9,), dtype=int32)\n",
            "index of max; tf.Tensor(3, shape=(), dtype=int64)\n",
            "Max element: 87\n"
          ],
          "name": "stdout"
        }
      ]
    },
    {
      "cell_type": "code",
      "metadata": {
        "id": "qACmb9UFcOlL",
        "colab_type": "code",
        "outputId": "963c8ae0-eda7-4da1-b781-c606912f77e1",
        "colab": {
          "base_uri": "https://localhost:8080/",
          "height": 68
        }
      },
      "source": [
        "#1-D tensor\n",
        "t5 = tf.constant([2, 5, 7, 87, 11, 45, -9, 7, -4])\n",
        "print(t5)\n",
        "i = tf.argmin(input=t5)\n",
        "#print the index of the entry with largest value\n",
        "print('index of min:',i)\n",
        "#print the smallest value\n",
        "print('min element:',t5[i].numpy())"
      ],
      "execution_count": 0,
      "outputs": [
        {
          "output_type": "stream",
          "text": [
            "tf.Tensor([ 2  5  7 87 11 45 -9  7 -4], shape=(9,), dtype=int32)\n",
            "index of min; tf.Tensor(6, shape=(), dtype=int64)\n",
            "min element: -9\n"
          ],
          "name": "stdout"
        }
      ]
    },
    {
      "cell_type": "code",
      "metadata": {
        "id": "WuR1vxK-cvxO",
        "colab_type": "code",
        "outputId": "a3b16b2a-ffc2-4d4d-e4f8-56ff0316f0b9",
        "colab": {
          "base_uri": "https://localhost:8080/",
          "height": 119
        }
      },
      "source": [
        "#We'll reshape the tensor\n",
        "t6 = tf.reshape(t5, [3,3]) #new tensor is a 3x3 matrix\n",
        "print(t6)\n",
        "i = tf.argmax(input=t6)\n",
        "print('indices of max down rows:', i)\n",
        "i = tf.argmin(input=t6)\n",
        "print('indices of min down rows:', i)"
      ],
      "execution_count": 0,
      "outputs": [
        {
          "output_type": "stream",
          "text": [
            "tf.Tensor(\n",
            "[[ 2  5  7]\n",
            " [87 11 45]\n",
            " [-9  7 -4]], shape=(3, 3), dtype=int32)\n",
            "indices of max down rows: tf.Tensor([1 1 1], shape=(3,), dtype=int64)\n",
            "indices of min down rows: tf.Tensor([2 0 2], shape=(3,), dtype=int64)\n"
          ],
          "name": "stdout"
        }
      ]
    },
    {
      "cell_type": "markdown",
      "metadata": {
        "id": "mjPZPvh3eue0",
        "colab_type": "text"
      },
      "source": [
        "**Checkpoints**\n",
        "\n",
        "Use checkpoints to save and restore the values of tensors\n"
      ]
    },
    {
      "cell_type": "code",
      "metadata": {
        "id": "n0MjdFDhe5or",
        "colab_type": "code",
        "outputId": "6acd5cc1-a856-457b-f99f-a303df6b8a5b",
        "colab": {
          "base_uri": "https://localhost:8080/",
          "height": 68
        }
      },
      "source": [
        "tvar = tf.Variable([[1,6,7,8],[5,6,2,9]])\n",
        "checkpoint = tf.train.Checkpoint(var = tvar)\n",
        "save_path = checkpoint.save('./vars') #save tvar\n",
        "tvar.assign([[0,0,0,0],[0,0,0,1]])\n",
        "tvar #print tvar with the new values\n",
        "checkpoint.restore(save_path) #restore the values from checkpoint\n",
        "print(tvar) #print the values of the tensor tvar (1st line)\n"
      ],
      "execution_count": 0,
      "outputs": [
        {
          "output_type": "stream",
          "text": [
            "<tf.Variable 'Variable:0' shape=(2, 4) dtype=int32, numpy=\n",
            "array([[1, 6, 7, 8],\n",
            "       [5, 6, 2, 9]], dtype=int32)>\n"
          ],
          "name": "stdout"
        }
      ]
    },
    {
      "cell_type": "markdown",
      "metadata": {
        "id": "G_4wH7vngrX4",
        "colab_type": "text"
      },
      "source": [
        "**tf.function**\n",
        "\n",
        "Takes a Python function and returns a TensorFlow graph"
      ]
    },
    {
      "cell_type": "code",
      "metadata": {
        "id": "MCCwl76rhaBc",
        "colab_type": "code",
        "colab": {}
      },
      "source": [
        "def f1(x,y):\n",
        "  return tf.reduce_mean(input_tensor=tf.multiply(x**2,5)+y**2)\n",
        "  f2=tf.function(f1)\n",
        "  #f1 and f2 are the same thin, but f2 executes as a tensorflow graph\n",
        "  x = tf.constant([4.,-5.])\n",
        "  y = tf.constant([2.,3.])\n",
        "\n",
        "  assert f1(x,y).numpy() == f2(x,y).numpy()\n",
        "  #the assert states a condition, if it is true, then it does nothing\n",
        "\n"
      ],
      "execution_count": 0,
      "outputs": []
    }
  ]
}