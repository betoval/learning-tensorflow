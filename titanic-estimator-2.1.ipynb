{
  "nbformat": 4,
  "nbformat_minor": 0,
  "metadata": {
    "colab": {
      "name": "titanic-estimator.ipynb",
      "provenance": [],
      "authorship_tag": "ABX9TyOQJyRIw+qdEGkTn3tCWTjh",
      "include_colab_link": true
    },
    "kernelspec": {
      "name": "python3",
      "display_name": "Python 3"
    }
  },
  "cells": [
    {
      "cell_type": "markdown",
      "metadata": {
        "id": "view-in-github",
        "colab_type": "text"
      },
      "source": [
        "<a href=\"https://colab.research.google.com/github/betoval/learning-tensorflow/blob/master/titanic-estimator-2.1.ipynb\" target=\"_parent\"><img src=\"https://colab.research.google.com/assets/colab-badge.svg\" alt=\"Open In Colab\"/></a>"
      ]
    },
    {
      "cell_type": "code",
      "metadata": {
        "id": "9xfVsuFP-V3R",
        "colab_type": "code",
        "colab": {}
      },
      "source": [
        "import tensorflow as tf\n",
        "import pandas as pd\n",
        "import numpy as np\n",
        "from sklearn.model_selection import train_test_split\n",
        "from sklearn.metrics import accuracy_score, f1_score, precision_score, recall_score"
      ],
      "execution_count": 0,
      "outputs": []
    },
    {
      "cell_type": "code",
      "metadata": {
        "id": "VoAC6VKHcA8n",
        "colab_type": "code",
        "outputId": "76191cc2-6d02-4ca3-e7ed-b823618449f8",
        "colab": {
          "base_uri": "https://localhost:8080/",
          "height": 359
        }
      },
      "source": [
        "#we use pandas to load the csv files\n",
        "train = pd.read_csv(\"train.csv\")\n",
        "test = pd.read_csv(\"test.csv\")\n",
        "#show some of the data using pandas\n",
        "train.head(10)"
      ],
      "execution_count": 157,
      "outputs": [
        {
          "output_type": "execute_result",
          "data": {
            "text/html": [
              "<div>\n",
              "<style scoped>\n",
              "    .dataframe tbody tr th:only-of-type {\n",
              "        vertical-align: middle;\n",
              "    }\n",
              "\n",
              "    .dataframe tbody tr th {\n",
              "        vertical-align: top;\n",
              "    }\n",
              "\n",
              "    .dataframe thead th {\n",
              "        text-align: right;\n",
              "    }\n",
              "</style>\n",
              "<table border=\"1\" class=\"dataframe\">\n",
              "  <thead>\n",
              "    <tr style=\"text-align: right;\">\n",
              "      <th></th>\n",
              "      <th>PassengerId</th>\n",
              "      <th>Survived</th>\n",
              "      <th>Pclass</th>\n",
              "      <th>Name</th>\n",
              "      <th>Sex</th>\n",
              "      <th>Age</th>\n",
              "      <th>SibSp</th>\n",
              "      <th>Parch</th>\n",
              "      <th>Ticket</th>\n",
              "      <th>Fare</th>\n",
              "      <th>Cabin</th>\n",
              "      <th>Embarked</th>\n",
              "    </tr>\n",
              "  </thead>\n",
              "  <tbody>\n",
              "    <tr>\n",
              "      <th>0</th>\n",
              "      <td>1</td>\n",
              "      <td>0</td>\n",
              "      <td>3</td>\n",
              "      <td>Braund, Mr. Owen Harris</td>\n",
              "      <td>male</td>\n",
              "      <td>22.0</td>\n",
              "      <td>1</td>\n",
              "      <td>0</td>\n",
              "      <td>A/5 21171</td>\n",
              "      <td>7.2500</td>\n",
              "      <td>NaN</td>\n",
              "      <td>S</td>\n",
              "    </tr>\n",
              "    <tr>\n",
              "      <th>1</th>\n",
              "      <td>2</td>\n",
              "      <td>1</td>\n",
              "      <td>1</td>\n",
              "      <td>Cumings, Mrs. John Bradley (Florence Briggs Th...</td>\n",
              "      <td>female</td>\n",
              "      <td>38.0</td>\n",
              "      <td>1</td>\n",
              "      <td>0</td>\n",
              "      <td>PC 17599</td>\n",
              "      <td>71.2833</td>\n",
              "      <td>C85</td>\n",
              "      <td>C</td>\n",
              "    </tr>\n",
              "    <tr>\n",
              "      <th>2</th>\n",
              "      <td>3</td>\n",
              "      <td>1</td>\n",
              "      <td>3</td>\n",
              "      <td>Heikkinen, Miss. Laina</td>\n",
              "      <td>female</td>\n",
              "      <td>26.0</td>\n",
              "      <td>0</td>\n",
              "      <td>0</td>\n",
              "      <td>STON/O2. 3101282</td>\n",
              "      <td>7.9250</td>\n",
              "      <td>NaN</td>\n",
              "      <td>S</td>\n",
              "    </tr>\n",
              "    <tr>\n",
              "      <th>3</th>\n",
              "      <td>4</td>\n",
              "      <td>1</td>\n",
              "      <td>1</td>\n",
              "      <td>Futrelle, Mrs. Jacques Heath (Lily May Peel)</td>\n",
              "      <td>female</td>\n",
              "      <td>35.0</td>\n",
              "      <td>1</td>\n",
              "      <td>0</td>\n",
              "      <td>113803</td>\n",
              "      <td>53.1000</td>\n",
              "      <td>C123</td>\n",
              "      <td>S</td>\n",
              "    </tr>\n",
              "    <tr>\n",
              "      <th>4</th>\n",
              "      <td>5</td>\n",
              "      <td>0</td>\n",
              "      <td>3</td>\n",
              "      <td>Allen, Mr. William Henry</td>\n",
              "      <td>male</td>\n",
              "      <td>35.0</td>\n",
              "      <td>0</td>\n",
              "      <td>0</td>\n",
              "      <td>373450</td>\n",
              "      <td>8.0500</td>\n",
              "      <td>NaN</td>\n",
              "      <td>S</td>\n",
              "    </tr>\n",
              "    <tr>\n",
              "      <th>5</th>\n",
              "      <td>6</td>\n",
              "      <td>0</td>\n",
              "      <td>3</td>\n",
              "      <td>Moran, Mr. James</td>\n",
              "      <td>male</td>\n",
              "      <td>NaN</td>\n",
              "      <td>0</td>\n",
              "      <td>0</td>\n",
              "      <td>330877</td>\n",
              "      <td>8.4583</td>\n",
              "      <td>NaN</td>\n",
              "      <td>Q</td>\n",
              "    </tr>\n",
              "    <tr>\n",
              "      <th>6</th>\n",
              "      <td>7</td>\n",
              "      <td>0</td>\n",
              "      <td>1</td>\n",
              "      <td>McCarthy, Mr. Timothy J</td>\n",
              "      <td>male</td>\n",
              "      <td>54.0</td>\n",
              "      <td>0</td>\n",
              "      <td>0</td>\n",
              "      <td>17463</td>\n",
              "      <td>51.8625</td>\n",
              "      <td>E46</td>\n",
              "      <td>S</td>\n",
              "    </tr>\n",
              "    <tr>\n",
              "      <th>7</th>\n",
              "      <td>8</td>\n",
              "      <td>0</td>\n",
              "      <td>3</td>\n",
              "      <td>Palsson, Master. Gosta Leonard</td>\n",
              "      <td>male</td>\n",
              "      <td>2.0</td>\n",
              "      <td>3</td>\n",
              "      <td>1</td>\n",
              "      <td>349909</td>\n",
              "      <td>21.0750</td>\n",
              "      <td>NaN</td>\n",
              "      <td>S</td>\n",
              "    </tr>\n",
              "    <tr>\n",
              "      <th>8</th>\n",
              "      <td>9</td>\n",
              "      <td>1</td>\n",
              "      <td>3</td>\n",
              "      <td>Johnson, Mrs. Oscar W (Elisabeth Vilhelmina Berg)</td>\n",
              "      <td>female</td>\n",
              "      <td>27.0</td>\n",
              "      <td>0</td>\n",
              "      <td>2</td>\n",
              "      <td>347742</td>\n",
              "      <td>11.1333</td>\n",
              "      <td>NaN</td>\n",
              "      <td>S</td>\n",
              "    </tr>\n",
              "    <tr>\n",
              "      <th>9</th>\n",
              "      <td>10</td>\n",
              "      <td>1</td>\n",
              "      <td>2</td>\n",
              "      <td>Nasser, Mrs. Nicholas (Adele Achem)</td>\n",
              "      <td>female</td>\n",
              "      <td>14.0</td>\n",
              "      <td>1</td>\n",
              "      <td>0</td>\n",
              "      <td>237736</td>\n",
              "      <td>30.0708</td>\n",
              "      <td>NaN</td>\n",
              "      <td>C</td>\n",
              "    </tr>\n",
              "  </tbody>\n",
              "</table>\n",
              "</div>"
            ],
            "text/plain": [
              "   PassengerId  Survived  Pclass  ...     Fare Cabin  Embarked\n",
              "0            1         0       3  ...   7.2500   NaN         S\n",
              "1            2         1       1  ...  71.2833   C85         C\n",
              "2            3         1       3  ...   7.9250   NaN         S\n",
              "3            4         1       1  ...  53.1000  C123         S\n",
              "4            5         0       3  ...   8.0500   NaN         S\n",
              "5            6         0       3  ...   8.4583   NaN         Q\n",
              "6            7         0       1  ...  51.8625   E46         S\n",
              "7            8         0       3  ...  21.0750   NaN         S\n",
              "8            9         1       3  ...  11.1333   NaN         S\n",
              "9           10         1       2  ...  30.0708   NaN         C\n",
              "\n",
              "[10 rows x 12 columns]"
            ]
          },
          "metadata": {
            "tags": []
          },
          "execution_count": 157
        }
      ]
    },
    {
      "cell_type": "markdown",
      "metadata": {
        "id": "GpyzK_YOs11u",
        "colab_type": "text"
      },
      "source": [
        "We note that we have the word \"NaN\" in the 'Age' feature, which means that we are missing those values."
      ]
    },
    {
      "cell_type": "code",
      "metadata": {
        "id": "cIRDhM20ucos",
        "colab_type": "code",
        "outputId": "968418b0-3fbb-4908-e52c-37a48ecbf15d",
        "colab": {
          "base_uri": "https://localhost:8080/",
          "height": 119
        }
      },
      "source": [
        "total = train.isnull().sum().sort_values(ascending=False)\n",
        "total.head()"
      ],
      "execution_count": 158,
      "outputs": [
        {
          "output_type": "execute_result",
          "data": {
            "text/plain": [
              "Cabin       687\n",
              "Age         177\n",
              "Embarked      2\n",
              "Fare          0\n",
              "Ticket        0\n",
              "dtype: int64"
            ]
          },
          "metadata": {
            "tags": []
          },
          "execution_count": 158
        }
      ]
    },
    {
      "cell_type": "code",
      "metadata": {
        "id": "f1Afnaghv44M",
        "colab_type": "code",
        "outputId": "04fe4642-e5f9-4aa2-ca25-e241316086ed",
        "colab": {
          "base_uri": "https://localhost:8080/",
          "height": 85
        }
      },
      "source": [
        "train['Embarked'].value_counts()"
      ],
      "execution_count": 159,
      "outputs": [
        {
          "output_type": "execute_result",
          "data": {
            "text/plain": [
              "S    644\n",
              "C    168\n",
              "Q     77\n",
              "Name: Embarked, dtype: int64"
            ]
          },
          "metadata": {
            "tags": []
          },
          "execution_count": 159
        }
      ]
    },
    {
      "cell_type": "markdown",
      "metadata": {
        "id": "O91cbkHywBKA",
        "colab_type": "text"
      },
      "source": [
        "Here, we note that we are missing 177 values of Age, 687 of Cabin, and 2 of Embarked. As a first attemp we will replace the missing values of Age with the value of the \"mean age\" and the Embarked values with S, which is the most common."
      ]
    },
    {
      "cell_type": "code",
      "metadata": {
        "id": "ChgstGPamKAV",
        "colab_type": "code",
        "outputId": "663803b5-6a9d-484b-f14c-aca56cadc9bc",
        "colab": {
          "base_uri": "https://localhost:8080/",
          "height": 340
        }
      },
      "source": [
        "train.info()"
      ],
      "execution_count": 160,
      "outputs": [
        {
          "output_type": "stream",
          "text": [
            "<class 'pandas.core.frame.DataFrame'>\n",
            "RangeIndex: 891 entries, 0 to 890\n",
            "Data columns (total 12 columns):\n",
            " #   Column       Non-Null Count  Dtype  \n",
            "---  ------       --------------  -----  \n",
            " 0   PassengerId  891 non-null    int64  \n",
            " 1   Survived     891 non-null    int64  \n",
            " 2   Pclass       891 non-null    int64  \n",
            " 3   Name         891 non-null    object \n",
            " 4   Sex          891 non-null    object \n",
            " 5   Age          714 non-null    float64\n",
            " 6   SibSp        891 non-null    int64  \n",
            " 7   Parch        891 non-null    int64  \n",
            " 8   Ticket       891 non-null    object \n",
            " 9   Fare         891 non-null    float64\n",
            " 10  Cabin        204 non-null    object \n",
            " 11  Embarked     889 non-null    object \n",
            "dtypes: float64(2), int64(5), object(5)\n",
            "memory usage: 83.7+ KB\n"
          ],
          "name": "stdout"
        }
      ]
    },
    {
      "cell_type": "markdown",
      "metadata": {
        "id": "LtjFmkipn3qL",
        "colab_type": "text"
      },
      "source": [
        "We can see that the data has 11 features + Survived (the feature we are interested in).\n",
        "\n",
        "Below, we can examine the statistics of the data using `pd.DataFrame.describe`"
      ]
    },
    {
      "cell_type": "code",
      "metadata": {
        "id": "6M4xme6Qr-vn",
        "colab_type": "code",
        "outputId": "a2b0a351-27d9-48b4-f7ab-eb725582a3df",
        "colab": {
          "base_uri": "https://localhost:8080/",
          "height": 297
        }
      },
      "source": [
        "train.describe()"
      ],
      "execution_count": 161,
      "outputs": [
        {
          "output_type": "execute_result",
          "data": {
            "text/html": [
              "<div>\n",
              "<style scoped>\n",
              "    .dataframe tbody tr th:only-of-type {\n",
              "        vertical-align: middle;\n",
              "    }\n",
              "\n",
              "    .dataframe tbody tr th {\n",
              "        vertical-align: top;\n",
              "    }\n",
              "\n",
              "    .dataframe thead th {\n",
              "        text-align: right;\n",
              "    }\n",
              "</style>\n",
              "<table border=\"1\" class=\"dataframe\">\n",
              "  <thead>\n",
              "    <tr style=\"text-align: right;\">\n",
              "      <th></th>\n",
              "      <th>PassengerId</th>\n",
              "      <th>Survived</th>\n",
              "      <th>Pclass</th>\n",
              "      <th>Age</th>\n",
              "      <th>SibSp</th>\n",
              "      <th>Parch</th>\n",
              "      <th>Fare</th>\n",
              "    </tr>\n",
              "  </thead>\n",
              "  <tbody>\n",
              "    <tr>\n",
              "      <th>count</th>\n",
              "      <td>891.000000</td>\n",
              "      <td>891.000000</td>\n",
              "      <td>891.000000</td>\n",
              "      <td>714.000000</td>\n",
              "      <td>891.000000</td>\n",
              "      <td>891.000000</td>\n",
              "      <td>891.000000</td>\n",
              "    </tr>\n",
              "    <tr>\n",
              "      <th>mean</th>\n",
              "      <td>446.000000</td>\n",
              "      <td>0.383838</td>\n",
              "      <td>2.308642</td>\n",
              "      <td>29.699118</td>\n",
              "      <td>0.523008</td>\n",
              "      <td>0.381594</td>\n",
              "      <td>32.204208</td>\n",
              "    </tr>\n",
              "    <tr>\n",
              "      <th>std</th>\n",
              "      <td>257.353842</td>\n",
              "      <td>0.486592</td>\n",
              "      <td>0.836071</td>\n",
              "      <td>14.526497</td>\n",
              "      <td>1.102743</td>\n",
              "      <td>0.806057</td>\n",
              "      <td>49.693429</td>\n",
              "    </tr>\n",
              "    <tr>\n",
              "      <th>min</th>\n",
              "      <td>1.000000</td>\n",
              "      <td>0.000000</td>\n",
              "      <td>1.000000</td>\n",
              "      <td>0.420000</td>\n",
              "      <td>0.000000</td>\n",
              "      <td>0.000000</td>\n",
              "      <td>0.000000</td>\n",
              "    </tr>\n",
              "    <tr>\n",
              "      <th>25%</th>\n",
              "      <td>223.500000</td>\n",
              "      <td>0.000000</td>\n",
              "      <td>2.000000</td>\n",
              "      <td>20.125000</td>\n",
              "      <td>0.000000</td>\n",
              "      <td>0.000000</td>\n",
              "      <td>7.910400</td>\n",
              "    </tr>\n",
              "    <tr>\n",
              "      <th>50%</th>\n",
              "      <td>446.000000</td>\n",
              "      <td>0.000000</td>\n",
              "      <td>3.000000</td>\n",
              "      <td>28.000000</td>\n",
              "      <td>0.000000</td>\n",
              "      <td>0.000000</td>\n",
              "      <td>14.454200</td>\n",
              "    </tr>\n",
              "    <tr>\n",
              "      <th>75%</th>\n",
              "      <td>668.500000</td>\n",
              "      <td>1.000000</td>\n",
              "      <td>3.000000</td>\n",
              "      <td>38.000000</td>\n",
              "      <td>1.000000</td>\n",
              "      <td>0.000000</td>\n",
              "      <td>31.000000</td>\n",
              "    </tr>\n",
              "    <tr>\n",
              "      <th>max</th>\n",
              "      <td>891.000000</td>\n",
              "      <td>1.000000</td>\n",
              "      <td>3.000000</td>\n",
              "      <td>80.000000</td>\n",
              "      <td>8.000000</td>\n",
              "      <td>6.000000</td>\n",
              "      <td>512.329200</td>\n",
              "    </tr>\n",
              "  </tbody>\n",
              "</table>\n",
              "</div>"
            ],
            "text/plain": [
              "       PassengerId    Survived      Pclass  ...       SibSp       Parch        Fare\n",
              "count   891.000000  891.000000  891.000000  ...  891.000000  891.000000  891.000000\n",
              "mean    446.000000    0.383838    2.308642  ...    0.523008    0.381594   32.204208\n",
              "std     257.353842    0.486592    0.836071  ...    1.102743    0.806057   49.693429\n",
              "min       1.000000    0.000000    1.000000  ...    0.000000    0.000000    0.000000\n",
              "25%     223.500000    0.000000    2.000000  ...    0.000000    0.000000    7.910400\n",
              "50%     446.000000    0.000000    3.000000  ...    0.000000    0.000000   14.454200\n",
              "75%     668.500000    1.000000    3.000000  ...    1.000000    0.000000   31.000000\n",
              "max     891.000000    1.000000    3.000000  ...    8.000000    6.000000  512.329200\n",
              "\n",
              "[8 rows x 7 columns]"
            ]
          },
          "metadata": {
            "tags": []
          },
          "execution_count": 161
        }
      ]
    },
    {
      "cell_type": "markdown",
      "metadata": {
        "id": "NgdE4ofo8dzM",
        "colab_type": "text"
      },
      "source": [
        "It is evident that we are missing 177 'Age' values. We need to take care of that.\n",
        "\n",
        "Of course, not all features are useful. In fact, we don't need the following: PassengerID, ticket, Name because they don't tell us anything about the survival rate. It is important to note that the Cabin feature could be useful, however, we will drop it because of its missing values."
      ]
    },
    {
      "cell_type": "code",
      "metadata": {
        "id": "MPTdouC-8QXz",
        "colab_type": "code",
        "outputId": "23e2f518-3bf2-4028-bb00-e2e7503825c2",
        "colab": {
          "base_uri": "https://localhost:8080/",
          "height": 51
        }
      },
      "source": [
        "#show train columns\n",
        "train.columns.values"
      ],
      "execution_count": 162,
      "outputs": [
        {
          "output_type": "execute_result",
          "data": {
            "text/plain": [
              "array(['PassengerId', 'Survived', 'Pclass', 'Name', 'Sex', 'Age', 'SibSp',\n",
              "       'Parch', 'Ticket', 'Fare', 'Cabin', 'Embarked'], dtype=object)"
            ]
          },
          "metadata": {
            "tags": []
          },
          "execution_count": 162
        }
      ]
    },
    {
      "cell_type": "code",
      "metadata": {
        "id": "yZCjTiZqXmMy",
        "colab_type": "code",
        "outputId": "0d97b8ed-eaeb-4191-d295-9332aeb66f73",
        "colab": {
          "base_uri": "https://localhost:8080/",
          "height": 51
        }
      },
      "source": [
        "#show test columns\n",
        "test.columns.values"
      ],
      "execution_count": 163,
      "outputs": [
        {
          "output_type": "execute_result",
          "data": {
            "text/plain": [
              "array(['PassengerId', 'Pclass', 'Name', 'Sex', 'Age', 'SibSp', 'Parch',\n",
              "       'Ticket', 'Fare', 'Cabin', 'Embarked'], dtype=object)"
            ]
          },
          "metadata": {
            "tags": []
          },
          "execution_count": 163
        }
      ]
    },
    {
      "cell_type": "code",
      "metadata": {
        "id": "kg6NWCDvtjIO",
        "colab_type": "code",
        "outputId": "76d7a301-dce4-46b3-c0ca-5086ce76dc22",
        "colab": {
          "base_uri": "https://localhost:8080/",
          "height": 153
        }
      },
      "source": [
        "#obtain the mean age to replace the missing values\n",
        "train.mean(axis=0)"
      ],
      "execution_count": 164,
      "outputs": [
        {
          "output_type": "execute_result",
          "data": {
            "text/plain": [
              "PassengerId    446.000000\n",
              "Survived         0.383838\n",
              "Pclass           2.308642\n",
              "Age             29.699118\n",
              "SibSp            0.523008\n",
              "Parch            0.381594\n",
              "Fare            32.204208\n",
              "dtype: float64"
            ]
          },
          "metadata": {
            "tags": []
          },
          "execution_count": 164
        }
      ]
    },
    {
      "cell_type": "code",
      "metadata": {
        "id": "Q38Y77ttWiow",
        "colab_type": "code",
        "outputId": "3e9c7f88-e91c-43b2-e076-12bf6a43202f",
        "colab": {
          "base_uri": "https://localhost:8080/",
          "height": 221
        }
      },
      "source": [
        "#features\n",
        "train_x = train.drop(['PassengerId', 'Name', 'Ticket', 'Cabin','Survived'],axis=1)\n",
        "#label\n",
        "train_y = train['Survived']\n",
        "#test dataset, doesn't include the label\n",
        "test_x = test.drop(['PassengerId', 'Name', 'Ticket', 'Cabin'],axis=1)\n",
        "#train_y only includes 0 and 1 (dead or alive)\n",
        "print(train_y)"
      ],
      "execution_count": 165,
      "outputs": [
        {
          "output_type": "stream",
          "text": [
            "0      0\n",
            "1      1\n",
            "2      1\n",
            "3      1\n",
            "4      0\n",
            "      ..\n",
            "886    0\n",
            "887    1\n",
            "888    0\n",
            "889    1\n",
            "890    0\n",
            "Name: Survived, Length: 891, dtype: int64\n"
          ],
          "name": "stdout"
        }
      ]
    },
    {
      "cell_type": "code",
      "metadata": {
        "id": "ecRToJ0t8ECl",
        "colab_type": "code",
        "colab": {}
      },
      "source": [
        "#fill the Age feature with the mean, which is 30\n",
        "train_x['Age'] = train_x['Age'].fillna(30)"
      ],
      "execution_count": 0,
      "outputs": []
    },
    {
      "cell_type": "code",
      "metadata": {
        "id": "MPqUgcSf0hB_",
        "colab_type": "code",
        "colab": {}
      },
      "source": [
        "#fill Embarked with S, the most common value\n",
        "train_x[\"Embarked\"].fillna(\"S\", inplace = True) "
      ],
      "execution_count": 0,
      "outputs": []
    },
    {
      "cell_type": "code",
      "metadata": {
        "id": "Bo_8b6D66VtU",
        "colab_type": "code",
        "outputId": "f5af35a6-e482-4006-d718-aab3aa029c30",
        "colab": {
          "base_uri": "https://localhost:8080/",
          "height": 255
        }
      },
      "source": [
        "#train_x is the \"complete\" train data\n",
        "train_x.info()"
      ],
      "execution_count": 168,
      "outputs": [
        {
          "output_type": "stream",
          "text": [
            "<class 'pandas.core.frame.DataFrame'>\n",
            "RangeIndex: 891 entries, 0 to 890\n",
            "Data columns (total 7 columns):\n",
            " #   Column    Non-Null Count  Dtype  \n",
            "---  ------    --------------  -----  \n",
            " 0   Pclass    891 non-null    int64  \n",
            " 1   Sex       891 non-null    object \n",
            " 2   Age       891 non-null    float64\n",
            " 3   SibSp     891 non-null    int64  \n",
            " 4   Parch     891 non-null    int64  \n",
            " 5   Fare      891 non-null    float64\n",
            " 6   Embarked  891 non-null    object \n",
            "dtypes: float64(2), int64(3), object(2)\n",
            "memory usage: 48.9+ KB\n"
          ],
          "name": "stdout"
        }
      ]
    },
    {
      "cell_type": "code",
      "metadata": {
        "id": "HFYSEXNqhfOE",
        "colab_type": "code",
        "outputId": "e0079c1f-0a40-4798-94e6-afdb7c0aca6d",
        "colab": {
          "base_uri": "https://localhost:8080/",
          "height": 255
        }
      },
      "source": [
        "#indeed, the test_x dataset doesn't include Survived\n",
        "test_x.info()"
      ],
      "execution_count": 169,
      "outputs": [
        {
          "output_type": "stream",
          "text": [
            "<class 'pandas.core.frame.DataFrame'>\n",
            "RangeIndex: 418 entries, 0 to 417\n",
            "Data columns (total 7 columns):\n",
            " #   Column    Non-Null Count  Dtype  \n",
            "---  ------    --------------  -----  \n",
            " 0   Pclass    418 non-null    int64  \n",
            " 1   Sex       418 non-null    object \n",
            " 2   Age       332 non-null    float64\n",
            " 3   SibSp     418 non-null    int64  \n",
            " 4   Parch     418 non-null    int64  \n",
            " 5   Fare      417 non-null    float64\n",
            " 6   Embarked  418 non-null    object \n",
            "dtypes: float64(2), int64(3), object(2)\n",
            "memory usage: 23.0+ KB\n"
          ],
          "name": "stdout"
        }
      ]
    },
    {
      "cell_type": "code",
      "metadata": {
        "id": "MJ-j3XmmCa_M",
        "colab_type": "code",
        "colab": {
          "base_uri": "https://localhost:8080/",
          "height": 119
        },
        "outputId": "cd1ec7bf-22ed-4b59-9b01-35e9a12cfd41"
      },
      "source": [
        "test_x.mean(axis=0)"
      ],
      "execution_count": 170,
      "outputs": [
        {
          "output_type": "execute_result",
          "data": {
            "text/plain": [
              "Pclass     2.265550\n",
              "Age       30.272590\n",
              "SibSp      0.447368\n",
              "Parch      0.392344\n",
              "Fare      35.627188\n",
              "dtype: float64"
            ]
          },
          "metadata": {
            "tags": []
          },
          "execution_count": 170
        }
      ]
    },
    {
      "cell_type": "code",
      "metadata": {
        "id": "4kLKvrXYCfDM",
        "colab_type": "code",
        "colab": {}
      },
      "source": [
        "test_x['Age'] = test_x['Age'].fillna(30)\n",
        "test_x['Fare'] = test_x['Fare'].fillna(36)"
      ],
      "execution_count": 0,
      "outputs": []
    },
    {
      "cell_type": "code",
      "metadata": {
        "id": "G7aJwNWcCpNb",
        "colab_type": "code",
        "colab": {
          "base_uri": "https://localhost:8080/",
          "height": 255
        },
        "outputId": "7eaff029-e80f-45e3-b7c0-33d45c4bf730"
      },
      "source": [
        "test_x.info()"
      ],
      "execution_count": 172,
      "outputs": [
        {
          "output_type": "stream",
          "text": [
            "<class 'pandas.core.frame.DataFrame'>\n",
            "RangeIndex: 418 entries, 0 to 417\n",
            "Data columns (total 7 columns):\n",
            " #   Column    Non-Null Count  Dtype  \n",
            "---  ------    --------------  -----  \n",
            " 0   Pclass    418 non-null    int64  \n",
            " 1   Sex       418 non-null    object \n",
            " 2   Age       418 non-null    float64\n",
            " 3   SibSp     418 non-null    int64  \n",
            " 4   Parch     418 non-null    int64  \n",
            " 5   Fare      418 non-null    float64\n",
            " 6   Embarked  418 non-null    object \n",
            "dtypes: float64(2), int64(3), object(2)\n",
            "memory usage: 23.0+ KB\n"
          ],
          "name": "stdout"
        }
      ]
    },
    {
      "cell_type": "markdown",
      "metadata": {
        "id": "P3l2fHcaGPEf",
        "colab_type": "text"
      },
      "source": [
        "features = dataframe that includes all the necessary data to determinate if a passenger will survive or not.\n",
        "\n",
        "labels = dataframe containing the information we want to predict. In this example, \"Survived\" is the label.\n",
        "\n",
        "We need to split the train dataset into three parts:\n",
        "\n",
        "1. Training\n",
        "\n",
        "2. Validation\n",
        "\n",
        "3. Test\n",
        "\n",
        "In this example, the Test dataset is already provided. We just need to split \n",
        "the train dataset into: Train and Validation (sometimes called crossvalidation)"
      ]
    },
    {
      "cell_type": "code",
      "metadata": {
        "id": "4RBk9dKTelJQ",
        "colab_type": "code",
        "colab": {}
      },
      "source": [
        "#sampling 75% for train data and 25% for validation\n",
        "train_x, val_x, train_y, val_y = train_test_split(train_x, train_y, \n",
        "                                                  test_size=0.2, \n",
        "                                                  random_state=1)\n",
        "\n",
        "#create input function\n",
        "train_input_fn = tf.compat.v1.estimator.inputs.pandas_input_fn(x=train_x,\n",
        "                                                               y=train_y,\n",
        "                                                               num_epochs=None,\n",
        "                                                               batch_size=100,\n",
        "                                                               shuffle=True)\n",
        "\n",
        "#sometimes called crossvalidation\n",
        "val_input_fn = tf.compat.v1.estimator.inputs.pandas_input_fn(x=val_x,\n",
        "                                                             y=val_y,\n",
        "                                                              num_epochs=1,\n",
        "                                                              batch_size=len(val_x),\n",
        "                                                              shuffle=False)\n",
        "\n",
        "                                                      "
      ],
      "execution_count": 0,
      "outputs": []
    },
    {
      "cell_type": "markdown",
      "metadata": {
        "id": "ty1KB2yThQR2",
        "colab_type": "text"
      },
      "source": [
        "**Feature Columns**\n",
        "\n",
        "In this example, we have Categorical columns and numerical columns"
      ]
    },
    {
      "cell_type": "code",
      "metadata": {
        "id": "HNfmhXM1HQzh",
        "colab_type": "code",
        "colab": {}
      },
      "source": [
        "#the layman implementation of feature columns\n",
        "Sex = tf.feature_column.categorical_column_with_vocabulary_list(\"Sex\", [\"male\", \"female\"])\n",
        "Embarked = tf.feature_column.categorical_column_with_vocabulary_list(\"Embarked\", [\"S\", \"C\", \"Q\"])\n",
        "Age = tf.feature_column.numeric_column(\"Age\")\n",
        "Fare = tf.feature_column.numeric_column(\"Fare\")\n",
        "Parch = tf.feature_column.numeric_column(\"Parch\")\n",
        "Pclass = tf.feature_column.numeric_column(\"Pclass\")\n",
        "SibSp = tf.feature_column.numeric_column(\"SibSp\")\n",
        "\n",
        "ft_columns = [tf.feature_column.indicator_column(Sex), tf.feature_column.indicator_column(Embarked), Age, Fare, Parch, Pclass, SibSp]"
      ],
      "execution_count": 0,
      "outputs": []
    },
    {
      "cell_type": "markdown",
      "metadata": {
        "id": "f7WLsP3_Pyha",
        "colab_type": "text"
      },
      "source": [
        "\n",
        "\n",
        "```\n",
        "feature_columns = []\n",
        "num_cols = ['Age', 'Fare', 'Parch', 'Pclass', 'SibSp']\n",
        "for num_name in num_cols:\n",
        "  feature_columns.append(tf.feature_column.numeric_column(num_name))\n",
        "\n",
        "categorical_cols = ['Sex', 'Embarked']\n",
        "for ft_name in categorical_cols:\n",
        "  vocabulary = train_x[ft_name].unique()\n",
        "  feature_columns.append(tf.feature_column.categorical_column_with_vocabulary_list(ft_name, vocabulary))\n",
        "```\n",
        "\n"
      ]
    },
    {
      "cell_type": "markdown",
      "metadata": {
        "id": "bkNp1UfcmIOY",
        "colab_type": "text"
      },
      "source": [
        "**Instantiate the Estimator**\n",
        "\n",
        "We are going to use a Linear Classifier. This will train the model to classify the data into two possible cases: survival and not survival.\n",
        "\n",
        "hidden_units = number of hidden nodes per layer. Ex. [30,10] means that we have two layers, the first one with 30 nodes and the second one with 10 nodes.\n",
        "\n",
        "n_classes= number of label classes"
      ]
    },
    {
      "cell_type": "code",
      "metadata": {
        "id": "A4vYPRV5ltaA",
        "colab_type": "code",
        "outputId": "d2ad9914-1f03-4580-8253-90129f2e8371",
        "colab": {
          "base_uri": "https://localhost:8080/",
          "height": 190
        }
      },
      "source": [
        "model = tf.estimator.DNNClassifier(feature_columns=ft_columns,\n",
        "                                   hidden_units=[30,10,30], \n",
        "                                   n_classes=2, \n",
        "                                   optimizer='Adam')"
      ],
      "execution_count": 175,
      "outputs": [
        {
          "output_type": "stream",
          "text": [
            "INFO:tensorflow:Using default config.\n",
            "WARNING:tensorflow:Using temporary folder as model directory: /tmp/tmpscu0b__a\n",
            "INFO:tensorflow:Using config: {'_model_dir': '/tmp/tmpscu0b__a', '_tf_random_seed': None, '_save_summary_steps': 100, '_save_checkpoints_steps': None, '_save_checkpoints_secs': 600, '_session_config': allow_soft_placement: true\n",
            "graph_options {\n",
            "  rewrite_options {\n",
            "    meta_optimizer_iterations: ONE\n",
            "  }\n",
            "}\n",
            ", '_keep_checkpoint_max': 5, '_keep_checkpoint_every_n_hours': 10000, '_log_step_count_steps': 100, '_train_distribute': None, '_device_fn': None, '_protocol': None, '_eval_distribute': None, '_experimental_distribute': None, '_experimental_max_worker_delay_secs': None, '_session_creation_timeout_secs': 7200, '_service': None, '_cluster_spec': ClusterSpec({}), '_task_type': 'worker', '_task_id': 0, '_global_id_in_cluster': 0, '_master': '', '_evaluation_master': '', '_is_chief': True, '_num_ps_replicas': 0, '_num_worker_replicas': 1}\n"
          ],
          "name": "stdout"
        }
      ]
    },
    {
      "cell_type": "markdown",
      "metadata": {
        "id": "G4iovzZ-nsZk",
        "colab_type": "text"
      },
      "source": [
        "**Train the model**"
      ]
    },
    {
      "cell_type": "code",
      "metadata": {
        "id": "03dsVfrbnrh1",
        "colab_type": "code",
        "outputId": "06016022-e43f-4223-998c-370014d0b628",
        "colab": {
          "base_uri": "https://localhost:8080/",
          "height": 530
        }
      },
      "source": [
        "model.train(input_fn=train_input_fn, steps=500)"
      ],
      "execution_count": 176,
      "outputs": [
        {
          "output_type": "stream",
          "text": [
            "INFO:tensorflow:Calling model_fn.\n",
            "WARNING:tensorflow:Layer dnn is casting an input tensor from dtype float64 to the layer's dtype of float32, which is new behavior in TensorFlow 2.  The layer has dtype float32 because it's dtype defaults to floatx.\n",
            "\n",
            "If you intended to run this layer in float32, you can safely ignore this warning. If in doubt, this warning is likely only an issue if you are porting a TensorFlow 1.X model to TensorFlow 2.\n",
            "\n",
            "To change all layers to have dtype float64 by default, call `tf.keras.backend.set_floatx('float64')`. To change just this layer, pass dtype='float64' to the layer constructor. If you are the author of this layer, you can disable autocasting by passing autocast=False to the base Layer constructor.\n",
            "\n",
            "INFO:tensorflow:Done calling model_fn.\n",
            "INFO:tensorflow:Create CheckpointSaverHook.\n",
            "INFO:tensorflow:Graph was finalized.\n",
            "INFO:tensorflow:Running local_init_op.\n",
            "INFO:tensorflow:Done running local_init_op.\n",
            "INFO:tensorflow:Calling checkpoint listeners before saving checkpoint 0...\n",
            "INFO:tensorflow:Saving checkpoints for 0 into /tmp/tmpscu0b__a/model.ckpt.\n",
            "INFO:tensorflow:Calling checkpoint listeners after saving checkpoint 0...\n",
            "INFO:tensorflow:loss = 2.0892825, step = 0\n",
            "INFO:tensorflow:global_step/sec: 287.304\n",
            "INFO:tensorflow:loss = 0.63240063, step = 100 (0.354 sec)\n",
            "INFO:tensorflow:global_step/sec: 340.853\n",
            "INFO:tensorflow:loss = 0.5637244, step = 200 (0.290 sec)\n",
            "INFO:tensorflow:global_step/sec: 331.147\n",
            "INFO:tensorflow:loss = 0.5929239, step = 300 (0.303 sec)\n",
            "INFO:tensorflow:global_step/sec: 348.401\n",
            "INFO:tensorflow:loss = 0.46665683, step = 400 (0.286 sec)\n",
            "INFO:tensorflow:Calling checkpoint listeners before saving checkpoint 500...\n",
            "INFO:tensorflow:Saving checkpoints for 500 into /tmp/tmpscu0b__a/model.ckpt.\n",
            "INFO:tensorflow:Calling checkpoint listeners after saving checkpoint 500...\n",
            "INFO:tensorflow:Loss for final step: 0.4461651.\n"
          ],
          "name": "stdout"
        },
        {
          "output_type": "execute_result",
          "data": {
            "text/plain": [
              "<tensorflow_estimator.python.estimator.canned.dnn.DNNClassifierV2 at 0x7fcd01ef30b8>"
            ]
          },
          "metadata": {
            "tags": []
          },
          "execution_count": 176
        }
      ]
    },
    {
      "cell_type": "markdown",
      "metadata": {
        "id": "7W6pe2wQRwVw",
        "colab_type": "text"
      },
      "source": [
        "**Evaluate the model**"
      ]
    },
    {
      "cell_type": "code",
      "metadata": {
        "id": "l-Z2pFahR0kS",
        "colab_type": "code",
        "outputId": "b78288b2-476a-4722-a06a-eccbfebf3620",
        "colab": {
          "base_uri": "https://localhost:8080/",
          "height": 377
        }
      },
      "source": [
        "accuracy_score = model.evaluate(input_fn=val_input_fn)[\"accuracy\"]\n",
        "print(\"\\nTest accuracy: {0:f}%\\n\".format(accuracy_score*100))"
      ],
      "execution_count": 177,
      "outputs": [
        {
          "output_type": "stream",
          "text": [
            "INFO:tensorflow:Calling model_fn.\n",
            "WARNING:tensorflow:Layer dnn is casting an input tensor from dtype float64 to the layer's dtype of float32, which is new behavior in TensorFlow 2.  The layer has dtype float32 because it's dtype defaults to floatx.\n",
            "\n",
            "If you intended to run this layer in float32, you can safely ignore this warning. If in doubt, this warning is likely only an issue if you are porting a TensorFlow 1.X model to TensorFlow 2.\n",
            "\n",
            "To change all layers to have dtype float64 by default, call `tf.keras.backend.set_floatx('float64')`. To change just this layer, pass dtype='float64' to the layer constructor. If you are the author of this layer, you can disable autocasting by passing autocast=False to the base Layer constructor.\n",
            "\n",
            "INFO:tensorflow:Done calling model_fn.\n",
            "INFO:tensorflow:Starting evaluation at 2020-04-28T19:44:25Z\n",
            "INFO:tensorflow:Graph was finalized.\n",
            "INFO:tensorflow:Restoring parameters from /tmp/tmpscu0b__a/model.ckpt-500\n",
            "INFO:tensorflow:Running local_init_op.\n",
            "INFO:tensorflow:Done running local_init_op.\n",
            "INFO:tensorflow:Inference Time : 0.55349s\n",
            "INFO:tensorflow:Finished evaluation at 2020-04-28-19:44:26\n",
            "INFO:tensorflow:Saving dict for global step 500: accuracy = 0.75418997, accuracy_baseline = 0.59217876, auc = 0.8290256, auc_precision_recall = 0.7879418, average_loss = 0.49286214, global_step = 500, label/mean = 0.40782124, loss = 0.49286214, precision = 0.73015875, prediction/mean = 0.36637664, recall = 0.63013697\n",
            "INFO:tensorflow:Saving 'checkpoint_path' summary for global step 500: /tmp/tmpscu0b__a/model.ckpt-500\n",
            "\n",
            "Test accuracy: 75.418997%\n",
            "\n"
          ],
          "name": "stdout"
        }
      ]
    },
    {
      "cell_type": "markdown",
      "metadata": {
        "id": "Muul7m33qq3r",
        "colab_type": "text"
      },
      "source": [
        "**TEST DATA (VALIDATION)**"
      ]
    },
    {
      "cell_type": "code",
      "metadata": {
        "id": "IWCzZ0gMQaI1",
        "colab_type": "code",
        "colab": {}
      },
      "source": [
        "test_input_fn = tf.compat.v1.estimator.inputs.pandas_input_fn(x=test_x,\n",
        "                                                              num_epochs=1,\n",
        "                                                              batch_size=len(test_x),\n",
        "                                                              shuffle=False)"
      ],
      "execution_count": 0,
      "outputs": []
    },
    {
      "cell_type": "code",
      "metadata": {
        "id": "patHxi9Fqt1S",
        "colab_type": "code",
        "colab": {
          "base_uri": "https://localhost:8080/",
          "height": 1000
        },
        "outputId": "b49ebbf2-e1ae-4d3c-d81f-9d9f2a642455"
      },
      "source": [
        "LABEL =['YOU DIED', 'YOU LIVED']\n",
        "predictions = model.predict(input_fn=test_input_fn)\n",
        "for i, predict in enumerate(predictions):\n",
        "    label_ = predict['class_ids'][0]\n",
        "    probs = predict['probabilities'][label_]\n",
        "    print(f'The prediction is \\t{LABEL[label_]} ({100*probs} %) ')\n"
      ],
      "execution_count": 179,
      "outputs": [
        {
          "output_type": "stream",
          "text": [
            "INFO:tensorflow:Calling model_fn.\n",
            "WARNING:tensorflow:Layer dnn is casting an input tensor from dtype float64 to the layer's dtype of float32, which is new behavior in TensorFlow 2.  The layer has dtype float32 because it's dtype defaults to floatx.\n",
            "\n",
            "If you intended to run this layer in float32, you can safely ignore this warning. If in doubt, this warning is likely only an issue if you are porting a TensorFlow 1.X model to TensorFlow 2.\n",
            "\n",
            "To change all layers to have dtype float64 by default, call `tf.keras.backend.set_floatx('float64')`. To change just this layer, pass dtype='float64' to the layer constructor. If you are the author of this layer, you can disable autocasting by passing autocast=False to the base Layer constructor.\n",
            "\n",
            "INFO:tensorflow:Done calling model_fn.\n",
            "INFO:tensorflow:Graph was finalized.\n",
            "INFO:tensorflow:Restoring parameters from /tmp/tmpscu0b__a/model.ckpt-500\n",
            "INFO:tensorflow:Running local_init_op.\n",
            "INFO:tensorflow:Done running local_init_op.\n",
            "The prediction is \tYOU DIED (85.44030785560608 %) \n",
            "The prediction is \tYOU DIED (55.13350963592529 %) \n",
            "The prediction is \tYOU DIED (80.94577193260193 %) \n",
            "The prediction is \tYOU DIED (90.6633973121643 %) \n",
            "The prediction is \tYOU DIED (54.684799909591675 %) \n",
            "The prediction is \tYOU DIED (84.52973961830139 %) \n",
            "The prediction is \tYOU LIVED (71.98415994644165 %) \n",
            "The prediction is \tYOU DIED (79.16932702064514 %) \n",
            "The prediction is \tYOU LIVED (63.19609880447388 %) \n",
            "The prediction is \tYOU DIED (82.34882354736328 %) \n",
            "The prediction is \tYOU DIED (91.13462567329407 %) \n",
            "The prediction is \tYOU DIED (67.78599619865417 %) \n",
            "The prediction is \tYOU LIVED (75.87448954582214 %) \n",
            "The prediction is \tYOU DIED (83.72096419334412 %) \n",
            "The prediction is \tYOU LIVED (89.34282660484314 %) \n",
            "The prediction is \tYOU LIVED (79.97298836708069 %) \n",
            "The prediction is \tYOU DIED (76.33496522903442 %) \n",
            "The prediction is \tYOU DIED (86.31947636604309 %) \n",
            "The prediction is \tYOU DIED (53.829723596572876 %) \n",
            "The prediction is \tYOU LIVED (62.646836042404175 %) \n",
            "The prediction is \tYOU LIVED (59.10453796386719 %) \n",
            "The prediction is \tYOU DIED (75.37347078323364 %) \n",
            "The prediction is \tYOU LIVED (82.35459923744202 %) \n",
            "The prediction is \tYOU LIVED (66.62210822105408 %) \n",
            "The prediction is \tYOU LIVED (86.48031949996948 %) \n",
            "The prediction is \tYOU DIED (93.5677707195282 %) \n",
            "The prediction is \tYOU LIVED (88.81345987319946 %) \n",
            "The prediction is \tYOU DIED (87.35063076019287 %) \n",
            "The prediction is \tYOU DIED (62.25772500038147 %) \n",
            "The prediction is \tYOU DIED (90.60478806495667 %) \n",
            "The prediction is \tYOU DIED (83.15922617912292 %) \n",
            "The prediction is \tYOU DIED (73.16797971725464 %) \n",
            "The prediction is \tYOU DIED (51.90851092338562 %) \n",
            "The prediction is \tYOU LIVED (51.711684465408325 %) \n",
            "The prediction is \tYOU LIVED (53.058063983917236 %) \n",
            "The prediction is \tYOU DIED (84.44099426269531 %) \n",
            "The prediction is \tYOU LIVED (56.88329339027405 %) \n",
            "The prediction is \tYOU LIVED (58.385348320007324 %) \n",
            "The prediction is \tYOU DIED (90.23357629776001 %) \n",
            "The prediction is \tYOU DIED (54.14400100708008 %) \n",
            "The prediction is \tYOU DIED (89.99844789505005 %) \n",
            "The prediction is \tYOU DIED (69.05094981193542 %) \n",
            "The prediction is \tYOU DIED (92.04660058021545 %) \n",
            "The prediction is \tYOU LIVED (73.0994164943695 %) \n",
            "The prediction is \tYOU LIVED (88.28304409980774 %) \n",
            "The prediction is \tYOU DIED (90.76359272003174 %) \n",
            "The prediction is \tYOU DIED (56.95253014564514 %) \n",
            "The prediction is \tYOU DIED (85.26188135147095 %) \n",
            "The prediction is \tYOU LIVED (95.32245993614197 %) \n",
            "The prediction is \tYOU LIVED (52.866148948669434 %) \n",
            "The prediction is \tYOU DIED (60.3618323802948 %) \n",
            "The prediction is \tYOU DIED (80.80299496650696 %) \n",
            "The prediction is \tYOU LIVED (60.581809282302856 %) \n",
            "The prediction is \tYOU DIED (54.09828424453735 %) \n",
            "The prediction is \tYOU DIED (80.36707639694214 %) \n",
            "The prediction is \tYOU DIED (86.9867742061615 %) \n",
            "The prediction is \tYOU DIED (91.43502712249756 %) \n",
            "The prediction is \tYOU DIED (90.85344076156616 %) \n",
            "The prediction is \tYOU DIED (92.12815165519714 %) \n",
            "The prediction is \tYOU LIVED (81.44304752349854 %) \n",
            "The prediction is \tYOU DIED (88.66246938705444 %) \n",
            "The prediction is \tYOU DIED (85.04953980445862 %) \n",
            "The prediction is \tYOU DIED (89.61751461029053 %) \n",
            "The prediction is \tYOU LIVED (72.58996963500977 %) \n",
            "The prediction is \tYOU DIED (65.78924655914307 %) \n",
            "The prediction is \tYOU LIVED (79.26448583602905 %) \n",
            "The prediction is \tYOU LIVED (72.71957993507385 %) \n",
            "The prediction is \tYOU DIED (54.36331629753113 %) \n",
            "The prediction is \tYOU DIED (59.29312705993652 %) \n",
            "The prediction is \tYOU LIVED (88.75742554664612 %) \n",
            "The prediction is \tYOU LIVED (72.49248623847961 %) \n",
            "The prediction is \tYOU DIED (90.48483371734619 %) \n",
            "The prediction is \tYOU LIVED (56.792932748794556 %) \n",
            "The prediction is \tYOU DIED (59.20996069908142 %) \n",
            "The prediction is \tYOU LIVED (87.2857391834259 %) \n",
            "The prediction is \tYOU LIVED (65.9586489200592 %) \n",
            "The prediction is \tYOU DIED (91.08176827430725 %) \n",
            "The prediction is \tYOU LIVED (76.36970281600952 %) \n",
            "The prediction is \tYOU DIED (85.08251309394836 %) \n",
            "The prediction is \tYOU LIVED (72.49248623847961 %) \n",
            "The prediction is \tYOU LIVED (65.81984758377075 %) \n",
            "The prediction is \tYOU LIVED (66.93737506866455 %) \n",
            "The prediction is \tYOU DIED (67.69005060195923 %) \n",
            "The prediction is \tYOU DIED (91.13462567329407 %) \n",
            "The prediction is \tYOU DIED (77.64240503311157 %) \n",
            "The prediction is \tYOU DIED (91.02123379707336 %) \n",
            "The prediction is \tYOU LIVED (72.44575619697571 %) \n",
            "The prediction is \tYOU LIVED (57.801300287246704 %) \n",
            "The prediction is \tYOU LIVED (72.11670279502869 %) \n",
            "The prediction is \tYOU LIVED (74.31473135948181 %) \n",
            "The prediction is \tYOU LIVED (54.021209478378296 %) \n",
            "The prediction is \tYOU DIED (91.1758542060852 %) \n",
            "The prediction is \tYOU LIVED (72.76489734649658 %) \n",
            "The prediction is \tYOU DIED (91.08176827430725 %) \n",
            "The prediction is \tYOU DIED (57.799917459487915 %) \n",
            "The prediction is \tYOU DIED (90.80590605735779 %) \n",
            "The prediction is \tYOU LIVED (92.7893579006195 %) \n",
            "The prediction is \tYOU DIED (91.04992151260376 %) \n",
            "The prediction is \tYOU LIVED (57.387953996658325 %) \n",
            "The prediction is \tYOU DIED (91.23942852020264 %) \n",
            "The prediction is \tYOU LIVED (91.1726713180542 %) \n",
            "The prediction is \tYOU DIED (82.3911190032959 %) \n",
            "The prediction is \tYOU DIED (85.26188135147095 %) \n",
            "The prediction is \tYOU DIED (90.8832848072052 %) \n",
            "The prediction is \tYOU LIVED (50.43649077415466 %) \n",
            "The prediction is \tYOU DIED (85.90093851089478 %) \n",
            "The prediction is \tYOU DIED (84.26071405410767 %) \n",
            "The prediction is \tYOU DIED (85.26188135147095 %) \n",
            "The prediction is \tYOU DIED (90.86050391197205 %) \n",
            "The prediction is \tYOU DIED (84.14368033409119 %) \n",
            "The prediction is \tYOU DIED (81.08839988708496 %) \n",
            "The prediction is \tYOU LIVED (72.14871048927307 %) \n",
            "The prediction is \tYOU LIVED (86.6136372089386 %) \n",
            "The prediction is \tYOU LIVED (72.20404148101807 %) \n",
            "The prediction is \tYOU LIVED (87.58121132850647 %) \n",
            "The prediction is \tYOU DIED (82.3724627494812 %) \n",
            "The prediction is \tYOU DIED (89.68826532363892 %) \n",
            "The prediction is \tYOU LIVED (76.99194550514221 %) \n",
            "The prediction is \tYOU LIVED (64.69649076461792 %) \n",
            "The prediction is \tYOU LIVED (74.10327792167664 %) \n",
            "The prediction is \tYOU LIVED (71.45721316337585 %) \n",
            "The prediction is \tYOU DIED (90.10794162750244 %) \n",
            "The prediction is \tYOU LIVED (86.70626878738403 %) \n",
            "The prediction is \tYOU DIED (91.20648503303528 %) \n",
            "The prediction is \tYOU DIED (85.26188135147095 %) \n",
            "The prediction is \tYOU LIVED (59.93569493293762 %) \n",
            "The prediction is \tYOU DIED (90.59107899665833 %) \n",
            "The prediction is \tYOU LIVED (69.40877437591553 %) \n",
            "The prediction is \tYOU DIED (86.13160252571106 %) \n",
            "The prediction is \tYOU DIED (90.65079689025879 %) \n",
            "The prediction is \tYOU DIED (91.20526909828186 %) \n",
            "The prediction is \tYOU DIED (59.11455750465393 %) \n",
            "The prediction is \tYOU DIED (50.07181167602539 %) \n",
            "The prediction is \tYOU DIED (93.27705502510071 %) \n",
            "The prediction is \tYOU DIED (92.21530556678772 %) \n",
            "The prediction is \tYOU DIED (90.71555733680725 %) \n",
            "The prediction is \tYOU DIED (89.25597667694092 %) \n",
            "The prediction is \tYOU DIED (84.64641571044922 %) \n",
            "The prediction is \tYOU LIVED (57.41940140724182 %) \n",
            "The prediction is \tYOU DIED (78.10709476470947 %) \n",
            "The prediction is \tYOU DIED (91.36698842048645 %) \n",
            "The prediction is \tYOU LIVED (78.93749475479126 %) \n",
            "The prediction is \tYOU LIVED (75.73147416114807 %) \n",
            "The prediction is \tYOU DIED (77.41612792015076 %) \n",
            "The prediction is \tYOU DIED (67.02961325645447 %) \n",
            "The prediction is \tYOU DIED (95.38114666938782 %) \n",
            "The prediction is \tYOU DIED (51.5294075012207 %) \n",
            "The prediction is \tYOU DIED (90.50591588020325 %) \n",
            "The prediction is \tYOU DIED (69.05094981193542 %) \n",
            "The prediction is \tYOU DIED (86.30325198173523 %) \n",
            "The prediction is \tYOU LIVED (88.74226808547974 %) \n",
            "The prediction is \tYOU DIED (89.2890214920044 %) \n",
            "The prediction is \tYOU DIED (76.39204263687134 %) \n",
            "The prediction is \tYOU DIED (52.192169427871704 %) \n",
            "The prediction is \tYOU DIED (84.11938548088074 %) \n",
            "The prediction is \tYOU DIED (90.8153772354126 %) \n",
            "The prediction is \tYOU LIVED (70.19439339637756 %) \n",
            "The prediction is \tYOU LIVED (57.15835094451904 %) \n",
            "The prediction is \tYOU DIED (67.02961325645447 %) \n",
            "The prediction is \tYOU LIVED (50.75644254684448 %) \n",
            "The prediction is \tYOU LIVED (72.0984160900116 %) \n",
            "The prediction is \tYOU LIVED (59.76106524467468 %) \n",
            "The prediction is \tYOU LIVED (73.41170310974121 %) \n",
            "The prediction is \tYOU DIED (91.3450539112091 %) \n",
            "The prediction is \tYOU DIED (86.05733513832092 %) \n",
            "The prediction is \tYOU LIVED (57.11130499839783 %) \n",
            "The prediction is \tYOU LIVED (56.67083263397217 %) \n",
            "The prediction is \tYOU DIED (71.65445685386658 %) \n",
            "The prediction is \tYOU LIVED (84.4348132610321 %) \n",
            "The prediction is \tYOU LIVED (58.70616436004639 %) \n",
            "The prediction is \tYOU DIED (91.23640656471252 %) \n",
            "The prediction is \tYOU DIED (89.29660320281982 %) \n",
            "The prediction is \tYOU DIED (91.35448336601257 %) \n",
            "The prediction is \tYOU DIED (89.52851891517639 %) \n",
            "The prediction is \tYOU DIED (94.11932826042175 %) \n",
            "The prediction is \tYOU LIVED (75.1555860042572 %) \n",
            "The prediction is \tYOU LIVED (76.25330090522766 %) \n",
            "The prediction is \tYOU LIVED (55.75519800186157 %) \n",
            "The prediction is \tYOU LIVED (72.74622321128845 %) \n",
            "The prediction is \tYOU LIVED (95.07372975349426 %) \n",
            "The prediction is \tYOU DIED (85.08251309394836 %) \n",
            "The prediction is \tYOU LIVED (57.22146034240723 %) \n",
            "The prediction is \tYOU LIVED (71.13372683525085 %) \n",
            "The prediction is \tYOU DIED (85.26188135147095 %) \n",
            "The prediction is \tYOU LIVED (63.06668519973755 %) \n",
            "The prediction is \tYOU DIED (84.25604701042175 %) \n",
            "The prediction is \tYOU LIVED (70.85285782814026 %) \n",
            "The prediction is \tYOU DIED (90.47296643257141 %) \n",
            "The prediction is \tYOU DIED (95.26594877243042 %) \n",
            "The prediction is \tYOU DIED (85.982745885849 %) \n",
            "The prediction is \tYOU DIED (83.19050669670105 %) \n",
            "The prediction is \tYOU DIED (69.23989653587341 %) \n",
            "The prediction is \tYOU DIED (70.39333581924438 %) \n",
            "The prediction is \tYOU DIED (76.79325342178345 %) \n",
            "The prediction is \tYOU LIVED (82.62563347816467 %) \n",
            "The prediction is \tYOU DIED (91.2782371044159 %) \n",
            "The prediction is \tYOU LIVED (72.62814044952393 %) \n",
            "The prediction is \tYOU LIVED (57.435375452041626 %) \n",
            "The prediction is \tYOU DIED (85.5639100074768 %) \n",
            "The prediction is \tYOU LIVED (56.96679353713989 %) \n",
            "The prediction is \tYOU LIVED (79.36520576477051 %) \n",
            "The prediction is \tYOU LIVED (88.75970840454102 %) \n",
            "The prediction is \tYOU LIVED (63.151395320892334 %) \n",
            "The prediction is \tYOU LIVED (60.11333465576172 %) \n",
            "The prediction is \tYOU DIED (85.77234148979187 %) \n",
            "The prediction is \tYOU DIED (62.434691190719604 %) \n",
            "The prediction is \tYOU LIVED (71.99168801307678 %) \n",
            "The prediction is \tYOU DIED (85.66844463348389 %) \n",
            "The prediction is \tYOU LIVED (86.21270060539246 %) \n",
            "The prediction is \tYOU DIED (90.77316522598267 %) \n",
            "The prediction is \tYOU DIED (85.63857078552246 %) \n",
            "The prediction is \tYOU DIED (91.33522510528564 %) \n",
            "The prediction is \tYOU DIED (53.787195682525635 %) \n",
            "The prediction is \tYOU LIVED (76.53021216392517 %) \n",
            "The prediction is \tYOU DIED (88.98069858551025 %) \n",
            "The prediction is \tYOU DIED (58.20212364196777 %) \n",
            "The prediction is \tYOU LIVED (72.25807309150696 %) \n",
            "The prediction is \tYOU LIVED (65.88382720947266 %) \n",
            "The prediction is \tYOU LIVED (89.83438014984131 %) \n",
            "The prediction is \tYOU DIED (91.08176827430725 %) \n",
            "The prediction is \tYOU LIVED (70.67837119102478 %) \n",
            "The prediction is \tYOU DIED (90.43273329734802 %) \n",
            "The prediction is \tYOU LIVED (70.6613302230835 %) \n",
            "The prediction is \tYOU DIED (90.51847457885742 %) \n",
            "The prediction is \tYOU LIVED (91.21750593185425 %) \n",
            "The prediction is \tYOU LIVED (58.97696018218994 %) \n",
            "The prediction is \tYOU DIED (90.66318869590759 %) \n",
            "The prediction is \tYOU LIVED (72.11670279502869 %) \n",
            "The prediction is \tYOU DIED (89.43349719047546 %) \n",
            "The prediction is \tYOU DIED (85.6809914112091 %) \n",
            "The prediction is \tYOU DIED (53.55616807937622 %) \n",
            "The prediction is \tYOU LIVED (80.72003722190857 %) \n",
            "The prediction is \tYOU DIED (93.02977919578552 %) \n",
            "The prediction is \tYOU DIED (85.21878123283386 %) \n",
            "The prediction is \tYOU LIVED (59.22580361366272 %) \n",
            "The prediction is \tYOU DIED (90.42388796806335 %) \n",
            "The prediction is \tYOU LIVED (67.3507809638977 %) \n",
            "The prediction is \tYOU DIED (85.59340238571167 %) \n",
            "The prediction is \tYOU LIVED (57.413750886917114 %) \n",
            "The prediction is \tYOU LIVED (88.24845552444458 %) \n",
            "The prediction is \tYOU LIVED (91.291344165802 %) \n",
            "The prediction is \tYOU LIVED (77.86017060279846 %) \n",
            "The prediction is \tYOU LIVED (73.462575674057 %) \n",
            "The prediction is \tYOU DIED (91.13746881484985 %) \n",
            "The prediction is \tYOU DIED (92.08091497421265 %) \n",
            "The prediction is \tYOU DIED (59.7935676574707 %) \n",
            "The prediction is \tYOU LIVED (73.56576919555664 %) \n",
            "The prediction is \tYOU DIED (82.75002241134644 %) \n",
            "The prediction is \tYOU LIVED (74.10327792167664 %) \n",
            "The prediction is \tYOU LIVED (61.34787201881409 %) \n",
            "The prediction is \tYOU LIVED (81.91309571266174 %) \n",
            "The prediction is \tYOU DIED (90.39931297302246 %) \n",
            "The prediction is \tYOU LIVED (58.00322890281677 %) \n",
            "The prediction is \tYOU DIED (90.21914005279541 %) \n",
            "The prediction is \tYOU DIED (90.78040719032288 %) \n",
            "The prediction is \tYOU DIED (91.23640656471252 %) \n",
            "The prediction is \tYOU DIED (85.26188135147095 %) \n",
            "The prediction is \tYOU DIED (90.93461036682129 %) \n",
            "The prediction is \tYOU LIVED (72.90996313095093 %) \n",
            "The prediction is \tYOU DIED (90.52547216415405 %) \n",
            "The prediction is \tYOU DIED (92.10067987442017 %) \n",
            "The prediction is \tYOU DIED (90.49884080886841 %) \n",
            "The prediction is \tYOU LIVED (69.50904726982117 %) \n",
            "The prediction is \tYOU LIVED (72.56601452827454 %) \n",
            "The prediction is \tYOU DIED (82.19622373580933 %) \n",
            "The prediction is \tYOU DIED (91.13462567329407 %) \n",
            "The prediction is \tYOU DIED (90.01426100730896 %) \n",
            "The prediction is \tYOU DIED (91.23640656471252 %) \n",
            "The prediction is \tYOU LIVED (56.88329339027405 %) \n",
            "The prediction is \tYOU DIED (88.23742866516113 %) \n",
            "The prediction is \tYOU LIVED (67.31463074684143 %) \n",
            "The prediction is \tYOU DIED (85.26188135147095 %) \n",
            "The prediction is \tYOU LIVED (82.32609629631042 %) \n",
            "The prediction is \tYOU LIVED (71.25557065010071 %) \n",
            "The prediction is \tYOU DIED (89.52938318252563 %) \n",
            "The prediction is \tYOU LIVED (72.03486561775208 %) \n",
            "The prediction is \tYOU DIED (86.08027696609497 %) \n",
            "The prediction is \tYOU DIED (83.32893252372742 %) \n",
            "The prediction is \tYOU DIED (86.25310063362122 %) \n",
            "The prediction is \tYOU DIED (85.45874357223511 %) \n",
            "The prediction is \tYOU LIVED (58.23330879211426 %) \n",
            "The prediction is \tYOU LIVED (75.90948343276978 %) \n",
            "The prediction is \tYOU LIVED (72.11670279502869 %) \n",
            "The prediction is \tYOU LIVED (51.930999755859375 %) \n",
            "The prediction is \tYOU LIVED (73.25242161750793 %) \n",
            "The prediction is \tYOU DIED (91.83005690574646 %) \n",
            "The prediction is \tYOU DIED (91.29581451416016 %) \n",
            "The prediction is \tYOU DIED (53.2160758972168 %) \n",
            "The prediction is \tYOU DIED (89.52851891517639 %) \n",
            "The prediction is \tYOU DIED (91.08176827430725 %) \n",
            "The prediction is \tYOU DIED (60.563868284225464 %) \n",
            "The prediction is \tYOU LIVED (71.23180031776428 %) \n",
            "The prediction is \tYOU DIED (89.52851891517639 %) \n",
            "The prediction is \tYOU LIVED (57.93696641921997 %) \n",
            "The prediction is \tYOU DIED (91.03167653083801 %) \n",
            "The prediction is \tYOU DIED (90.84402322769165 %) \n",
            "The prediction is \tYOU LIVED (91.04954600334167 %) \n",
            "The prediction is \tYOU DIED (90.60478806495667 %) \n",
            "The prediction is \tYOU DIED (53.885722160339355 %) \n",
            "The prediction is \tYOU DIED (91.0743236541748 %) \n",
            "The prediction is \tYOU DIED (91.25992059707642 %) \n",
            "The prediction is \tYOU DIED (80.73135018348694 %) \n",
            "The prediction is \tYOU DIED (84.55333113670349 %) \n",
            "The prediction is \tYOU DIED (90.44560194015503 %) \n",
            "The prediction is \tYOU LIVED (72.11670279502869 %) \n",
            "The prediction is \tYOU LIVED (79.69900369644165 %) \n",
            "The prediction is \tYOU LIVED (56.42596483230591 %) \n",
            "The prediction is \tYOU LIVED (85.17283797264099 %) \n",
            "The prediction is \tYOU LIVED (59.41303372383118 %) \n",
            "The prediction is \tYOU LIVED (53.173959255218506 %) \n",
            "The prediction is \tYOU DIED (89.09429907798767 %) \n",
            "The prediction is \tYOU DIED (87.01451420783997 %) \n",
            "The prediction is \tYOU DIED (91.23143553733826 %) \n",
            "The prediction is \tYOU LIVED (72.03918695449829 %) \n",
            "The prediction is \tYOU LIVED (93.76721382141113 %) \n",
            "The prediction is \tYOU LIVED (72.0074713230133 %) \n",
            "The prediction is \tYOU LIVED (71.47517800331116 %) \n",
            "The prediction is \tYOU DIED (85.13943552970886 %) \n",
            "The prediction is \tYOU DIED (90.92782139778137 %) \n",
            "The prediction is \tYOU DIED (71.17390632629395 %) \n",
            "The prediction is \tYOU DIED (90.8832848072052 %) \n",
            "The prediction is \tYOU DIED (88.91862630844116 %) \n",
            "The prediction is \tYOU DIED (84.64641571044922 %) \n",
            "The prediction is \tYOU DIED (67.62969493865967 %) \n",
            "The prediction is \tYOU LIVED (80.89423179626465 %) \n",
            "The prediction is \tYOU DIED (90.9074068069458 %) \n",
            "The prediction is \tYOU DIED (58.06950330734253 %) \n",
            "The prediction is \tYOU LIVED (67.82888770103455 %) \n",
            "The prediction is \tYOU DIED (82.97536969184875 %) \n",
            "The prediction is \tYOU DIED (84.24162864685059 %) \n",
            "The prediction is \tYOU LIVED (81.35391473770142 %) \n",
            "The prediction is \tYOU DIED (57.52719044685364 %) \n",
            "The prediction is \tYOU DIED (89.52938318252563 %) \n",
            "The prediction is \tYOU LIVED (64.24890160560608 %) \n",
            "The prediction is \tYOU DIED (90.91438055038452 %) \n",
            "The prediction is \tYOU DIED (69.23989653587341 %) \n",
            "The prediction is \tYOU DIED (85.29670238494873 %) \n",
            "The prediction is \tYOU DIED (93.43514442443848 %) \n",
            "The prediction is \tYOU DIED (69.67666745185852 %) \n",
            "The prediction is \tYOU DIED (89.52851891517639 %) \n",
            "The prediction is \tYOU DIED (85.0317120552063 %) \n",
            "The prediction is \tYOU DIED (91.29864573478699 %) \n",
            "The prediction is \tYOU LIVED (64.90998268127441 %) \n",
            "The prediction is \tYOU LIVED (68.10548901557922 %) \n",
            "The prediction is \tYOU DIED (93.86218190193176 %) \n",
            "The prediction is \tYOU LIVED (57.42180347442627 %) \n",
            "The prediction is \tYOU DIED (84.64641571044922 %) \n",
            "The prediction is \tYOU LIVED (62.40253448486328 %) \n",
            "The prediction is \tYOU DIED (84.18571352958679 %) \n",
            "The prediction is \tYOU LIVED (79.48387861251831 %) \n",
            "The prediction is \tYOU LIVED (92.39100217819214 %) \n",
            "The prediction is \tYOU DIED (85.77234148979187 %) \n",
            "The prediction is \tYOU DIED (52.6900589466095 %) \n",
            "The prediction is \tYOU DIED (61.65114641189575 %) \n",
            "The prediction is \tYOU LIVED (87.24740743637085 %) \n",
            "The prediction is \tYOU DIED (67.65803098678589 %) \n",
            "The prediction is \tYOU LIVED (89.20857310295105 %) \n",
            "The prediction is \tYOU DIED (91.14031195640564 %) \n",
            "The prediction is \tYOU DIED (85.26188135147095 %) \n",
            "The prediction is \tYOU LIVED (56.09666705131531 %) \n",
            "The prediction is \tYOU DIED (98.1393814086914 %) \n",
            "The prediction is \tYOU LIVED (78.59453558921814 %) \n",
            "The prediction is \tYOU LIVED (79.48387861251831 %) \n",
            "The prediction is \tYOU DIED (90.6633973121643 %) \n",
            "The prediction is \tYOU LIVED (80.5192768573761 %) \n",
            "The prediction is \tYOU LIVED (60.85286736488342 %) \n",
            "The prediction is \tYOU DIED (91.01992845535278 %) \n",
            "The prediction is \tYOU LIVED (73.87295961380005 %) \n",
            "The prediction is \tYOU LIVED (92.10715889930725 %) \n",
            "The prediction is \tYOU DIED (81.44636750221252 %) \n",
            "The prediction is \tYOU DIED (89.55776691436768 %) \n",
            "The prediction is \tYOU LIVED (87.61404752731323 %) \n",
            "The prediction is \tYOU DIED (92.08171367645264 %) \n",
            "The prediction is \tYOU DIED (86.33461594581604 %) \n",
            "The prediction is \tYOU LIVED (90.2625322341919 %) \n",
            "The prediction is \tYOU LIVED (89.42750096321106 %) \n",
            "The prediction is \tYOU DIED (63.41957449913025 %) \n",
            "The prediction is \tYOU DIED (84.8567545413971 %) \n",
            "The prediction is \tYOU LIVED (52.81795859336853 %) \n",
            "The prediction is \tYOU DIED (79.75556254386902 %) \n",
            "The prediction is \tYOU DIED (85.26188135147095 %) \n",
            "The prediction is \tYOU DIED (84.78596210479736 %) \n",
            "The prediction is \tYOU LIVED (65.04974365234375 %) \n",
            "The prediction is \tYOU LIVED (57.47918486595154 %) \n",
            "The prediction is \tYOU DIED (85.14450788497925 %) \n",
            "The prediction is \tYOU LIVED (68.63042116165161 %) \n",
            "The prediction is \tYOU DIED (90.74164032936096 %) \n",
            "The prediction is \tYOU DIED (87.93390393257141 %) \n",
            "The prediction is \tYOU DIED (84.29743647575378 %) \n",
            "The prediction is \tYOU DIED (79.03035283088684 %) \n",
            "The prediction is \tYOU DIED (52.22200155258179 %) \n",
            "The prediction is \tYOU LIVED (90.05519151687622 %) \n",
            "The prediction is \tYOU DIED (60.98583936691284 %) \n",
            "The prediction is \tYOU DIED (88.42905163764954 %) \n",
            "The prediction is \tYOU DIED (94.07870769500732 %) \n",
            "The prediction is \tYOU LIVED (72.3688006401062 %) \n",
            "The prediction is \tYOU DIED (84.88444089889526 %) \n",
            "The prediction is \tYOU LIVED (90.39198160171509 %) \n",
            "The prediction is \tYOU DIED (90.59802293777466 %) \n",
            "The prediction is \tYOU DIED (85.31100153923035 %) \n",
            "The prediction is \tYOU LIVED (79.18529510498047 %) \n",
            "The prediction is \tYOU DIED (86.19834780693054 %) \n",
            "The prediction is \tYOU LIVED (88.4530246257782 %) \n",
            "The prediction is \tYOU DIED (52.58111357688904 %) \n",
            "The prediction is \tYOU DIED (69.03560757637024 %) \n",
            "The prediction is \tYOU DIED (76.71000957489014 %) \n",
            "The prediction is \tYOU DIED (90.29709100723267 %) \n",
            "The prediction is \tYOU LIVED (68.20544600486755 %) \n",
            "The prediction is \tYOU LIVED (72.08470106124878 %) \n",
            "The prediction is \tYOU LIVED (64.86097574234009 %) \n",
            "The prediction is \tYOU LIVED (72.11670279502869 %) \n",
            "The prediction is \tYOU LIVED (77.75363326072693 %) \n",
            "The prediction is \tYOU LIVED (56.669068336486816 %) \n",
            "The prediction is \tYOU DIED (91.08176827430725 %) \n",
            "The prediction is \tYOU LIVED (91.09470248222351 %) \n",
            "The prediction is \tYOU DIED (92.0706570148468 %) \n",
            "The prediction is \tYOU DIED (91.08176827430725 %) \n",
            "The prediction is \tYOU DIED (87.91576027870178 %) \n"
          ],
          "name": "stdout"
        }
      ]
    }
  ]
}