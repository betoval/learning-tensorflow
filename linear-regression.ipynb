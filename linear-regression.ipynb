{
  "nbformat": 4,
  "nbformat_minor": 0,
  "metadata": {
    "colab": {
      "name": "linear-regression.ipynb",
      "provenance": [],
      "authorship_tag": "ABX9TyM79NzO9Ipm1PwaJ/GR6Uz7",
      "include_colab_link": true
    },
    "kernelspec": {
      "name": "python3",
      "display_name": "Python 3"
    }
  },
  "cells": [
    {
      "cell_type": "markdown",
      "metadata": {
        "id": "view-in-github",
        "colab_type": "text"
      },
      "source": [
        "<a href=\"https://colab.research.google.com/github/betoval/learning-tensorflow/blob/master/linear-regression.ipynb\" target=\"_parent\"><img src=\"https://colab.research.google.com/assets/colab-badge.svg\" alt=\"Open In Colab\"/></a>"
      ]
    },
    {
      "cell_type": "code",
      "metadata": {
        "id": "lN3PAVjur4Bn",
        "colab_type": "code",
        "colab": {}
      },
      "source": [
        "import tensorflow as tf\n",
        "import numpy as np\n",
        "import matplotlib.pyplot as plt"
      ],
      "execution_count": 0,
      "outputs": []
    },
    {
      "cell_type": "markdown",
      "metadata": {
        "id": "SehcP6fjtOFq",
        "colab_type": "text"
      },
      "source": [
        "**Supervised Machine Learning**\n",
        "\n",
        "Supervised learning occurs when you use an algorithm to learn from example data and associated labels, in order to later predict the correct response when posed with other examples.\n",
        "\n",
        "In math language this means that the algorithm can be written as\n",
        "\n",
        "$Y=f(X)$\n",
        "\n",
        "where\n",
        "\n",
        "$Y$ = predicted output\n",
        "\n",
        "$f$ = function\n",
        "\n",
        "$X$ = input data\n",
        "\n",
        "The model eventually learns to predict the labels for unseen (new) data points."
      ]
    },
    {
      "cell_type": "markdown",
      "metadata": {
        "id": "36cTxCyj6Wte",
        "colab_type": "text"
      },
      "source": [
        "**Linear Regression Model**"
      ]
    },
    {
      "cell_type": "code",
      "metadata": {
        "id": "6lw0dsNFtIR5",
        "colab_type": "code",
        "colab": {}
      },
      "source": [
        "n_examples = 1000 #training examples\n",
        "training_steps = 1000 #number of steps we are going to train for\n",
        "display_step = 100\n",
        "learning_rate = 0.01 #multiplying factor on gradients\n",
        "m, c = 6, -5 #gradient (slope) and y-intercept of our line"
      ],
      "execution_count": 0,
      "outputs": []
    },
    {
      "cell_type": "markdown",
      "metadata": {
        "id": "fId3_C2R7gV1",
        "colab_type": "text"
      },
      "source": [
        "A function to calculate the predicted $y$, given\n",
        "\n",
        "weight = m\n",
        "\n",
        "bias = c"
      ]
    },
    {
      "cell_type": "code",
      "metadata": {
        "id": "FCseumeR7bKq",
        "colab_type": "code",
        "colab": {}
      },
      "source": [
        "def train_data(n,m,c):\n",
        "  x = tf.random.normal([n]) # n values taken from normal distribution\n",
        "  noise = tf.random.normal([n])\n",
        "  y = m*x + c + noise #scatter plot\n",
        "  return x, y\n",
        "def prediction(x, weight, bias):\n",
        "  return weight*x + bias #our predicted (learned) m and c expression is linear (y=mx+c)"
      ],
      "execution_count": 0,
      "outputs": []
    },
    {
      "cell_type": "markdown",
      "metadata": {
        "id": "HiFIS7dj9k5f",
        "colab_type": "text"
      },
      "source": [
        "A function to take predicted weights and biases and calculate the mean square loss from y (original)"
      ]
    },
    {
      "cell_type": "code",
      "metadata": {
        "id": "hZ60GXyA9WHP",
        "colab_type": "code",
        "colab": {}
      },
      "source": [
        "def loss(x, y, weights, bias):\n",
        "  error = prediction(x, weights, bias) - y #how wrong our predicted y is\n",
        "  squared_error = tf.square(error)\n",
        "  return tf.reduce_mean(input_tensor=squared_error)"
      ],
      "execution_count": 0,
      "outputs": []
    },
    {
      "cell_type": "code",
      "metadata": {
        "id": "FKIxDEXQ-kUe",
        "colab_type": "code",
        "colab": {}
      },
      "source": [
        "def grad(x, y, weights, bias):\n",
        "  with tf.GradientTape() as tape:\n",
        "    loss1 = loss(x, y, weights, bias)\n",
        "    return tape.gradient(loss1,[weights,bias])#direction and value of the gradient of our weights and biases\n"
      ],
      "execution_count": 0,
      "outputs": []
    },
    {
      "cell_type": "code",
      "metadata": {
        "id": "OUI1eJaZ_7p2",
        "colab_type": "code",
        "colab": {
          "base_uri": "https://localhost:8080/",
          "height": 312
        },
        "outputId": "efda085d-2fc1-4238-d854-cf52911f00ee"
      },
      "source": [
        "x,y = train_data(n_examples,m,c) #training values x,y\n",
        "plt.scatter(x,y)\n",
        "plt.xlabel(\"x\")\n",
        "plt.ylabel(\"y\")\n",
        "plt.title(\"Training Data\")\n",
        "W = tf.Variable(np.random.randn()) #value for predicted weight (m)\n",
        "B = tf.Variable(np.random.randn()) #value for predicted bias (c)\n",
        "print(\"Initial loss: {:.3f}\".format(loss(x,y,W,B)))"
      ],
      "execution_count": 51,
      "outputs": [
        {
          "output_type": "stream",
          "text": [
            "Initial loss: 51.637\n"
          ],
          "name": "stdout"
        },
        {
          "output_type": "display_data",
          "data": {
            "image/png": "[encoded data removed]",
            "text/plain": [
              "<Figure size 432x288 with 1 Axes>"
            ]
          },
          "metadata": {
            "tags": []
          }
        }
      ]
    },
    {
      "cell_type": "code",
      "metadata": {
        "id": "wm6la9vOTgTx",
        "colab_type": "code",
        "colab": {
          "base_uri": "https://localhost:8080/",
          "height": 357
        },
        "outputId": "96f5a755-2a1d-4c83-b3fe-cc0a3764431f"
      },
      "source": [
        "#Adjust weights and bias to successively lower the loss\n",
        "for step in range(training_steps):\n",
        "  deltaW, deltaB = grad(x,y,W,B)\n",
        "  change_W = deltaW*learning_rate\n",
        "  change_B = deltaB*learning_rate\n",
        "  W.assign_sub(change_W)\n",
        "  B.assign_sub(change_B)\n",
        "  if step==0 or step % display_step == 0:\n",
        "    print(deltaW.numpy(), deltaB.numpy())\n",
        "    print(\"Loss at step {:02d}: {:.6f}\".format(step,loss(x,y,W,B)))"
      ],
      "execution_count": 52,
      "outputs": [
        {
          "output_type": "stream",
          "text": [
            "-10.621782 9.796004\n",
            "Loss at step 00: 49.570507\n",
            "-1.2916719 1.2463684\n",
            "Loss at step 100: 1.816240\n",
            "-0.15679482 0.15888116\n",
            "Loss at step 200: 1.078959\n",
            "-0.018993855 0.020293526\n",
            "Loss at step 300: 1.067551\n",
            "-0.0022959672 0.0025963802\n",
            "Loss at step 400: 1.067374\n",
            "-0.00027796254 0.00033351593\n",
            "Loss at step 500: 1.067371\n",
            "-3.4112483e-05 4.5865774e-05\n",
            "Loss at step 600: 1.067371\n",
            "-2.2968277e-05 2.3759902e-05\n",
            "Loss at step 700: 1.067371\n",
            "-2.2968277e-05 2.3759902e-05\n",
            "Loss at step 800: 1.067371\n",
            "-2.2968277e-05 2.3759902e-05\n",
            "Loss at step 900: 1.067371\n"
          ],
          "name": "stdout"
        }
      ]
    },
    {
      "cell_type": "code",
      "metadata": {
        "id": "sK2GAsaKaQRQ",
        "colab_type": "code",
        "colab": {
          "base_uri": "https://localhost:8080/",
          "height": 363
        },
        "outputId": "93f7c4b2-690e-4cbb-b43a-8248de3ba3d8"
      },
      "source": [
        "print(\"Final loss: {:.3f}\".format(loss(x,y,W,B)))\n",
        "print(\"W={}, B={}\".format(W.numpy(),B.numpy()))\n",
        "print(\"Compared with m={:.3f}, c={:.3f}\".format(m,c), \"of the original line\")\n",
        "xs = np.linspace(-3,4,50)\n",
        "ys = W.numpy()*xs + B.numpy()\n",
        "plt.scatter(xs,ys)\n",
        "plt.xlabel(\"x\")\n",
        "plt.ylabel(\"y\")\n",
        "plt.title(\"Line of best fit\")"
      ],
      "execution_count": 54,
      "outputs": [
        {
          "output_type": "stream",
          "text": [
            "Final loss: 1.067\n",
            "W=5.9924702644348145, B=-4.950345516204834\n",
            "Compared with m=6.000, c=-5.000 of the original line\n"
          ],
          "name": "stdout"
        },
        {
          "output_type": "execute_result",
          "data": {
            "text/plain": [
              "Text(0.5, 1.0, 'Line of best fit')"
            ]
          },
          "metadata": {
            "tags": []
          },
          "execution_count": 54
        },
        {
          "output_type": "display_data",
          "data": {
            "image/png": "[encoded data removed]",
            "text/plain": [
              "<Figure size 432x288 with 1 Axes>"
            ]
          },
          "metadata": {
            "tags": []
          }
        }
      ]
    }
  ]
}