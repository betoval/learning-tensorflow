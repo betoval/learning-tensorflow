{
  "nbformat": 4,
  "nbformat_minor": 0,
  "metadata": {
    "colab": {
      "name": "titanic-estimator.ipynb",
      "provenance": [],
      "authorship_tag": "ABX9TyNt89xt4hddTxaj0nzA1InH",
      "include_colab_link": true
    },
    "kernelspec": {
      "name": "python3",
      "display_name": "Python 3"
    }
  },
  "cells": [
    {
      "cell_type": "markdown",
      "metadata": {
        "id": "view-in-github",
        "colab_type": "text"
      },
      "source": [
        "<a href=\"https://colab.research.google.com/github/betoval/learning-tensorflow/blob/master/titanic-estimator-roc.ipynb\" target=\"_parent\"><img src=\"https://colab.research.google.com/assets/colab-badge.svg\" alt=\"Open In Colab\"/></a>"
      ]
    },
    {
      "cell_type": "code",
      "metadata": {
        "id": "9xfVsuFP-V3R",
        "colab_type": "code",
        "colab": {}
      },
      "source": [
        "import tensorflow as tf\n",
        "import pandas as pd\n",
        "from sklearn.model_selection import train_test_split\n",
        "import matplotlib.pyplot as plt\n",
        "from sklearn.metrics import roc_curve\n",
        "import numpy as np"
      ],
      "execution_count": 0,
      "outputs": []
    },
    {
      "cell_type": "code",
      "metadata": {
        "id": "VoAC6VKHcA8n",
        "colab_type": "code",
        "outputId": "3354cd97-0292-4adf-8a0c-6ff4c1c0f8c2",
        "colab": {
          "base_uri": "https://localhost:8080/",
          "height": 359
        }
      },
      "source": [
        "#we use pandas to load the csv files\n",
        "train = pd.read_csv(\"train.csv\")\n",
        "test = pd.read_csv(\"test.csv\")\n",
        "#showing some of the data\n",
        "train.head(10)"
      ],
      "execution_count": 341,
      "outputs": [
        {
          "output_type": "execute_result",
          "data": {
            "text/html": [
              "<div>\n",
              "<style scoped>\n",
              "    .dataframe tbody tr th:only-of-type {\n",
              "        vertical-align: middle;\n",
              "    }\n",
              "\n",
              "    .dataframe tbody tr th {\n",
              "        vertical-align: top;\n",
              "    }\n",
              "\n",
              "    .dataframe thead th {\n",
              "        text-align: right;\n",
              "    }\n",
              "</style>\n",
              "<table border=\"1\" class=\"dataframe\">\n",
              "  <thead>\n",
              "    <tr style=\"text-align: right;\">\n",
              "      <th></th>\n",
              "      <th>PassengerId</th>\n",
              "      <th>Survived</th>\n",
              "      <th>Pclass</th>\n",
              "      <th>Name</th>\n",
              "      <th>Sex</th>\n",
              "      <th>Age</th>\n",
              "      <th>SibSp</th>\n",
              "      <th>Parch</th>\n",
              "      <th>Ticket</th>\n",
              "      <th>Fare</th>\n",
              "      <th>Cabin</th>\n",
              "      <th>Embarked</th>\n",
              "    </tr>\n",
              "  </thead>\n",
              "  <tbody>\n",
              "    <tr>\n",
              "      <th>0</th>\n",
              "      <td>1</td>\n",
              "      <td>0</td>\n",
              "      <td>3</td>\n",
              "      <td>Braund, Mr. Owen Harris</td>\n",
              "      <td>male</td>\n",
              "      <td>22.0</td>\n",
              "      <td>1</td>\n",
              "      <td>0</td>\n",
              "      <td>A/5 21171</td>\n",
              "      <td>7.2500</td>\n",
              "      <td>NaN</td>\n",
              "      <td>S</td>\n",
              "    </tr>\n",
              "    <tr>\n",
              "      <th>1</th>\n",
              "      <td>2</td>\n",
              "      <td>1</td>\n",
              "      <td>1</td>\n",
              "      <td>Cumings, Mrs. John Bradley (Florence Briggs Th...</td>\n",
              "      <td>female</td>\n",
              "      <td>38.0</td>\n",
              "      <td>1</td>\n",
              "      <td>0</td>\n",
              "      <td>PC 17599</td>\n",
              "      <td>71.2833</td>\n",
              "      <td>C85</td>\n",
              "      <td>C</td>\n",
              "    </tr>\n",
              "    <tr>\n",
              "      <th>2</th>\n",
              "      <td>3</td>\n",
              "      <td>1</td>\n",
              "      <td>3</td>\n",
              "      <td>Heikkinen, Miss. Laina</td>\n",
              "      <td>female</td>\n",
              "      <td>26.0</td>\n",
              "      <td>0</td>\n",
              "      <td>0</td>\n",
              "      <td>STON/O2. 3101282</td>\n",
              "      <td>7.9250</td>\n",
              "      <td>NaN</td>\n",
              "      <td>S</td>\n",
              "    </tr>\n",
              "    <tr>\n",
              "      <th>3</th>\n",
              "      <td>4</td>\n",
              "      <td>1</td>\n",
              "      <td>1</td>\n",
              "      <td>Futrelle, Mrs. Jacques Heath (Lily May Peel)</td>\n",
              "      <td>female</td>\n",
              "      <td>35.0</td>\n",
              "      <td>1</td>\n",
              "      <td>0</td>\n",
              "      <td>113803</td>\n",
              "      <td>53.1000</td>\n",
              "      <td>C123</td>\n",
              "      <td>S</td>\n",
              "    </tr>\n",
              "    <tr>\n",
              "      <th>4</th>\n",
              "      <td>5</td>\n",
              "      <td>0</td>\n",
              "      <td>3</td>\n",
              "      <td>Allen, Mr. William Henry</td>\n",
              "      <td>male</td>\n",
              "      <td>35.0</td>\n",
              "      <td>0</td>\n",
              "      <td>0</td>\n",
              "      <td>373450</td>\n",
              "      <td>8.0500</td>\n",
              "      <td>NaN</td>\n",
              "      <td>S</td>\n",
              "    </tr>\n",
              "    <tr>\n",
              "      <th>5</th>\n",
              "      <td>6</td>\n",
              "      <td>0</td>\n",
              "      <td>3</td>\n",
              "      <td>Moran, Mr. James</td>\n",
              "      <td>male</td>\n",
              "      <td>NaN</td>\n",
              "      <td>0</td>\n",
              "      <td>0</td>\n",
              "      <td>330877</td>\n",
              "      <td>8.4583</td>\n",
              "      <td>NaN</td>\n",
              "      <td>Q</td>\n",
              "    </tr>\n",
              "    <tr>\n",
              "      <th>6</th>\n",
              "      <td>7</td>\n",
              "      <td>0</td>\n",
              "      <td>1</td>\n",
              "      <td>McCarthy, Mr. Timothy J</td>\n",
              "      <td>male</td>\n",
              "      <td>54.0</td>\n",
              "      <td>0</td>\n",
              "      <td>0</td>\n",
              "      <td>17463</td>\n",
              "      <td>51.8625</td>\n",
              "      <td>E46</td>\n",
              "      <td>S</td>\n",
              "    </tr>\n",
              "    <tr>\n",
              "      <th>7</th>\n",
              "      <td>8</td>\n",
              "      <td>0</td>\n",
              "      <td>3</td>\n",
              "      <td>Palsson, Master. Gosta Leonard</td>\n",
              "      <td>male</td>\n",
              "      <td>2.0</td>\n",
              "      <td>3</td>\n",
              "      <td>1</td>\n",
              "      <td>349909</td>\n",
              "      <td>21.0750</td>\n",
              "      <td>NaN</td>\n",
              "      <td>S</td>\n",
              "    </tr>\n",
              "    <tr>\n",
              "      <th>8</th>\n",
              "      <td>9</td>\n",
              "      <td>1</td>\n",
              "      <td>3</td>\n",
              "      <td>Johnson, Mrs. Oscar W (Elisabeth Vilhelmina Berg)</td>\n",
              "      <td>female</td>\n",
              "      <td>27.0</td>\n",
              "      <td>0</td>\n",
              "      <td>2</td>\n",
              "      <td>347742</td>\n",
              "      <td>11.1333</td>\n",
              "      <td>NaN</td>\n",
              "      <td>S</td>\n",
              "    </tr>\n",
              "    <tr>\n",
              "      <th>9</th>\n",
              "      <td>10</td>\n",
              "      <td>1</td>\n",
              "      <td>2</td>\n",
              "      <td>Nasser, Mrs. Nicholas (Adele Achem)</td>\n",
              "      <td>female</td>\n",
              "      <td>14.0</td>\n",
              "      <td>1</td>\n",
              "      <td>0</td>\n",
              "      <td>237736</td>\n",
              "      <td>30.0708</td>\n",
              "      <td>NaN</td>\n",
              "      <td>C</td>\n",
              "    </tr>\n",
              "  </tbody>\n",
              "</table>\n",
              "</div>"
            ],
            "text/plain": [
              "   PassengerId  Survived  Pclass  ...     Fare Cabin  Embarked\n",
              "0            1         0       3  ...   7.2500   NaN         S\n",
              "1            2         1       1  ...  71.2833   C85         C\n",
              "2            3         1       3  ...   7.9250   NaN         S\n",
              "3            4         1       1  ...  53.1000  C123         S\n",
              "4            5         0       3  ...   8.0500   NaN         S\n",
              "5            6         0       3  ...   8.4583   NaN         Q\n",
              "6            7         0       1  ...  51.8625   E46         S\n",
              "7            8         0       3  ...  21.0750   NaN         S\n",
              "8            9         1       3  ...  11.1333   NaN         S\n",
              "9           10         1       2  ...  30.0708   NaN         C\n",
              "\n",
              "[10 rows x 12 columns]"
            ]
          },
          "metadata": {
            "tags": []
          },
          "execution_count": 341
        }
      ]
    },
    {
      "cell_type": "markdown",
      "metadata": {
        "id": "GpyzK_YOs11u",
        "colab_type": "text"
      },
      "source": [
        "We note that we have the word \"NaN\" in the 'Age' feature, which means that we are missing those values."
      ]
    },
    {
      "cell_type": "code",
      "metadata": {
        "id": "cIRDhM20ucos",
        "colab_type": "code",
        "outputId": "ff6a36e6-e474-45ba-c7e1-fe8eaad407b6",
        "colab": {
          "base_uri": "https://localhost:8080/",
          "height": 119
        }
      },
      "source": [
        "total = train.isnull().sum().sort_values(ascending=False)\n",
        "total.head()"
      ],
      "execution_count": 342,
      "outputs": [
        {
          "output_type": "execute_result",
          "data": {
            "text/plain": [
              "Cabin       687\n",
              "Age         177\n",
              "Embarked      2\n",
              "Fare          0\n",
              "Ticket        0\n",
              "dtype: int64"
            ]
          },
          "metadata": {
            "tags": []
          },
          "execution_count": 342
        }
      ]
    },
    {
      "cell_type": "code",
      "metadata": {
        "id": "f1Afnaghv44M",
        "colab_type": "code",
        "outputId": "cde26dfb-3d6f-4f46-aa13-786cafd527dc",
        "colab": {
          "base_uri": "https://localhost:8080/",
          "height": 85
        }
      },
      "source": [
        "train['Embarked'].value_counts()"
      ],
      "execution_count": 343,
      "outputs": [
        {
          "output_type": "execute_result",
          "data": {
            "text/plain": [
              "S    644\n",
              "C    168\n",
              "Q     77\n",
              "Name: Embarked, dtype: int64"
            ]
          },
          "metadata": {
            "tags": []
          },
          "execution_count": 343
        }
      ]
    },
    {
      "cell_type": "markdown",
      "metadata": {
        "id": "O91cbkHywBKA",
        "colab_type": "text"
      },
      "source": [
        "Here, we note that we are missing 177 values of Age, 687 of Cabin, and 2 of Embarked. As a first attemp we will replace the missing values of Age with the value of the \"mean age\" and the Embarked values with S, which is the most common."
      ]
    },
    {
      "cell_type": "code",
      "metadata": {
        "id": "ChgstGPamKAV",
        "colab_type": "code",
        "outputId": "31f88661-ad6c-4719-ca0d-a52750a23bf4",
        "colab": {
          "base_uri": "https://localhost:8080/",
          "height": 340
        }
      },
      "source": [
        "train.info()"
      ],
      "execution_count": 344,
      "outputs": [
        {
          "output_type": "stream",
          "text": [
            "<class 'pandas.core.frame.DataFrame'>\n",
            "RangeIndex: 891 entries, 0 to 890\n",
            "Data columns (total 12 columns):\n",
            " #   Column       Non-Null Count  Dtype  \n",
            "---  ------       --------------  -----  \n",
            " 0   PassengerId  891 non-null    int64  \n",
            " 1   Survived     891 non-null    int64  \n",
            " 2   Pclass       891 non-null    int64  \n",
            " 3   Name         891 non-null    object \n",
            " 4   Sex          891 non-null    object \n",
            " 5   Age          714 non-null    float64\n",
            " 6   SibSp        891 non-null    int64  \n",
            " 7   Parch        891 non-null    int64  \n",
            " 8   Ticket       891 non-null    object \n",
            " 9   Fare         891 non-null    float64\n",
            " 10  Cabin        204 non-null    object \n",
            " 11  Embarked     889 non-null    object \n",
            "dtypes: float64(2), int64(5), object(5)\n",
            "memory usage: 83.7+ KB\n"
          ],
          "name": "stdout"
        }
      ]
    },
    {
      "cell_type": "markdown",
      "metadata": {
        "id": "LtjFmkipn3qL",
        "colab_type": "text"
      },
      "source": [
        "We can see that the data has 11 features + Survived (the feature we are interested in).\n",
        "\n",
        "Below, we can examine the statistics of the data using `pd.DataFrame.describe`"
      ]
    },
    {
      "cell_type": "code",
      "metadata": {
        "id": "6M4xme6Qr-vn",
        "colab_type": "code",
        "outputId": "4e0598e3-9694-4331-8234-4dec0fc6e743",
        "colab": {
          "base_uri": "https://localhost:8080/",
          "height": 297
        }
      },
      "source": [
        "train.describe()"
      ],
      "execution_count": 345,
      "outputs": [
        {
          "output_type": "execute_result",
          "data": {
            "text/html": [
              "<div>\n",
              "<style scoped>\n",
              "    .dataframe tbody tr th:only-of-type {\n",
              "        vertical-align: middle;\n",
              "    }\n",
              "\n",
              "    .dataframe tbody tr th {\n",
              "        vertical-align: top;\n",
              "    }\n",
              "\n",
              "    .dataframe thead th {\n",
              "        text-align: right;\n",
              "    }\n",
              "</style>\n",
              "<table border=\"1\" class=\"dataframe\">\n",
              "  <thead>\n",
              "    <tr style=\"text-align: right;\">\n",
              "      <th></th>\n",
              "      <th>PassengerId</th>\n",
              "      <th>Survived</th>\n",
              "      <th>Pclass</th>\n",
              "      <th>Age</th>\n",
              "      <th>SibSp</th>\n",
              "      <th>Parch</th>\n",
              "      <th>Fare</th>\n",
              "    </tr>\n",
              "  </thead>\n",
              "  <tbody>\n",
              "    <tr>\n",
              "      <th>count</th>\n",
              "      <td>891.000000</td>\n",
              "      <td>891.000000</td>\n",
              "      <td>891.000000</td>\n",
              "      <td>714.000000</td>\n",
              "      <td>891.000000</td>\n",
              "      <td>891.000000</td>\n",
              "      <td>891.000000</td>\n",
              "    </tr>\n",
              "    <tr>\n",
              "      <th>mean</th>\n",
              "      <td>446.000000</td>\n",
              "      <td>0.383838</td>\n",
              "      <td>2.308642</td>\n",
              "      <td>29.699118</td>\n",
              "      <td>0.523008</td>\n",
              "      <td>0.381594</td>\n",
              "      <td>32.204208</td>\n",
              "    </tr>\n",
              "    <tr>\n",
              "      <th>std</th>\n",
              "      <td>257.353842</td>\n",
              "      <td>0.486592</td>\n",
              "      <td>0.836071</td>\n",
              "      <td>14.526497</td>\n",
              "      <td>1.102743</td>\n",
              "      <td>0.806057</td>\n",
              "      <td>49.693429</td>\n",
              "    </tr>\n",
              "    <tr>\n",
              "      <th>min</th>\n",
              "      <td>1.000000</td>\n",
              "      <td>0.000000</td>\n",
              "      <td>1.000000</td>\n",
              "      <td>0.420000</td>\n",
              "      <td>0.000000</td>\n",
              "      <td>0.000000</td>\n",
              "      <td>0.000000</td>\n",
              "    </tr>\n",
              "    <tr>\n",
              "      <th>25%</th>\n",
              "      <td>223.500000</td>\n",
              "      <td>0.000000</td>\n",
              "      <td>2.000000</td>\n",
              "      <td>20.125000</td>\n",
              "      <td>0.000000</td>\n",
              "      <td>0.000000</td>\n",
              "      <td>7.910400</td>\n",
              "    </tr>\n",
              "    <tr>\n",
              "      <th>50%</th>\n",
              "      <td>446.000000</td>\n",
              "      <td>0.000000</td>\n",
              "      <td>3.000000</td>\n",
              "      <td>28.000000</td>\n",
              "      <td>0.000000</td>\n",
              "      <td>0.000000</td>\n",
              "      <td>14.454200</td>\n",
              "    </tr>\n",
              "    <tr>\n",
              "      <th>75%</th>\n",
              "      <td>668.500000</td>\n",
              "      <td>1.000000</td>\n",
              "      <td>3.000000</td>\n",
              "      <td>38.000000</td>\n",
              "      <td>1.000000</td>\n",
              "      <td>0.000000</td>\n",
              "      <td>31.000000</td>\n",
              "    </tr>\n",
              "    <tr>\n",
              "      <th>max</th>\n",
              "      <td>891.000000</td>\n",
              "      <td>1.000000</td>\n",
              "      <td>3.000000</td>\n",
              "      <td>80.000000</td>\n",
              "      <td>8.000000</td>\n",
              "      <td>6.000000</td>\n",
              "      <td>512.329200</td>\n",
              "    </tr>\n",
              "  </tbody>\n",
              "</table>\n",
              "</div>"
            ],
            "text/plain": [
              "       PassengerId    Survived      Pclass  ...       SibSp       Parch        Fare\n",
              "count   891.000000  891.000000  891.000000  ...  891.000000  891.000000  891.000000\n",
              "mean    446.000000    0.383838    2.308642  ...    0.523008    0.381594   32.204208\n",
              "std     257.353842    0.486592    0.836071  ...    1.102743    0.806057   49.693429\n",
              "min       1.000000    0.000000    1.000000  ...    0.000000    0.000000    0.000000\n",
              "25%     223.500000    0.000000    2.000000  ...    0.000000    0.000000    7.910400\n",
              "50%     446.000000    0.000000    3.000000  ...    0.000000    0.000000   14.454200\n",
              "75%     668.500000    1.000000    3.000000  ...    1.000000    0.000000   31.000000\n",
              "max     891.000000    1.000000    3.000000  ...    8.000000    6.000000  512.329200\n",
              "\n",
              "[8 rows x 7 columns]"
            ]
          },
          "metadata": {
            "tags": []
          },
          "execution_count": 345
        }
      ]
    },
    {
      "cell_type": "markdown",
      "metadata": {
        "id": "NgdE4ofo8dzM",
        "colab_type": "text"
      },
      "source": [
        "It is evident that we are missing 177 'Age' values. We need to take care of that.\n",
        "\n",
        "Of course, not all features are useful. In fact, we don't need the following: PassengerID, ticket, Name because they don't tell us anything about the survival rate. It is important to note that the Cabin feature could be useful, however, we will drop it because of its missing values."
      ]
    },
    {
      "cell_type": "code",
      "metadata": {
        "id": "MPTdouC-8QXz",
        "colab_type": "code",
        "outputId": "15db4142-8de4-4a70-fd6b-2630e5be4fdd",
        "colab": {
          "base_uri": "https://localhost:8080/",
          "height": 51
        }
      },
      "source": [
        "#show train columns\n",
        "train.columns.values"
      ],
      "execution_count": 346,
      "outputs": [
        {
          "output_type": "execute_result",
          "data": {
            "text/plain": [
              "array(['PassengerId', 'Survived', 'Pclass', 'Name', 'Sex', 'Age', 'SibSp',\n",
              "       'Parch', 'Ticket', 'Fare', 'Cabin', 'Embarked'], dtype=object)"
            ]
          },
          "metadata": {
            "tags": []
          },
          "execution_count": 346
        }
      ]
    },
    {
      "cell_type": "code",
      "metadata": {
        "id": "yZCjTiZqXmMy",
        "colab_type": "code",
        "outputId": "effd7ff7-aab6-4f1f-a893-170933ae785a",
        "colab": {
          "base_uri": "https://localhost:8080/",
          "height": 51
        }
      },
      "source": [
        "#show test columns\n",
        "test.columns.values"
      ],
      "execution_count": 347,
      "outputs": [
        {
          "output_type": "execute_result",
          "data": {
            "text/plain": [
              "array(['PassengerId', 'Pclass', 'Name', 'Sex', 'Age', 'SibSp', 'Parch',\n",
              "       'Ticket', 'Fare', 'Cabin', 'Embarked'], dtype=object)"
            ]
          },
          "metadata": {
            "tags": []
          },
          "execution_count": 347
        }
      ]
    },
    {
      "cell_type": "code",
      "metadata": {
        "id": "kg6NWCDvtjIO",
        "colab_type": "code",
        "outputId": "6c178808-3fb8-4e06-a6c6-db515f2b61f1",
        "colab": {
          "base_uri": "https://localhost:8080/",
          "height": 153
        }
      },
      "source": [
        "#obtain the mean age to replace the missing values\n",
        "train.mean(axis=0)"
      ],
      "execution_count": 348,
      "outputs": [
        {
          "output_type": "execute_result",
          "data": {
            "text/plain": [
              "PassengerId    446.000000\n",
              "Survived         0.383838\n",
              "Pclass           2.308642\n",
              "Age             29.699118\n",
              "SibSp            0.523008\n",
              "Parch            0.381594\n",
              "Fare            32.204208\n",
              "dtype: float64"
            ]
          },
          "metadata": {
            "tags": []
          },
          "execution_count": 348
        }
      ]
    },
    {
      "cell_type": "code",
      "metadata": {
        "id": "Q38Y77ttWiow",
        "colab_type": "code",
        "outputId": "89dab495-7184-444f-96d1-6235cb24d84a",
        "colab": {
          "base_uri": "https://localhost:8080/",
          "height": 221
        }
      },
      "source": [
        "#features\n",
        "train_x = train.drop(['PassengerId', 'Name', 'Ticket', 'Cabin','Survived'],\n",
        "                     axis=1)\n",
        "#label\n",
        "train_y = train['Survived']\n",
        "#test dataset, doesn't include the label\n",
        "test_x = test.drop(['PassengerId','Name', 'Ticket', 'Cabin'],axis=1)\n",
        "#train_y only includes 0 and 1 (dead or alive)\n",
        "print(train_y)"
      ],
      "execution_count": 349,
      "outputs": [
        {
          "output_type": "stream",
          "text": [
            "0      0\n",
            "1      1\n",
            "2      1\n",
            "3      1\n",
            "4      0\n",
            "      ..\n",
            "886    0\n",
            "887    1\n",
            "888    0\n",
            "889    1\n",
            "890    0\n",
            "Name: Survived, Length: 891, dtype: int64\n"
          ],
          "name": "stdout"
        }
      ]
    },
    {
      "cell_type": "code",
      "metadata": {
        "id": "ecRToJ0t8ECl",
        "colab_type": "code",
        "colab": {}
      },
      "source": [
        "#fill the Age feature with the mean, which is 30\n",
        "train_x['Age'] = train_x['Age'].fillna(30)"
      ],
      "execution_count": 0,
      "outputs": []
    },
    {
      "cell_type": "code",
      "metadata": {
        "id": "MPqUgcSf0hB_",
        "colab_type": "code",
        "colab": {}
      },
      "source": [
        "#fill Embarked with S, the most common value\n",
        "train_x[\"Embarked\"].fillna(\"S\", inplace = True) "
      ],
      "execution_count": 0,
      "outputs": []
    },
    {
      "cell_type": "code",
      "metadata": {
        "id": "Bo_8b6D66VtU",
        "colab_type": "code",
        "outputId": "067549b0-64ec-447d-8b29-cc856ae4012c",
        "colab": {
          "base_uri": "https://localhost:8080/",
          "height": 255
        }
      },
      "source": [
        "#train_x is the \"complete\" train data\n",
        "train_x.info()"
      ],
      "execution_count": 352,
      "outputs": [
        {
          "output_type": "stream",
          "text": [
            "<class 'pandas.core.frame.DataFrame'>\n",
            "RangeIndex: 891 entries, 0 to 890\n",
            "Data columns (total 7 columns):\n",
            " #   Column    Non-Null Count  Dtype  \n",
            "---  ------    --------------  -----  \n",
            " 0   Pclass    891 non-null    int64  \n",
            " 1   Sex       891 non-null    object \n",
            " 2   Age       891 non-null    float64\n",
            " 3   SibSp     891 non-null    int64  \n",
            " 4   Parch     891 non-null    int64  \n",
            " 5   Fare      891 non-null    float64\n",
            " 6   Embarked  891 non-null    object \n",
            "dtypes: float64(2), int64(3), object(2)\n",
            "memory usage: 48.9+ KB\n"
          ],
          "name": "stdout"
        }
      ]
    },
    {
      "cell_type": "code",
      "metadata": {
        "id": "HFYSEXNqhfOE",
        "colab_type": "code",
        "outputId": "5a5434d5-17e5-4f85-9336-cf6e841ea05f",
        "colab": {
          "base_uri": "https://localhost:8080/",
          "height": 255
        }
      },
      "source": [
        "#indeed, the test_x dataset doesn't include Survived\n",
        "test_x.info()"
      ],
      "execution_count": 353,
      "outputs": [
        {
          "output_type": "stream",
          "text": [
            "<class 'pandas.core.frame.DataFrame'>\n",
            "RangeIndex: 418 entries, 0 to 417\n",
            "Data columns (total 7 columns):\n",
            " #   Column    Non-Null Count  Dtype  \n",
            "---  ------    --------------  -----  \n",
            " 0   Pclass    418 non-null    int64  \n",
            " 1   Sex       418 non-null    object \n",
            " 2   Age       332 non-null    float64\n",
            " 3   SibSp     418 non-null    int64  \n",
            " 4   Parch     418 non-null    int64  \n",
            " 5   Fare      417 non-null    float64\n",
            " 6   Embarked  418 non-null    object \n",
            "dtypes: float64(2), int64(3), object(2)\n",
            "memory usage: 23.0+ KB\n"
          ],
          "name": "stdout"
        }
      ]
    },
    {
      "cell_type": "code",
      "metadata": {
        "id": "MJ-j3XmmCa_M",
        "colab_type": "code",
        "outputId": "50b0f047-f1ea-4970-d3ff-248c692848ef",
        "colab": {
          "base_uri": "https://localhost:8080/",
          "height": 119
        }
      },
      "source": [
        "test_x.mean(axis=0)"
      ],
      "execution_count": 354,
      "outputs": [
        {
          "output_type": "execute_result",
          "data": {
            "text/plain": [
              "Pclass     2.265550\n",
              "Age       30.272590\n",
              "SibSp      0.447368\n",
              "Parch      0.392344\n",
              "Fare      35.627188\n",
              "dtype: float64"
            ]
          },
          "metadata": {
            "tags": []
          },
          "execution_count": 354
        }
      ]
    },
    {
      "cell_type": "code",
      "metadata": {
        "id": "4kLKvrXYCfDM",
        "colab_type": "code",
        "colab": {}
      },
      "source": [
        "test_x['Age'] = test_x['Age'].fillna(30)\n",
        "test_x['Fare'] = test_x['Fare'].fillna(36)"
      ],
      "execution_count": 0,
      "outputs": []
    },
    {
      "cell_type": "code",
      "metadata": {
        "id": "G7aJwNWcCpNb",
        "colab_type": "code",
        "outputId": "f4336d2b-9a24-40b2-ee56-7846278e6b15",
        "colab": {
          "base_uri": "https://localhost:8080/",
          "height": 255
        }
      },
      "source": [
        "test_x.info()"
      ],
      "execution_count": 356,
      "outputs": [
        {
          "output_type": "stream",
          "text": [
            "<class 'pandas.core.frame.DataFrame'>\n",
            "RangeIndex: 418 entries, 0 to 417\n",
            "Data columns (total 7 columns):\n",
            " #   Column    Non-Null Count  Dtype  \n",
            "---  ------    --------------  -----  \n",
            " 0   Pclass    418 non-null    int64  \n",
            " 1   Sex       418 non-null    object \n",
            " 2   Age       418 non-null    float64\n",
            " 3   SibSp     418 non-null    int64  \n",
            " 4   Parch     418 non-null    int64  \n",
            " 5   Fare      418 non-null    float64\n",
            " 6   Embarked  418 non-null    object \n",
            "dtypes: float64(2), int64(3), object(2)\n",
            "memory usage: 23.0+ KB\n"
          ],
          "name": "stdout"
        }
      ]
    },
    {
      "cell_type": "code",
      "metadata": {
        "id": "izX8JFFkehxR",
        "colab_type": "code",
        "colab": {
          "base_uri": "https://localhost:8080/",
          "height": 419
        },
        "outputId": "3e964bc1-0df9-4985-e9fe-60e99e2f5170"
      },
      "source": [
        "#separate survivors\n",
        "survived_label = train.groupby(['Survived'])\n",
        "alive = survived_label.get_group(1)\n",
        "alive"
      ],
      "execution_count": 357,
      "outputs": [
        {
          "output_type": "execute_result",
          "data": {
            "text/html": [
              "<div>\n",
              "<style scoped>\n",
              "    .dataframe tbody tr th:only-of-type {\n",
              "        vertical-align: middle;\n",
              "    }\n",
              "\n",
              "    .dataframe tbody tr th {\n",
              "        vertical-align: top;\n",
              "    }\n",
              "\n",
              "    .dataframe thead th {\n",
              "        text-align: right;\n",
              "    }\n",
              "</style>\n",
              "<table border=\"1\" class=\"dataframe\">\n",
              "  <thead>\n",
              "    <tr style=\"text-align: right;\">\n",
              "      <th></th>\n",
              "      <th>PassengerId</th>\n",
              "      <th>Survived</th>\n",
              "      <th>Pclass</th>\n",
              "      <th>Name</th>\n",
              "      <th>Sex</th>\n",
              "      <th>Age</th>\n",
              "      <th>SibSp</th>\n",
              "      <th>Parch</th>\n",
              "      <th>Ticket</th>\n",
              "      <th>Fare</th>\n",
              "      <th>Cabin</th>\n",
              "      <th>Embarked</th>\n",
              "    </tr>\n",
              "  </thead>\n",
              "  <tbody>\n",
              "    <tr>\n",
              "      <th>1</th>\n",
              "      <td>2</td>\n",
              "      <td>1</td>\n",
              "      <td>1</td>\n",
              "      <td>Cumings, Mrs. John Bradley (Florence Briggs Th...</td>\n",
              "      <td>female</td>\n",
              "      <td>38.0</td>\n",
              "      <td>1</td>\n",
              "      <td>0</td>\n",
              "      <td>PC 17599</td>\n",
              "      <td>71.2833</td>\n",
              "      <td>C85</td>\n",
              "      <td>C</td>\n",
              "    </tr>\n",
              "    <tr>\n",
              "      <th>2</th>\n",
              "      <td>3</td>\n",
              "      <td>1</td>\n",
              "      <td>3</td>\n",
              "      <td>Heikkinen, Miss. Laina</td>\n",
              "      <td>female</td>\n",
              "      <td>26.0</td>\n",
              "      <td>0</td>\n",
              "      <td>0</td>\n",
              "      <td>STON/O2. 3101282</td>\n",
              "      <td>7.9250</td>\n",
              "      <td>NaN</td>\n",
              "      <td>S</td>\n",
              "    </tr>\n",
              "    <tr>\n",
              "      <th>3</th>\n",
              "      <td>4</td>\n",
              "      <td>1</td>\n",
              "      <td>1</td>\n",
              "      <td>Futrelle, Mrs. Jacques Heath (Lily May Peel)</td>\n",
              "      <td>female</td>\n",
              "      <td>35.0</td>\n",
              "      <td>1</td>\n",
              "      <td>0</td>\n",
              "      <td>113803</td>\n",
              "      <td>53.1000</td>\n",
              "      <td>C123</td>\n",
              "      <td>S</td>\n",
              "    </tr>\n",
              "    <tr>\n",
              "      <th>8</th>\n",
              "      <td>9</td>\n",
              "      <td>1</td>\n",
              "      <td>3</td>\n",
              "      <td>Johnson, Mrs. Oscar W (Elisabeth Vilhelmina Berg)</td>\n",
              "      <td>female</td>\n",
              "      <td>27.0</td>\n",
              "      <td>0</td>\n",
              "      <td>2</td>\n",
              "      <td>347742</td>\n",
              "      <td>11.1333</td>\n",
              "      <td>NaN</td>\n",
              "      <td>S</td>\n",
              "    </tr>\n",
              "    <tr>\n",
              "      <th>9</th>\n",
              "      <td>10</td>\n",
              "      <td>1</td>\n",
              "      <td>2</td>\n",
              "      <td>Nasser, Mrs. Nicholas (Adele Achem)</td>\n",
              "      <td>female</td>\n",
              "      <td>14.0</td>\n",
              "      <td>1</td>\n",
              "      <td>0</td>\n",
              "      <td>237736</td>\n",
              "      <td>30.0708</td>\n",
              "      <td>NaN</td>\n",
              "      <td>C</td>\n",
              "    </tr>\n",
              "    <tr>\n",
              "      <th>...</th>\n",
              "      <td>...</td>\n",
              "      <td>...</td>\n",
              "      <td>...</td>\n",
              "      <td>...</td>\n",
              "      <td>...</td>\n",
              "      <td>...</td>\n",
              "      <td>...</td>\n",
              "      <td>...</td>\n",
              "      <td>...</td>\n",
              "      <td>...</td>\n",
              "      <td>...</td>\n",
              "      <td>...</td>\n",
              "    </tr>\n",
              "    <tr>\n",
              "      <th>875</th>\n",
              "      <td>876</td>\n",
              "      <td>1</td>\n",
              "      <td>3</td>\n",
              "      <td>Najib, Miss. Adele Kiamie \"Jane\"</td>\n",
              "      <td>female</td>\n",
              "      <td>15.0</td>\n",
              "      <td>0</td>\n",
              "      <td>0</td>\n",
              "      <td>2667</td>\n",
              "      <td>7.2250</td>\n",
              "      <td>NaN</td>\n",
              "      <td>C</td>\n",
              "    </tr>\n",
              "    <tr>\n",
              "      <th>879</th>\n",
              "      <td>880</td>\n",
              "      <td>1</td>\n",
              "      <td>1</td>\n",
              "      <td>Potter, Mrs. Thomas Jr (Lily Alexenia Wilson)</td>\n",
              "      <td>female</td>\n",
              "      <td>56.0</td>\n",
              "      <td>0</td>\n",
              "      <td>1</td>\n",
              "      <td>11767</td>\n",
              "      <td>83.1583</td>\n",
              "      <td>C50</td>\n",
              "      <td>C</td>\n",
              "    </tr>\n",
              "    <tr>\n",
              "      <th>880</th>\n",
              "      <td>881</td>\n",
              "      <td>1</td>\n",
              "      <td>2</td>\n",
              "      <td>Shelley, Mrs. William (Imanita Parrish Hall)</td>\n",
              "      <td>female</td>\n",
              "      <td>25.0</td>\n",
              "      <td>0</td>\n",
              "      <td>1</td>\n",
              "      <td>230433</td>\n",
              "      <td>26.0000</td>\n",
              "      <td>NaN</td>\n",
              "      <td>S</td>\n",
              "    </tr>\n",
              "    <tr>\n",
              "      <th>887</th>\n",
              "      <td>888</td>\n",
              "      <td>1</td>\n",
              "      <td>1</td>\n",
              "      <td>Graham, Miss. Margaret Edith</td>\n",
              "      <td>female</td>\n",
              "      <td>19.0</td>\n",
              "      <td>0</td>\n",
              "      <td>0</td>\n",
              "      <td>112053</td>\n",
              "      <td>30.0000</td>\n",
              "      <td>B42</td>\n",
              "      <td>S</td>\n",
              "    </tr>\n",
              "    <tr>\n",
              "      <th>889</th>\n",
              "      <td>890</td>\n",
              "      <td>1</td>\n",
              "      <td>1</td>\n",
              "      <td>Behr, Mr. Karl Howell</td>\n",
              "      <td>male</td>\n",
              "      <td>26.0</td>\n",
              "      <td>0</td>\n",
              "      <td>0</td>\n",
              "      <td>111369</td>\n",
              "      <td>30.0000</td>\n",
              "      <td>C148</td>\n",
              "      <td>C</td>\n",
              "    </tr>\n",
              "  </tbody>\n",
              "</table>\n",
              "<p>342 rows × 12 columns</p>\n",
              "</div>"
            ],
            "text/plain": [
              "     PassengerId  Survived  Pclass  ...     Fare Cabin  Embarked\n",
              "1              2         1       1  ...  71.2833   C85         C\n",
              "2              3         1       3  ...   7.9250   NaN         S\n",
              "3              4         1       1  ...  53.1000  C123         S\n",
              "8              9         1       3  ...  11.1333   NaN         S\n",
              "9             10         1       2  ...  30.0708   NaN         C\n",
              "..           ...       ...     ...  ...      ...   ...       ...\n",
              "875          876         1       3  ...   7.2250   NaN         C\n",
              "879          880         1       1  ...  83.1583   C50         C\n",
              "880          881         1       2  ...  26.0000   NaN         S\n",
              "887          888         1       1  ...  30.0000   B42         S\n",
              "889          890         1       1  ...  30.0000  C148         C\n",
              "\n",
              "[342 rows x 12 columns]"
            ]
          },
          "metadata": {
            "tags": []
          },
          "execution_count": 357
        }
      ]
    },
    {
      "cell_type": "code",
      "metadata": {
        "id": "WD5j-Feben3L",
        "colab_type": "code",
        "colab": {
          "base_uri": "https://localhost:8080/",
          "height": 419
        },
        "outputId": "37100dd1-1d40-4ceb-c7ca-44db496723d1"
      },
      "source": [
        "dead = survived_label.get_group(0)\n",
        "dead"
      ],
      "execution_count": 358,
      "outputs": [
        {
          "output_type": "execute_result",
          "data": {
            "text/html": [
              "<div>\n",
              "<style scoped>\n",
              "    .dataframe tbody tr th:only-of-type {\n",
              "        vertical-align: middle;\n",
              "    }\n",
              "\n",
              "    .dataframe tbody tr th {\n",
              "        vertical-align: top;\n",
              "    }\n",
              "\n",
              "    .dataframe thead th {\n",
              "        text-align: right;\n",
              "    }\n",
              "</style>\n",
              "<table border=\"1\" class=\"dataframe\">\n",
              "  <thead>\n",
              "    <tr style=\"text-align: right;\">\n",
              "      <th></th>\n",
              "      <th>PassengerId</th>\n",
              "      <th>Survived</th>\n",
              "      <th>Pclass</th>\n",
              "      <th>Name</th>\n",
              "      <th>Sex</th>\n",
              "      <th>Age</th>\n",
              "      <th>SibSp</th>\n",
              "      <th>Parch</th>\n",
              "      <th>Ticket</th>\n",
              "      <th>Fare</th>\n",
              "      <th>Cabin</th>\n",
              "      <th>Embarked</th>\n",
              "    </tr>\n",
              "  </thead>\n",
              "  <tbody>\n",
              "    <tr>\n",
              "      <th>0</th>\n",
              "      <td>1</td>\n",
              "      <td>0</td>\n",
              "      <td>3</td>\n",
              "      <td>Braund, Mr. Owen Harris</td>\n",
              "      <td>male</td>\n",
              "      <td>22.0</td>\n",
              "      <td>1</td>\n",
              "      <td>0</td>\n",
              "      <td>A/5 21171</td>\n",
              "      <td>7.2500</td>\n",
              "      <td>NaN</td>\n",
              "      <td>S</td>\n",
              "    </tr>\n",
              "    <tr>\n",
              "      <th>4</th>\n",
              "      <td>5</td>\n",
              "      <td>0</td>\n",
              "      <td>3</td>\n",
              "      <td>Allen, Mr. William Henry</td>\n",
              "      <td>male</td>\n",
              "      <td>35.0</td>\n",
              "      <td>0</td>\n",
              "      <td>0</td>\n",
              "      <td>373450</td>\n",
              "      <td>8.0500</td>\n",
              "      <td>NaN</td>\n",
              "      <td>S</td>\n",
              "    </tr>\n",
              "    <tr>\n",
              "      <th>5</th>\n",
              "      <td>6</td>\n",
              "      <td>0</td>\n",
              "      <td>3</td>\n",
              "      <td>Moran, Mr. James</td>\n",
              "      <td>male</td>\n",
              "      <td>NaN</td>\n",
              "      <td>0</td>\n",
              "      <td>0</td>\n",
              "      <td>330877</td>\n",
              "      <td>8.4583</td>\n",
              "      <td>NaN</td>\n",
              "      <td>Q</td>\n",
              "    </tr>\n",
              "    <tr>\n",
              "      <th>6</th>\n",
              "      <td>7</td>\n",
              "      <td>0</td>\n",
              "      <td>1</td>\n",
              "      <td>McCarthy, Mr. Timothy J</td>\n",
              "      <td>male</td>\n",
              "      <td>54.0</td>\n",
              "      <td>0</td>\n",
              "      <td>0</td>\n",
              "      <td>17463</td>\n",
              "      <td>51.8625</td>\n",
              "      <td>E46</td>\n",
              "      <td>S</td>\n",
              "    </tr>\n",
              "    <tr>\n",
              "      <th>7</th>\n",
              "      <td>8</td>\n",
              "      <td>0</td>\n",
              "      <td>3</td>\n",
              "      <td>Palsson, Master. Gosta Leonard</td>\n",
              "      <td>male</td>\n",
              "      <td>2.0</td>\n",
              "      <td>3</td>\n",
              "      <td>1</td>\n",
              "      <td>349909</td>\n",
              "      <td>21.0750</td>\n",
              "      <td>NaN</td>\n",
              "      <td>S</td>\n",
              "    </tr>\n",
              "    <tr>\n",
              "      <th>...</th>\n",
              "      <td>...</td>\n",
              "      <td>...</td>\n",
              "      <td>...</td>\n",
              "      <td>...</td>\n",
              "      <td>...</td>\n",
              "      <td>...</td>\n",
              "      <td>...</td>\n",
              "      <td>...</td>\n",
              "      <td>...</td>\n",
              "      <td>...</td>\n",
              "      <td>...</td>\n",
              "      <td>...</td>\n",
              "    </tr>\n",
              "    <tr>\n",
              "      <th>884</th>\n",
              "      <td>885</td>\n",
              "      <td>0</td>\n",
              "      <td>3</td>\n",
              "      <td>Sutehall, Mr. Henry Jr</td>\n",
              "      <td>male</td>\n",
              "      <td>25.0</td>\n",
              "      <td>0</td>\n",
              "      <td>0</td>\n",
              "      <td>SOTON/OQ 392076</td>\n",
              "      <td>7.0500</td>\n",
              "      <td>NaN</td>\n",
              "      <td>S</td>\n",
              "    </tr>\n",
              "    <tr>\n",
              "      <th>885</th>\n",
              "      <td>886</td>\n",
              "      <td>0</td>\n",
              "      <td>3</td>\n",
              "      <td>Rice, Mrs. William (Margaret Norton)</td>\n",
              "      <td>female</td>\n",
              "      <td>39.0</td>\n",
              "      <td>0</td>\n",
              "      <td>5</td>\n",
              "      <td>382652</td>\n",
              "      <td>29.1250</td>\n",
              "      <td>NaN</td>\n",
              "      <td>Q</td>\n",
              "    </tr>\n",
              "    <tr>\n",
              "      <th>886</th>\n",
              "      <td>887</td>\n",
              "      <td>0</td>\n",
              "      <td>2</td>\n",
              "      <td>Montvila, Rev. Juozas</td>\n",
              "      <td>male</td>\n",
              "      <td>27.0</td>\n",
              "      <td>0</td>\n",
              "      <td>0</td>\n",
              "      <td>211536</td>\n",
              "      <td>13.0000</td>\n",
              "      <td>NaN</td>\n",
              "      <td>S</td>\n",
              "    </tr>\n",
              "    <tr>\n",
              "      <th>888</th>\n",
              "      <td>889</td>\n",
              "      <td>0</td>\n",
              "      <td>3</td>\n",
              "      <td>Johnston, Miss. Catherine Helen \"Carrie\"</td>\n",
              "      <td>female</td>\n",
              "      <td>NaN</td>\n",
              "      <td>1</td>\n",
              "      <td>2</td>\n",
              "      <td>W./C. 6607</td>\n",
              "      <td>23.4500</td>\n",
              "      <td>NaN</td>\n",
              "      <td>S</td>\n",
              "    </tr>\n",
              "    <tr>\n",
              "      <th>890</th>\n",
              "      <td>891</td>\n",
              "      <td>0</td>\n",
              "      <td>3</td>\n",
              "      <td>Dooley, Mr. Patrick</td>\n",
              "      <td>male</td>\n",
              "      <td>32.0</td>\n",
              "      <td>0</td>\n",
              "      <td>0</td>\n",
              "      <td>370376</td>\n",
              "      <td>7.7500</td>\n",
              "      <td>NaN</td>\n",
              "      <td>Q</td>\n",
              "    </tr>\n",
              "  </tbody>\n",
              "</table>\n",
              "<p>549 rows × 12 columns</p>\n",
              "</div>"
            ],
            "text/plain": [
              "     PassengerId  Survived  Pclass  ...     Fare Cabin  Embarked\n",
              "0              1         0       3  ...   7.2500   NaN         S\n",
              "4              5         0       3  ...   8.0500   NaN         S\n",
              "5              6         0       3  ...   8.4583   NaN         Q\n",
              "6              7         0       1  ...  51.8625   E46         S\n",
              "7              8         0       3  ...  21.0750   NaN         S\n",
              "..           ...       ...     ...  ...      ...   ...       ...\n",
              "884          885         0       3  ...   7.0500   NaN         S\n",
              "885          886         0       3  ...  29.1250   NaN         Q\n",
              "886          887         0       2  ...  13.0000   NaN         S\n",
              "888          889         0       3  ...  23.4500   NaN         S\n",
              "890          891         0       3  ...   7.7500   NaN         Q\n",
              "\n",
              "[549 rows x 12 columns]"
            ]
          },
          "metadata": {
            "tags": []
          },
          "execution_count": 358
        }
      ]
    },
    {
      "cell_type": "code",
      "metadata": {
        "id": "l3melP9qexJv",
        "colab_type": "code",
        "colab": {
          "base_uri": "https://localhost:8080/",
          "height": 255
        },
        "outputId": "fa1e7c7e-41e1-4c22-8de8-85881542b3c2"
      },
      "source": [
        "#ALIVE\n",
        "#features\n",
        "alive_x = alive.drop(['PassengerId', 'Name', 'Ticket', 'Cabin','Survived'],\n",
        "                     axis=1)\n",
        "#label\n",
        "alive_y = alive['Survived']\n",
        "alive_x['Age'] = alive_x['Age'].fillna(30)\n",
        "alive_x[\"Embarked\"].fillna(\"S\", inplace = True) \n",
        "alive_x.info()"
      ],
      "execution_count": 359,
      "outputs": [
        {
          "output_type": "stream",
          "text": [
            "<class 'pandas.core.frame.DataFrame'>\n",
            "Int64Index: 342 entries, 1 to 889\n",
            "Data columns (total 7 columns):\n",
            " #   Column    Non-Null Count  Dtype  \n",
            "---  ------    --------------  -----  \n",
            " 0   Pclass    342 non-null    int64  \n",
            " 1   Sex       342 non-null    object \n",
            " 2   Age       342 non-null    float64\n",
            " 3   SibSp     342 non-null    int64  \n",
            " 4   Parch     342 non-null    int64  \n",
            " 5   Fare      342 non-null    float64\n",
            " 6   Embarked  342 non-null    object \n",
            "dtypes: float64(2), int64(3), object(2)\n",
            "memory usage: 21.4+ KB\n"
          ],
          "name": "stdout"
        }
      ]
    },
    {
      "cell_type": "code",
      "metadata": {
        "id": "fdjSY-wNe2oj",
        "colab_type": "code",
        "colab": {
          "base_uri": "https://localhost:8080/",
          "height": 255
        },
        "outputId": "f76cc092-a142-4840-ec90-b916712d497c"
      },
      "source": [
        "#DEAD\n",
        "#features\n",
        "dead_x = dead.drop(['PassengerId', 'Name', 'Ticket', 'Cabin','Survived'],\n",
        "                     axis=1)\n",
        "#label\n",
        "dead_y = dead['Survived']\n",
        "dead_x['Age'] = dead_x['Age'].fillna(30)\n",
        "dead_x[\"Embarked\"].fillna(\"S\", inplace = True) \n",
        "dead_x.info()"
      ],
      "execution_count": 360,
      "outputs": [
        {
          "output_type": "stream",
          "text": [
            "<class 'pandas.core.frame.DataFrame'>\n",
            "Int64Index: 549 entries, 0 to 890\n",
            "Data columns (total 7 columns):\n",
            " #   Column    Non-Null Count  Dtype  \n",
            "---  ------    --------------  -----  \n",
            " 0   Pclass    549 non-null    int64  \n",
            " 1   Sex       549 non-null    object \n",
            " 2   Age       549 non-null    float64\n",
            " 3   SibSp     549 non-null    int64  \n",
            " 4   Parch     549 non-null    int64  \n",
            " 5   Fare      549 non-null    float64\n",
            " 6   Embarked  549 non-null    object \n",
            "dtypes: float64(2), int64(3), object(2)\n",
            "memory usage: 34.3+ KB\n"
          ],
          "name": "stdout"
        }
      ]
    },
    {
      "cell_type": "code",
      "metadata": {
        "id": "WKDZMIMXe6ob",
        "colab_type": "code",
        "colab": {}
      },
      "source": [
        "#ALIVE\n",
        "#sampling 80% for train data and 20% for validation\n",
        "train_alive_x, val_alive_x, train_alive_y, val_alive_y = train_test_split(alive_x, alive_y, \n",
        "                                                  test_size=0.2, \n",
        "                                                  random_state=1)\n",
        "\n",
        "#create input function\n",
        "train_alive_fn = tf.compat.v1.estimator.inputs.pandas_input_fn(x=train_alive_x,\n",
        "                                                               y=train_alive_y,\n",
        "                                                               num_epochs=None,\n",
        "                                                               batch_size=100,\n",
        "                                                               shuffle=True)\n",
        "\n",
        "#validation function\n",
        "val_alive_fn = tf.compat.v1.estimator.inputs.pandas_input_fn(x=val_alive_x,\n",
        "                                                             y=val_alive_y,\n",
        "                                                              num_epochs=1,\n",
        "                                                              batch_size=\n",
        "                                                             len(val_alive_x),\n",
        "                                                              shuffle=False)"
      ],
      "execution_count": 0,
      "outputs": []
    },
    {
      "cell_type": "code",
      "metadata": {
        "id": "PY0vr_69e9k1",
        "colab_type": "code",
        "colab": {}
      },
      "source": [
        "#DEAD\n",
        "#sampling 80% for train data and 20% for validation\n",
        "train_dead_x, val_dead_x, train_dead_y, val_dead_y = train_test_split(dead_x, dead_y, \n",
        "                                                  test_size=0.2, \n",
        "                                                  random_state=1)\n",
        "\n",
        "#create input function\n",
        "train_dead_fn = tf.compat.v1.estimator.inputs.pandas_input_fn(x=train_dead_x,\n",
        "                                                               y=train_dead_y,\n",
        "                                                               num_epochs=None,\n",
        "                                                               batch_size=100,\n",
        "                                                               shuffle=True)\n",
        "\n",
        "#validation function\n",
        "val_dead_fn = tf.compat.v1.estimator.inputs.pandas_input_fn(x=val_dead_x,\n",
        "                                                             y=val_dead_y,\n",
        "                                                              num_epochs=1,\n",
        "                                                              batch_size=\n",
        "                                                             len(val_dead_x),\n",
        "                                                              shuffle=False)"
      ],
      "execution_count": 0,
      "outputs": []
    },
    {
      "cell_type": "markdown",
      "metadata": {
        "id": "P3l2fHcaGPEf",
        "colab_type": "text"
      },
      "source": [
        "features = dataframe that includes all the necessary data to determinate if a passenger will survive or not.\n",
        "\n",
        "labels = dataframe containing the information we want to predict. In this example, \"Survived\" is the label.\n",
        "\n",
        "We need to split the train dataset into three parts:\n",
        "\n",
        "1. Training\n",
        "\n",
        "2. Validation\n",
        "\n",
        "3. Test\n",
        "\n",
        "In this example, the Test dataset is already provided. We just need to split \n",
        "the train dataset into: Train and Validation (sometimes called crossvalidation)"
      ]
    },
    {
      "cell_type": "code",
      "metadata": {
        "id": "4RBk9dKTelJQ",
        "colab_type": "code",
        "colab": {}
      },
      "source": [
        "#sampling 80% for train data and 20% for validation\n",
        "train_x, val_x, train_y, val_y = train_test_split(train_x, train_y, \n",
        "                                                  test_size=0.2, \n",
        "                                                  random_state=1)\n",
        "\n",
        "#create input function\n",
        "train_input_fn = tf.compat.v1.estimator.inputs.pandas_input_fn(x=train_x,\n",
        "                                                               y=train_y,\n",
        "                                                               num_epochs=None,\n",
        "                                                               batch_size=100,\n",
        "                                                               shuffle=True)\n",
        "\n",
        "#validation function\n",
        "val_input_fn = tf.compat.v1.estimator.inputs.pandas_input_fn(x=val_x,\n",
        "                                                             y=val_y,\n",
        "                                                              num_epochs=1,\n",
        "                                                              batch_size=\n",
        "                                                             len(val_x),\n",
        "                                                              shuffle=False)\n",
        "\n",
        "                                                      "
      ],
      "execution_count": 0,
      "outputs": []
    },
    {
      "cell_type": "markdown",
      "metadata": {
        "id": "ty1KB2yThQR2",
        "colab_type": "text"
      },
      "source": [
        "**Feature Columns**\n",
        "\n",
        "In this example, we have Categorical columns and numerical columns"
      ]
    },
    {
      "cell_type": "code",
      "metadata": {
        "id": "HNfmhXM1HQzh",
        "colab_type": "code",
        "colab": {}
      },
      "source": [
        "#the layman implementation of feature columns\n",
        "Sex = tf.feature_column.categorical_column_with_vocabulary_list(\"Sex\", [\"male\", \"female\"])\n",
        "Embarked = tf.feature_column.categorical_column_with_vocabulary_list(\"Embarked\", [\"S\", \"C\", \"Q\"])\n",
        "Age = tf.feature_column.numeric_column(\"Age\")\n",
        "Fare = tf.feature_column.numeric_column(\"Fare\")\n",
        "Parch = tf.feature_column.numeric_column(\"Parch\")\n",
        "Pclass = tf.feature_column.numeric_column(\"Pclass\")\n",
        "SibSp = tf.feature_column.numeric_column(\"SibSp\")\n",
        "\n",
        "ft_columns = [tf.feature_column.indicator_column(Sex), tf.feature_column.indicator_column(Embarked), Age, Fare, Parch, Pclass, SibSp]"
      ],
      "execution_count": 0,
      "outputs": []
    },
    {
      "cell_type": "markdown",
      "metadata": {
        "id": "f7WLsP3_Pyha",
        "colab_type": "text"
      },
      "source": [
        "\n",
        "\n",
        "```\n",
        "feature_columns = []\n",
        "num_cols = ['Age', 'Fare', 'Parch', 'Pclass', 'SibSp']\n",
        "for num_name in num_cols:\n",
        "  feature_columns.append(tf.feature_column.numeric_column(num_name))\n",
        "\n",
        "categorical_cols = ['Sex', 'Embarked']\n",
        "for ft_name in categorical_cols:\n",
        "  vocabulary = train_x[ft_name].unique()\n",
        "  feature_columns.append(tf.feature_column.categorical_column_with_vocabulary_list(ft_name, vocabulary))\n",
        "```\n",
        "\n"
      ]
    },
    {
      "cell_type": "markdown",
      "metadata": {
        "id": "bkNp1UfcmIOY",
        "colab_type": "text"
      },
      "source": [
        "**Instantiate the Estimator**\n",
        "\n",
        "We are going to use a Linear Classifier. This will train the model to classify the data into two possible cases: survival and not survival.\n",
        "\n",
        "hidden_units = number of hidden nodes per layer. Ex. [30,10] means that we have two layers, the first one with 30 nodes and the second one with 10 nodes.\n",
        "\n",
        "n_classes= number of label classes"
      ]
    },
    {
      "cell_type": "code",
      "metadata": {
        "id": "A4vYPRV5ltaA",
        "colab_type": "code",
        "outputId": "c83ffc82-dd44-45cc-94c5-650e714de31b",
        "colab": {
          "base_uri": "https://localhost:8080/",
          "height": 190
        }
      },
      "source": [
        "model = tf.estimator.DNNClassifier(feature_columns=ft_columns,\n",
        "                                   hidden_units=[35,25,30], \n",
        "                                   n_classes=2, \n",
        "                                   optimizer='Adam')"
      ],
      "execution_count": 365,
      "outputs": [
        {
          "output_type": "stream",
          "text": [
            "INFO:tensorflow:Using default config.\n",
            "WARNING:tensorflow:Using temporary folder as model directory: /tmp/tmpxpfs5len\n",
            "INFO:tensorflow:Using config: {'_model_dir': '/tmp/tmpxpfs5len', '_tf_random_seed': None, '_save_summary_steps': 100, '_save_checkpoints_steps': None, '_save_checkpoints_secs': 600, '_session_config': allow_soft_placement: true\n",
            "graph_options {\n",
            "  rewrite_options {\n",
            "    meta_optimizer_iterations: ONE\n",
            "  }\n",
            "}\n",
            ", '_keep_checkpoint_max': 5, '_keep_checkpoint_every_n_hours': 10000, '_log_step_count_steps': 100, '_train_distribute': None, '_device_fn': None, '_protocol': None, '_eval_distribute': None, '_experimental_distribute': None, '_experimental_max_worker_delay_secs': None, '_session_creation_timeout_secs': 7200, '_service': None, '_cluster_spec': ClusterSpec({}), '_task_type': 'worker', '_task_id': 0, '_global_id_in_cluster': 0, '_master': '', '_evaluation_master': '', '_is_chief': True, '_num_ps_replicas': 0, '_num_worker_replicas': 1}\n"
          ],
          "name": "stdout"
        }
      ]
    },
    {
      "cell_type": "markdown",
      "metadata": {
        "id": "G4iovzZ-nsZk",
        "colab_type": "text"
      },
      "source": [
        "**Train the model**"
      ]
    },
    {
      "cell_type": "code",
      "metadata": {
        "id": "03dsVfrbnrh1",
        "colab_type": "code",
        "outputId": "85939a4d-99ab-45ec-d187-10e6caca0d6f",
        "colab": {
          "base_uri": "https://localhost:8080/",
          "height": 530
        }
      },
      "source": [
        "model.train(input_fn=train_input_fn, steps=500)"
      ],
      "execution_count": 366,
      "outputs": [
        {
          "output_type": "stream",
          "text": [
            "INFO:tensorflow:Calling model_fn.\n",
            "WARNING:tensorflow:Layer dnn is casting an input tensor from dtype float64 to the layer's dtype of float32, which is new behavior in TensorFlow 2.  The layer has dtype float32 because it's dtype defaults to floatx.\n",
            "\n",
            "If you intended to run this layer in float32, you can safely ignore this warning. If in doubt, this warning is likely only an issue if you are porting a TensorFlow 1.X model to TensorFlow 2.\n",
            "\n",
            "To change all layers to have dtype float64 by default, call `tf.keras.backend.set_floatx('float64')`. To change just this layer, pass dtype='float64' to the layer constructor. If you are the author of this layer, you can disable autocasting by passing autocast=False to the base Layer constructor.\n",
            "\n",
            "INFO:tensorflow:Done calling model_fn.\n",
            "INFO:tensorflow:Create CheckpointSaverHook.\n",
            "INFO:tensorflow:Graph was finalized.\n",
            "INFO:tensorflow:Running local_init_op.\n",
            "INFO:tensorflow:Done running local_init_op.\n",
            "INFO:tensorflow:Calling checkpoint listeners before saving checkpoint 0...\n",
            "INFO:tensorflow:Saving checkpoints for 0 into /tmp/tmpxpfs5len/model.ckpt.\n",
            "INFO:tensorflow:Calling checkpoint listeners after saving checkpoint 0...\n",
            "INFO:tensorflow:loss = 2.3703175, step = 0\n",
            "INFO:tensorflow:global_step/sec: 270.398\n",
            "INFO:tensorflow:loss = 0.54797673, step = 100 (0.372 sec)\n",
            "INFO:tensorflow:global_step/sec: 323.458\n",
            "INFO:tensorflow:loss = 0.46137515, step = 200 (0.312 sec)\n",
            "INFO:tensorflow:global_step/sec: 322.601\n",
            "INFO:tensorflow:loss = 0.5171626, step = 300 (0.308 sec)\n",
            "INFO:tensorflow:global_step/sec: 310.386\n",
            "INFO:tensorflow:loss = 0.34914654, step = 400 (0.321 sec)\n",
            "INFO:tensorflow:Calling checkpoint listeners before saving checkpoint 500...\n",
            "INFO:tensorflow:Saving checkpoints for 500 into /tmp/tmpxpfs5len/model.ckpt.\n",
            "INFO:tensorflow:Calling checkpoint listeners after saving checkpoint 500...\n",
            "INFO:tensorflow:Loss for final step: 0.41237044.\n"
          ],
          "name": "stdout"
        },
        {
          "output_type": "execute_result",
          "data": {
            "text/plain": [
              "<tensorflow_estimator.python.estimator.canned.dnn.DNNClassifierV2 at 0x7f722e559358>"
            ]
          },
          "metadata": {
            "tags": []
          },
          "execution_count": 366
        }
      ]
    },
    {
      "cell_type": "markdown",
      "metadata": {
        "id": "7W6pe2wQRwVw",
        "colab_type": "text"
      },
      "source": [
        "**Evaluate the model**"
      ]
    },
    {
      "cell_type": "code",
      "metadata": {
        "id": "l-Z2pFahR0kS",
        "colab_type": "code",
        "outputId": "aaf52379-4daa-4255-9b1c-f4942b4d6d0c",
        "colab": {
          "base_uri": "https://localhost:8080/",
          "height": 377
        }
      },
      "source": [
        "accuracy_score = model.evaluate(input_fn=val_alive_fn)[\"accuracy\"]\n",
        "print(\"\\nTest accuracy: {0:f}%\\n\".format(accuracy_score*100))"
      ],
      "execution_count": 367,
      "outputs": [
        {
          "output_type": "stream",
          "text": [
            "INFO:tensorflow:Calling model_fn.\n",
            "WARNING:tensorflow:Layer dnn is casting an input tensor from dtype float64 to the layer's dtype of float32, which is new behavior in TensorFlow 2.  The layer has dtype float32 because it's dtype defaults to floatx.\n",
            "\n",
            "If you intended to run this layer in float32, you can safely ignore this warning. If in doubt, this warning is likely only an issue if you are porting a TensorFlow 1.X model to TensorFlow 2.\n",
            "\n",
            "To change all layers to have dtype float64 by default, call `tf.keras.backend.set_floatx('float64')`. To change just this layer, pass dtype='float64' to the layer constructor. If you are the author of this layer, you can disable autocasting by passing autocast=False to the base Layer constructor.\n",
            "\n",
            "INFO:tensorflow:Done calling model_fn.\n",
            "INFO:tensorflow:Starting evaluation at 2020-05-08T15:16:05Z\n",
            "INFO:tensorflow:Graph was finalized.\n",
            "INFO:tensorflow:Restoring parameters from /tmp/tmpxpfs5len/model.ckpt-500\n",
            "INFO:tensorflow:Running local_init_op.\n",
            "INFO:tensorflow:Done running local_init_op.\n",
            "INFO:tensorflow:Inference Time : 0.89166s\n",
            "INFO:tensorflow:Finished evaluation at 2020-05-08-15:16:06\n",
            "INFO:tensorflow:Saving dict for global step 500: accuracy = 0.76811594, accuracy_baseline = 1.0, auc = 0.0, auc_precision_recall = 0.9999999, average_loss = 0.52766603, global_step = 500, label/mean = 1.0, loss = 0.52766603, precision = 1.0, prediction/mean = 0.6947748, recall = 0.76811594\n",
            "INFO:tensorflow:Saving 'checkpoint_path' summary for global step 500: /tmp/tmpxpfs5len/model.ckpt-500\n",
            "\n",
            "Test accuracy: 76.811594%\n",
            "\n"
          ],
          "name": "stdout"
        }
      ]
    },
    {
      "cell_type": "markdown",
      "metadata": {
        "id": "Muul7m33qq3r",
        "colab_type": "text"
      },
      "source": [
        "**TEST DATA**"
      ]
    },
    {
      "cell_type": "code",
      "metadata": {
        "id": "IWCzZ0gMQaI1",
        "colab_type": "code",
        "colab": {}
      },
      "source": [
        "test_input_fn = tf.compat.v1.estimator.inputs.pandas_input_fn(x=test_x,\n",
        "                                                              num_epochs=1,\n",
        "                                                              batch_size=len(test_x),\n",
        "                                                              shuffle=False)"
      ],
      "execution_count": 0,
      "outputs": []
    },
    {
      "cell_type": "code",
      "metadata": {
        "id": "patHxi9Fqt1S",
        "colab_type": "code",
        "outputId": "63febc8a-505d-485e-b627-f53db6422a47",
        "colab": {
          "base_uri": "https://localhost:8080/",
          "height": 1000
        }
      },
      "source": [
        "LABEL =['YOU DIED', 'YOU LIVED']\n",
        "lista = []\n",
        "predictions = model.predict(input_fn=val_alive_fn)\n",
        "for i, predict in enumerate(predictions):\n",
        "    lista.append(predict['probabilities'][1])\n",
        "    label_ = predict['class_ids'][0]\n",
        "    probs = predict['probabilities'][label_]\n",
        "    print(f'Prediction \\t{LABEL[label_]} ({100*probs} %) ')"
      ],
      "execution_count": 369,
      "outputs": [
        {
          "output_type": "stream",
          "text": [
            "INFO:tensorflow:Calling model_fn.\n",
            "WARNING:tensorflow:Layer dnn is casting an input tensor from dtype float64 to the layer's dtype of float32, which is new behavior in TensorFlow 2.  The layer has dtype float32 because it's dtype defaults to floatx.\n",
            "\n",
            "If you intended to run this layer in float32, you can safely ignore this warning. If in doubt, this warning is likely only an issue if you are porting a TensorFlow 1.X model to TensorFlow 2.\n",
            "\n",
            "To change all layers to have dtype float64 by default, call `tf.keras.backend.set_floatx('float64')`. To change just this layer, pass dtype='float64' to the layer constructor. If you are the author of this layer, you can disable autocasting by passing autocast=False to the base Layer constructor.\n",
            "\n",
            "INFO:tensorflow:Done calling model_fn.\n",
            "INFO:tensorflow:Graph was finalized.\n",
            "INFO:tensorflow:Restoring parameters from /tmp/tmpxpfs5len/model.ckpt-500\n",
            "INFO:tensorflow:Running local_init_op.\n",
            "INFO:tensorflow:Done running local_init_op.\n",
            "Prediction \tYOU DIED (88.13487887382507 %) \n",
            "Prediction \tYOU LIVED (55.13973832130432 %) \n",
            "Prediction \tYOU LIVED (74.1417646408081 %) \n",
            "Prediction \tYOU DIED (52.22824215888977 %) \n",
            "Prediction \tYOU DIED (58.6589515209198 %) \n",
            "Prediction \tYOU LIVED (98.43064546585083 %) \n",
            "Prediction \tYOU LIVED (97.69594073295593 %) \n",
            "Prediction \tYOU LIVED (98.65084886550903 %) \n",
            "Prediction \tYOU LIVED (99.33470487594604 %) \n",
            "Prediction \tYOU DIED (91.48690104484558 %) \n",
            "Prediction \tYOU LIVED (64.58067893981934 %) \n",
            "Prediction \tYOU LIVED (98.04772138595581 %) \n",
            "Prediction \tYOU LIVED (98.46518039703369 %) \n",
            "Prediction \tYOU LIVED (74.8978853225708 %) \n",
            "Prediction \tYOU LIVED (81.61269426345825 %) \n",
            "Prediction \tYOU LIVED (94.42060589790344 %) \n",
            "Prediction \tYOU LIVED (81.70198202133179 %) \n",
            "Prediction \tYOU LIVED (92.53072738647461 %) \n",
            "Prediction \tYOU LIVED (98.59327673912048 %) \n",
            "Prediction \tYOU LIVED (92.76639223098755 %) \n",
            "Prediction \tYOU LIVED (70.98426222801208 %) \n",
            "Prediction \tYOU LIVED (95.3309953212738 %) \n",
            "Prediction \tYOU DIED (57.993316650390625 %) \n",
            "Prediction \tYOU LIVED (91.48664474487305 %) \n",
            "Prediction \tYOU LIVED (82.65566825866699 %) \n",
            "Prediction \tYOU LIVED (74.04595613479614 %) \n",
            "Prediction \tYOU LIVED (87.20163702964783 %) \n",
            "Prediction \tYOU LIVED (97.01793193817139 %) \n",
            "Prediction \tYOU LIVED (67.88081526756287 %) \n",
            "Prediction \tYOU DIED (59.685397148132324 %) \n",
            "Prediction \tYOU DIED (89.82294797897339 %) \n",
            "Prediction \tYOU LIVED (53.34569811820984 %) \n",
            "Prediction \tYOU DIED (91.73609614372253 %) \n",
            "Prediction \tYOU LIVED (99.08438920974731 %) \n",
            "Prediction \tYOU LIVED (68.7548279762268 %) \n",
            "Prediction \tYOU DIED (91.1048948764801 %) \n",
            "Prediction \tYOU LIVED (63.024938106536865 %) \n",
            "Prediction \tYOU LIVED (68.95438432693481 %) \n",
            "Prediction \tYOU LIVED (89.06487226486206 %) \n",
            "Prediction \tYOU LIVED (97.87846207618713 %) \n",
            "Prediction \tYOU LIVED (87.7576231956482 %) \n",
            "Prediction \tYOU LIVED (97.32125997543335 %) \n",
            "Prediction \tYOU LIVED (59.94522571563721 %) \n",
            "Prediction \tYOU LIVED (77.4451732635498 %) \n",
            "Prediction \tYOU DIED (56.159597635269165 %) \n",
            "Prediction \tYOU DIED (86.45963668823242 %) \n",
            "Prediction \tYOU LIVED (95.10727524757385 %) \n",
            "Prediction \tYOU DIED (51.39535069465637 %) \n",
            "Prediction \tYOU LIVED (75.27140974998474 %) \n",
            "Prediction \tYOU DIED (93.50637197494507 %) \n",
            "Prediction \tYOU LIVED (76.42326951026917 %) \n",
            "Prediction \tYOU LIVED (64.30964469909668 %) \n",
            "Prediction \tYOU LIVED (76.17557048797607 %) \n",
            "Prediction \tYOU LIVED (70.80382704734802 %) \n",
            "Prediction \tYOU DIED (52.97315716743469 %) \n",
            "Prediction \tYOU LIVED (73.4246551990509 %) \n",
            "Prediction \tYOU LIVED (97.4322497844696 %) \n",
            "Prediction \tYOU LIVED (97.7622926235199 %) \n",
            "Prediction \tYOU LIVED (50.562214851379395 %) \n",
            "Prediction \tYOU DIED (83.6229681968689 %) \n",
            "Prediction \tYOU LIVED (77.60268449783325 %) \n",
            "Prediction \tYOU DIED (72.99381494522095 %) \n",
            "Prediction \tYOU LIVED (57.54181742668152 %) \n",
            "Prediction \tYOU LIVED (99.54828023910522 %) \n",
            "Prediction \tYOU LIVED (75.0275194644928 %) \n",
            "Prediction \tYOU LIVED (81.48249983787537 %) \n",
            "Prediction \tYOU LIVED (85.95848679542542 %) \n",
            "Prediction \tYOU LIVED (95.18318176269531 %) \n",
            "Prediction \tYOU LIVED (92.09995865821838 %) \n"
          ],
          "name": "stdout"
        }
      ]
    },
    {
      "cell_type": "code",
      "metadata": {
        "id": "vvlovl4ox0Zn",
        "colab_type": "code",
        "outputId": "fdd1d5d8-7868-4cce-b5e0-fa18983f81d4",
        "colab": {
          "base_uri": "https://localhost:8080/",
          "height": 265
        }
      },
      "source": [
        "histograma = plt.hist(lista, range=(0,1))"
      ],
      "execution_count": 370,
      "outputs": [
        {
          "output_type": "display_data",
          "data": {
            "image/png": "[encoded data removed]",
            "text/plain": [
              "<Figure size 432x288 with 1 Axes>"
            ]
          },
          "metadata": {
            "tags": [],
            "needs_background": "light"
          }
        }
      ]
    },
    {
      "cell_type": "code",
      "metadata": {
        "id": "mwz7Ns6H0g3U",
        "colab_type": "code",
        "outputId": "a0c3776b-0f33-475a-cfb4-4e8ba7fd8ff1",
        "colab": {
          "base_uri": "https://localhost:8080/",
          "height": 51
        }
      },
      "source": [
        "histograma[0]\n",
        "histograma[1]"
      ],
      "execution_count": 371,
      "outputs": [
        {
          "output_type": "execute_result",
          "data": {
            "text/plain": [
              "array([0. , 0.1, 0.2, 0.3, 0.4, 0.5, 0.6, 0.7, 0.8, 0.9, 1. ],\n",
              "      dtype=float32)"
            ]
          },
          "metadata": {
            "tags": []
          },
          "execution_count": 371
        }
      ]
    },
    {
      "cell_type": "code",
      "metadata": {
        "id": "e-cQ9qMyjqTI",
        "colab_type": "code",
        "colab": {
          "base_uri": "https://localhost:8080/",
          "height": 1000
        },
        "outputId": "c270343a-2e75-47df-dbde-4a4e3ef36d3f"
      },
      "source": [
        "LABEL =['YOU DIED', 'YOU LIVED']\n",
        "lista2 = []\n",
        "predictions2 = model.predict(input_fn=val_dead_fn)\n",
        "for i, predict in enumerate(predictions2):\n",
        "    lista2.append(predict['probabilities'][1])\n",
        "    label_ = predict['class_ids'][0]\n",
        "    probs = predict['probabilities'][label_]\n",
        "    print(f'Prediction \\t{LABEL[label_]} ({100*probs} %) ')"
      ],
      "execution_count": 372,
      "outputs": [
        {
          "output_type": "stream",
          "text": [
            "INFO:tensorflow:Calling model_fn.\n",
            "WARNING:tensorflow:Layer dnn is casting an input tensor from dtype float64 to the layer's dtype of float32, which is new behavior in TensorFlow 2.  The layer has dtype float32 because it's dtype defaults to floatx.\n",
            "\n",
            "If you intended to run this layer in float32, you can safely ignore this warning. If in doubt, this warning is likely only an issue if you are porting a TensorFlow 1.X model to TensorFlow 2.\n",
            "\n",
            "To change all layers to have dtype float64 by default, call `tf.keras.backend.set_floatx('float64')`. To change just this layer, pass dtype='float64' to the layer constructor. If you are the author of this layer, you can disable autocasting by passing autocast=False to the base Layer constructor.\n",
            "\n",
            "INFO:tensorflow:Done calling model_fn.\n",
            "INFO:tensorflow:Graph was finalized.\n",
            "INFO:tensorflow:Restoring parameters from /tmp/tmpxpfs5len/model.ckpt-500\n",
            "INFO:tensorflow:Running local_init_op.\n",
            "INFO:tensorflow:Done running local_init_op.\n",
            "Prediction \tYOU DIED (88.65135908126831 %) \n",
            "Prediction \tYOU LIVED (87.59400248527527 %) \n",
            "Prediction \tYOU DIED (92.51335859298706 %) \n",
            "Prediction \tYOU DIED (93.95194053649902 %) \n",
            "Prediction \tYOU LIVED (72.6947546005249 %) \n",
            "Prediction \tYOU DIED (56.75438642501831 %) \n",
            "Prediction \tYOU DIED (61.7642343044281 %) \n",
            "Prediction \tYOU DIED (70.67638039588928 %) \n",
            "Prediction \tYOU DIED (93.50637197494507 %) \n",
            "Prediction \tYOU DIED (88.65135908126831 %) \n",
            "Prediction \tYOU DIED (91.47605895996094 %) \n",
            "Prediction \tYOU DIED (78.53660583496094 %) \n",
            "Prediction \tYOU DIED (79.47933077812195 %) \n",
            "Prediction \tYOU DIED (91.54905676841736 %) \n",
            "Prediction \tYOU DIED (91.44366979598999 %) \n",
            "Prediction \tYOU DIED (90.59175252914429 %) \n",
            "Prediction \tYOU DIED (78.11188101768494 %) \n",
            "Prediction \tYOU DIED (73.27182292938232 %) \n",
            "Prediction \tYOU DIED (91.48377180099487 %) \n",
            "Prediction \tYOU LIVED (71.2064802646637 %) \n",
            "Prediction \tYOU DIED (90.61620831489563 %) \n",
            "Prediction \tYOU DIED (86.31724119186401 %) \n",
            "Prediction \tYOU DIED (89.62270617485046 %) \n",
            "Prediction \tYOU DIED (97.42354154586792 %) \n",
            "Prediction \tYOU DIED (90.21406173706055 %) \n",
            "Prediction \tYOU DIED (87.86230683326721 %) \n",
            "Prediction \tYOU DIED (93.31527948379517 %) \n",
            "Prediction \tYOU DIED (87.82424330711365 %) \n",
            "Prediction \tYOU DIED (91.48377180099487 %) \n",
            "Prediction \tYOU LIVED (59.582674503326416 %) \n",
            "Prediction \tYOU LIVED (64.35479521751404 %) \n",
            "Prediction \tYOU DIED (93.1147038936615 %) \n",
            "Prediction \tYOU DIED (82.98977613449097 %) \n",
            "Prediction \tYOU DIED (77.23819613456726 %) \n",
            "Prediction \tYOU DIED (87.07540035247803 %) \n",
            "Prediction \tYOU DIED (87.7775490283966 %) \n",
            "Prediction \tYOU DIED (88.30851912498474 %) \n",
            "Prediction \tYOU DIED (60.08835434913635 %) \n",
            "Prediction \tYOU DIED (81.89873099327087 %) \n",
            "Prediction \tYOU DIED (50.91926455497742 %) \n",
            "Prediction \tYOU DIED (91.93795323371887 %) \n",
            "Prediction \tYOU DIED (60.89631915092468 %) \n",
            "Prediction \tYOU DIED (95.1964020729065 %) \n",
            "Prediction \tYOU LIVED (66.13295078277588 %) \n",
            "Prediction \tYOU LIVED (53.93815040588379 %) \n",
            "Prediction \tYOU DIED (86.64572238922119 %) \n",
            "Prediction \tYOU DIED (83.70023965835571 %) \n",
            "Prediction \tYOU DIED (92.21131205558777 %) \n",
            "Prediction \tYOU DIED (89.02509808540344 %) \n",
            "Prediction \tYOU LIVED (70.93229293823242 %) \n",
            "Prediction \tYOU LIVED (66.38864874839783 %) \n",
            "Prediction \tYOU DIED (71.06418013572693 %) \n",
            "Prediction \tYOU DIED (94.86256241798401 %) \n",
            "Prediction \tYOU LIVED (59.058159589767456 %) \n",
            "Prediction \tYOU DIED (63.18705081939697 %) \n",
            "Prediction \tYOU DIED (65.11197686195374 %) \n",
            "Prediction \tYOU DIED (89.97443318367004 %) \n",
            "Prediction \tYOU DIED (88.79026770591736 %) \n",
            "Prediction \tYOU DIED (89.43215012550354 %) \n",
            "Prediction \tYOU DIED (54.76691722869873 %) \n",
            "Prediction \tYOU DIED (60.20093560218811 %) \n",
            "Prediction \tYOU LIVED (60.676777362823486 %) \n",
            "Prediction \tYOU DIED (91.89761281013489 %) \n",
            "Prediction \tYOU DIED (91.43362641334534 %) \n",
            "Prediction \tYOU DIED (86.64312362670898 %) \n",
            "Prediction \tYOU DIED (88.39536905288696 %) \n",
            "Prediction \tYOU DIED (74.72866773605347 %) \n",
            "Prediction \tYOU DIED (89.97492790222168 %) \n",
            "Prediction \tYOU DIED (77.98357605934143 %) \n",
            "Prediction \tYOU DIED (87.54629492759705 %) \n",
            "Prediction \tYOU DIED (93.06346774101257 %) \n",
            "Prediction \tYOU DIED (80.4477870464325 %) \n",
            "Prediction \tYOU DIED (70.8913803100586 %) \n",
            "Prediction \tYOU DIED (90.79717993736267 %) \n",
            "Prediction \tYOU DIED (86.15519404411316 %) \n",
            "Prediction \tYOU DIED (54.944318532943726 %) \n",
            "Prediction \tYOU DIED (89.97564315795898 %) \n",
            "Prediction \tYOU DIED (89.063560962677 %) \n",
            "Prediction \tYOU DIED (87.1038556098938 %) \n",
            "Prediction \tYOU LIVED (54.155540466308594 %) \n",
            "Prediction \tYOU DIED (89.62128758430481 %) \n",
            "Prediction \tYOU DIED (90.75170159339905 %) \n",
            "Prediction \tYOU DIED (92.1185314655304 %) \n",
            "Prediction \tYOU DIED (60.33119559288025 %) \n",
            "Prediction \tYOU LIVED (63.342225551605225 %) \n",
            "Prediction \tYOU LIVED (52.22867131233215 %) \n",
            "Prediction \tYOU DIED (89.9746835231781 %) \n",
            "Prediction \tYOU DIED (68.38887333869934 %) \n",
            "Prediction \tYOU DIED (88.82144093513489 %) \n",
            "Prediction \tYOU DIED (86.84566617012024 %) \n",
            "Prediction \tYOU DIED (83.70023965835571 %) \n",
            "Prediction \tYOU DIED (90.63392281532288 %) \n",
            "Prediction \tYOU DIED (92.38430857658386 %) \n",
            "Prediction \tYOU LIVED (71.14151120185852 %) \n",
            "Prediction \tYOU DIED (73.87715578079224 %) \n",
            "Prediction \tYOU DIED (91.73609614372253 %) \n",
            "Prediction \tYOU DIED (86.6483986377716 %) \n",
            "Prediction \tYOU DIED (99.8548686504364 %) \n",
            "Prediction \tYOU DIED (65.98640084266663 %) \n",
            "Prediction \tYOU DIED (90.26100635528564 %) \n",
            "Prediction \tYOU DIED (91.85547828674316 %) \n",
            "Prediction \tYOU DIED (89.62128758430481 %) \n",
            "Prediction \tYOU DIED (87.77244091033936 %) \n",
            "Prediction \tYOU DIED (60.74649691581726 %) \n",
            "Prediction \tYOU LIVED (66.24319553375244 %) \n",
            "Prediction \tYOU LIVED (69.44196820259094 %) \n",
            "Prediction \tYOU DIED (78.10577750205994 %) \n",
            "Prediction \tYOU LIVED (64.85992670059204 %) \n",
            "Prediction \tYOU DIED (90.59174656867981 %) \n",
            "Prediction \tYOU LIVED (56.669968366622925 %) \n"
          ],
          "name": "stdout"
        }
      ]
    },
    {
      "cell_type": "code",
      "metadata": {
        "id": "XzVhx0dOkDuQ",
        "colab_type": "code",
        "colab": {
          "base_uri": "https://localhost:8080/",
          "height": 312
        },
        "outputId": "7719d403-8773-496a-a53e-2f8f4755e8b6"
      },
      "source": [
        "plt.hist(lista, range=(0,1), alpha=0.8,label='Alive')\n",
        "plt.hist(lista2, range=(0,1), alpha=0.8, label='Dead')\n",
        "plt.legend(loc='upper left')\n",
        "plt.xlabel('Probability of being alive')\n",
        "plt.ylabel('Events')\n",
        "plt.title('Results using a DNN')"
      ],
      "execution_count": 373,
      "outputs": [
        {
          "output_type": "execute_result",
          "data": {
            "text/plain": [
              "Text(0.5, 1.0, 'Results using a DNN')"
            ]
          },
          "metadata": {
            "tags": []
          },
          "execution_count": 373
        },
        {
          "output_type": "display_data",
          "data": {
            "image/png": "[encoded data removed]",
            "text/plain": [
              "<Figure size 432x288 with 1 Axes>"
            ]
          },
          "metadata": {
            "tags": [],
            "needs_background": "light"
          }
        }
      ]
    },
    {
      "cell_type": "code",
      "metadata": {
        "id": "OYjZaZov_rC8",
        "colab_type": "code",
        "colab": {
          "base_uri": "https://localhost:8080/",
          "height": 295
        },
        "outputId": "d68649a6-3299-4627-8402-cf3083b479d1"
      },
      "source": [
        "#CREEMOS DATOS ALEADORIOS Y ORDENEMOLOS DE MENOR A MAYOR\n",
        "\n",
        "lista = sorted(lista)\n",
        "lista2 = sorted(lista2)\n",
        "\n",
        "#LISTAS DONDE SE GUARDARAN LOS VALORES DE EFICIENCIA Y BACK_REJECTION\n",
        "eficiency = []\n",
        "background_rejection = []\n",
        "\n",
        "#ITERAMOS SOBRE UN FLOAT QUE VA DE 0 A 100 EN 1000 PASOS\n",
        "for cut in np.linspace(0,1, 50):\n",
        "    \n",
        "    #INICIALIZAMOS EL VALOR DE VIVOS ACEPTADOS Y MUERTOS RECHAZADOS\n",
        "    #PUES EN EL CORTE = 0 ACEPTAMOS TODOS LOS 1s Y RECHAZAMOS TODOS LOS 0s\n",
        "    vivos_aceptados = len(lista)\n",
        "    muertos_rechazados = 0\n",
        "\n",
        "\n",
        "    for i, v in enumerate(lista):\n",
        "        # YA QUE LAS LISTAS ESTAN ORDENADAS BASTA CON CHECAR EL PRIMER VALOR QUE \n",
        "        # SEA MAYOR QUE EL CORTE\n",
        "        if cut<=v:\n",
        "            vivos_aceptados-=i\n",
        "            break\n",
        "        #EN EL CASO DE QUE EL CORTE SEA MAYOR QUE TODAS LAS PROBS CONSIDERA QUE \n",
        "        # NINGUN VIVO FUE ACEPTADO\n",
        "        if i==len(lista)-1:\n",
        "            vivos_aceptados=0\n",
        "\n",
        "    # ANALOGAMENTE PARA LOS MUERTOS        \n",
        "    for i, m in enumerate(lista2):\n",
        "        if cut<=m:\n",
        "            muertos_rechazados+=i\n",
        "            break\n",
        "        if i==len(lista2)-1:\n",
        "            muertos_rechazados=len(lista2)\n",
        "    \n",
        "    #ALMACENA EN LA LISTA\n",
        "    eficiency.append(vivos_aceptados/len(lista))\n",
        "    background_rejection.append(muertos_rechazados/len(lista2))\n",
        "\n",
        "    neural = plt.plot(eficiency, background_rejection)\n",
        "    plt.xlabel('Signal efficiency')\n",
        "    plt.ylabel('Background rejection')\n",
        "    plt.title('DNN ROC curve')"
      ],
      "execution_count": 400,
      "outputs": [
        {
          "output_type": "display_data",
          "data": {
            "image/png": "[encoded data removed]",
            "text/plain": [
              "<Figure size 432x288 with 1 Axes>"
            ]
          },
          "metadata": {
            "tags": [],
            "needs_background": "light"
          }
        }
      ]
    },
    {
      "cell_type": "code",
      "metadata": {
        "id": "RO33esvEB0Hf",
        "colab_type": "code",
        "colab": {
          "base_uri": "https://localhost:8080/",
          "height": 570
        },
        "outputId": "376eb6aa-6dc6-4d85-f391-0d7acfbbf503"
      },
      "source": [
        "pred_dicts = list(model.predict(input_fn=val_alive_fn))\n",
        "probs = pd.Series([pred['probabilities'][1] for pred in pred_dicts])\n",
        "\n",
        "fpr, tpr, _ = roc_curve(val_alive_y, probs)\n",
        "plt.plot(fpr,tpr)\n",
        "plt.title('ROC curve')\n",
        "plt.xlabel('false positive rate')\n",
        "plt.ylabel('true positive rate')\n",
        "plt.xlim(0,)\n",
        "plt.ylim(0,)"
      ],
      "execution_count": 394,
      "outputs": [
        {
          "output_type": "stream",
          "text": [
            "INFO:tensorflow:Calling model_fn.\n",
            "WARNING:tensorflow:Layer dnn is casting an input tensor from dtype float64 to the layer's dtype of float32, which is new behavior in TensorFlow 2.  The layer has dtype float32 because it's dtype defaults to floatx.\n",
            "\n",
            "If you intended to run this layer in float32, you can safely ignore this warning. If in doubt, this warning is likely only an issue if you are porting a TensorFlow 1.X model to TensorFlow 2.\n",
            "\n",
            "To change all layers to have dtype float64 by default, call `tf.keras.backend.set_floatx('float64')`. To change just this layer, pass dtype='float64' to the layer constructor. If you are the author of this layer, you can disable autocasting by passing autocast=False to the base Layer constructor.\n",
            "\n",
            "INFO:tensorflow:Done calling model_fn.\n",
            "INFO:tensorflow:Graph was finalized.\n",
            "INFO:tensorflow:Restoring parameters from /tmp/tmpxpfs5len/model.ckpt-500\n",
            "INFO:tensorflow:Running local_init_op.\n",
            "INFO:tensorflow:Done running local_init_op.\n"
          ],
          "name": "stdout"
        },
        {
          "output_type": "stream",
          "text": [
            "/usr/local/lib/python3.6/dist-packages/sklearn/metrics/_ranking.py:800: UndefinedMetricWarning: No negative samples in y_true, false positive value should be meaningless\n",
            "  UndefinedMetricWarning)\n"
          ],
          "name": "stderr"
        },
        {
          "output_type": "execute_result",
          "data": {
            "text/plain": [
              "(0.0, 0.05500000000000001)"
            ]
          },
          "metadata": {
            "tags": []
          },
          "execution_count": 394
        },
        {
          "output_type": "display_data",
          "data": {
            "image/png": "[encoded data removed]",
            "text/plain": [
              "<Figure size 432x288 with 1 Axes>"
            ]
          },
          "metadata": {
            "tags": [],
            "needs_background": "light"
          }
        }
      ]
    },
    {
      "cell_type": "code",
      "metadata": {
        "id": "-Zra-Mxl-DNz",
        "colab_type": "code",
        "colab": {}
      },
      "source": [
        ""
      ],
      "execution_count": 0,
      "outputs": []
    },
    {
      "cell_type": "markdown",
      "metadata": {
        "id": "3rZ8LbwY_nPw",
        "colab_type": "text"
      },
      "source": [
        "**Boosted decision trees**"
      ]
    },
    {
      "cell_type": "code",
      "metadata": {
        "id": "S_93AKjae5Cu",
        "colab_type": "code",
        "outputId": "1d1608a0-18db-449e-8d35-4b7f86d90229",
        "colab": {
          "base_uri": "https://localhost:8080/",
          "height": 190
        }
      },
      "source": [
        "treemodel = tf.estimator.BoostedTreesClassifier(feature_columns=ft_columns, n_batches_per_layer=1)"
      ],
      "execution_count": 374,
      "outputs": [
        {
          "output_type": "stream",
          "text": [
            "INFO:tensorflow:Using default config.\n",
            "WARNING:tensorflow:Using temporary folder as model directory: /tmp/tmp_jdw8b7k\n",
            "INFO:tensorflow:Using config: {'_model_dir': '/tmp/tmp_jdw8b7k', '_tf_random_seed': None, '_save_summary_steps': 100, '_save_checkpoints_steps': None, '_save_checkpoints_secs': 600, '_session_config': allow_soft_placement: true\n",
            "graph_options {\n",
            "  rewrite_options {\n",
            "    meta_optimizer_iterations: ONE\n",
            "  }\n",
            "}\n",
            ", '_keep_checkpoint_max': 5, '_keep_checkpoint_every_n_hours': 10000, '_log_step_count_steps': 100, '_train_distribute': None, '_device_fn': None, '_protocol': None, '_eval_distribute': None, '_experimental_distribute': None, '_experimental_max_worker_delay_secs': None, '_session_creation_timeout_secs': 7200, '_service': None, '_cluster_spec': ClusterSpec({}), '_task_type': 'worker', '_task_id': 0, '_global_id_in_cluster': 0, '_master': '', '_evaluation_master': '', '_is_chief': True, '_num_ps_replicas': 0, '_num_worker_replicas': 1}\n"
          ],
          "name": "stdout"
        }
      ]
    },
    {
      "cell_type": "code",
      "metadata": {
        "id": "fOBYtW9OgfWG",
        "colab_type": "code",
        "outputId": "268d2a92-471a-4881-8455-4fbdb30e70cd",
        "colab": {
          "base_uri": "https://localhost:8080/",
          "height": 646
        }
      },
      "source": [
        "treemodel.train(input_fn=train_input_fn, steps=500)"
      ],
      "execution_count": 375,
      "outputs": [
        {
          "output_type": "stream",
          "text": [
            "INFO:tensorflow:Calling model_fn.\n",
            "INFO:tensorflow:Done calling model_fn.\n",
            "INFO:tensorflow:Create CheckpointSaverHook.\n",
            "WARNING:tensorflow:Issue encountered when serializing resources.\n",
            "Type is unsupported, or the types of the items don't match field type in CollectionDef. Note this is a warning and probably safe to ignore.\n",
            "'_Resource' object has no attribute 'name'\n",
            "INFO:tensorflow:Graph was finalized.\n",
            "INFO:tensorflow:Running local_init_op.\n",
            "INFO:tensorflow:Done running local_init_op.\n",
            "WARNING:tensorflow:Issue encountered when serializing resources.\n",
            "Type is unsupported, or the types of the items don't match field type in CollectionDef. Note this is a warning and probably safe to ignore.\n",
            "'_Resource' object has no attribute 'name'\n",
            "INFO:tensorflow:Calling checkpoint listeners before saving checkpoint 0...\n",
            "INFO:tensorflow:Saving checkpoints for 0 into /tmp/tmp_jdw8b7k/model.ckpt.\n",
            "WARNING:tensorflow:Issue encountered when serializing resources.\n",
            "Type is unsupported, or the types of the items don't match field type in CollectionDef. Note this is a warning and probably safe to ignore.\n",
            "'_Resource' object has no attribute 'name'\n",
            "INFO:tensorflow:Calling checkpoint listeners after saving checkpoint 0...\n",
            "INFO:tensorflow:loss = 0.6931472, step = 0\n",
            "INFO:tensorflow:global_step/sec: 176.881\n",
            "INFO:tensorflow:loss = 0.34716493, step = 99 (0.566 sec)\n",
            "INFO:tensorflow:global_step/sec: 188.481\n",
            "INFO:tensorflow:loss = 0.20118885, step = 199 (0.531 sec)\n",
            "INFO:tensorflow:global_step/sec: 182.547\n",
            "INFO:tensorflow:loss = 0.19153309, step = 299 (0.548 sec)\n",
            "INFO:tensorflow:global_step/sec: 170.007\n",
            "INFO:tensorflow:loss = 0.17171797, step = 399 (0.588 sec)\n",
            "INFO:tensorflow:global_step/sec: 153.449\n",
            "INFO:tensorflow:loss = 0.15862018, step = 499 (0.652 sec)\n",
            "INFO:tensorflow:Calling checkpoint listeners before saving checkpoint 500...\n",
            "INFO:tensorflow:Saving checkpoints for 500 into /tmp/tmp_jdw8b7k/model.ckpt.\n",
            "WARNING:tensorflow:Issue encountered when serializing resources.\n",
            "Type is unsupported, or the types of the items don't match field type in CollectionDef. Note this is a warning and probably safe to ignore.\n",
            "'_Resource' object has no attribute 'name'\n",
            "INFO:tensorflow:Calling checkpoint listeners after saving checkpoint 500...\n",
            "INFO:tensorflow:Loss for final step: 0.15862018.\n"
          ],
          "name": "stdout"
        },
        {
          "output_type": "execute_result",
          "data": {
            "text/plain": [
              "<tensorflow_estimator.python.estimator.canned.boosted_trees.BoostedTreesClassifier at 0x7f723555dc88>"
            ]
          },
          "metadata": {
            "tags": []
          },
          "execution_count": 375
        }
      ]
    },
    {
      "cell_type": "code",
      "metadata": {
        "id": "yNcSvR2dhEc8",
        "colab_type": "code",
        "outputId": "087c8450-c45b-4a8b-a619-1932a554093f",
        "colab": {
          "base_uri": "https://localhost:8080/",
          "height": 360
        }
      },
      "source": [
        "accuracy_score = treemodel.evaluate(input_fn=val_alive_fn)[\"accuracy\"]\n",
        "print(\"\\nTest accuracy: {0:f}%\\n\".format(accuracy_score*100))"
      ],
      "execution_count": 376,
      "outputs": [
        {
          "output_type": "stream",
          "text": [
            "INFO:tensorflow:Calling model_fn.\n",
            "WARNING:tensorflow:Trapezoidal rule is known to produce incorrect PR-AUCs; please switch to \"careful_interpolation\" instead.\n",
            "WARNING:tensorflow:Trapezoidal rule is known to produce incorrect PR-AUCs; please switch to \"careful_interpolation\" instead.\n",
            "INFO:tensorflow:Done calling model_fn.\n",
            "INFO:tensorflow:Starting evaluation at 2020-05-08T15:16:12Z\n",
            "INFO:tensorflow:Graph was finalized.\n",
            "INFO:tensorflow:Restoring parameters from /tmp/tmp_jdw8b7k/model.ckpt-500\n",
            "INFO:tensorflow:Running local_init_op.\n",
            "INFO:tensorflow:Done running local_init_op.\n",
            "INFO:tensorflow:Inference Time : 0.52902s\n",
            "INFO:tensorflow:Finished evaluation at 2020-05-08-15:16:13\n",
            "INFO:tensorflow:Saving dict for global step 500: accuracy = 0.85507244, accuracy_baseline = 1.0, auc = 0.0, auc_precision_recall = 1.0, average_loss = 0.38648587, global_step = 500, label/mean = 1.0, loss = 0.38648587, precision = 1.0, prediction/mean = 0.83862317, recall = 0.85507244\n",
            "WARNING:tensorflow:Issue encountered when serializing resources.\n",
            "Type is unsupported, or the types of the items don't match field type in CollectionDef. Note this is a warning and probably safe to ignore.\n",
            "'_Resource' object has no attribute 'name'\n",
            "INFO:tensorflow:Saving 'checkpoint_path' summary for global step 500: /tmp/tmp_jdw8b7k/model.ckpt-500\n",
            "\n",
            "Test accuracy: 85.507244%\n",
            "\n"
          ],
          "name": "stdout"
        }
      ]
    },
    {
      "cell_type": "code",
      "metadata": {
        "id": "QyUtTskpiYak",
        "colab_type": "code",
        "outputId": "5dec9946-f0f7-4c84-d8f3-5e31743a2349",
        "colab": {
          "base_uri": "https://localhost:8080/",
          "height": 1000
        }
      },
      "source": [
        "LABEL =['YOU DIED', 'YOU LIVED']\n",
        "listatree=[]\n",
        "predictions = treemodel.predict(input_fn=val_alive_fn)\n",
        "for i, predict in enumerate(predictions):\n",
        "    listatree.append(predict['probabilities'][1])\n",
        "    label_ = predict['class_ids'][0]\n",
        "    probs = predict['probabilities'][label_]\n",
        "    print(f'Prediction \\t{LABEL[label_]} ({100*probs} %) ')"
      ],
      "execution_count": 377,
      "outputs": [
        {
          "output_type": "stream",
          "text": [
            "INFO:tensorflow:Calling model_fn.\n",
            "INFO:tensorflow:Done calling model_fn.\n",
            "INFO:tensorflow:Graph was finalized.\n",
            "INFO:tensorflow:Restoring parameters from /tmp/tmp_jdw8b7k/model.ckpt-500\n",
            "INFO:tensorflow:Running local_init_op.\n",
            "INFO:tensorflow:Done running local_init_op.\n",
            "Prediction \tYOU DIED (68.96748542785645 %) \n",
            "Prediction \tYOU LIVED (64.80145454406738 %) \n",
            "Prediction \tYOU LIVED (99.98980760574341 %) \n",
            "Prediction \tYOU LIVED (98.01952242851257 %) \n",
            "Prediction \tYOU DIED (76.04814767837524 %) \n",
            "Prediction \tYOU LIVED (99.99692440032959 %) \n",
            "Prediction \tYOU LIVED (99.99903440475464 %) \n",
            "Prediction \tYOU LIVED (99.99780654907227 %) \n",
            "Prediction \tYOU LIVED (99.99709129333496 %) \n",
            "Prediction \tYOU DIED (53.744930028915405 %) \n",
            "Prediction \tYOU LIVED (71.1341142654419 %) \n",
            "Prediction \tYOU LIVED (99.99591112136841 %) \n",
            "Prediction \tYOU LIVED (99.97555613517761 %) \n",
            "Prediction \tYOU LIVED (99.99837875366211 %) \n",
            "Prediction \tYOU LIVED (98.80814552307129 %) \n",
            "Prediction \tYOU LIVED (99.08539056777954 %) \n",
            "Prediction \tYOU LIVED (99.59945678710938 %) \n",
            "Prediction \tYOU LIVED (99.89503026008606 %) \n",
            "Prediction \tYOU LIVED (77.42022275924683 %) \n",
            "Prediction \tYOU LIVED (99.99916553497314 %) \n",
            "Prediction \tYOU LIVED (99.63037967681885 %) \n",
            "Prediction \tYOU LIVED (99.99969005584717 %) \n",
            "Prediction \tYOU DIED (99.93448853492737 %) \n",
            "Prediction \tYOU LIVED (99.9241828918457 %) \n",
            "Prediction \tYOU LIVED (88.12924027442932 %) \n",
            "Prediction \tYOU LIVED (99.36104416847229 %) \n",
            "Prediction \tYOU LIVED (99.98970031738281 %) \n",
            "Prediction \tYOU LIVED (99.98469352722168 %) \n",
            "Prediction \tYOU LIVED (82.38601088523865 %) \n",
            "Prediction \tYOU LIVED (92.33947992324829 %) \n",
            "Prediction \tYOU DIED (83.9508056640625 %) \n",
            "Prediction \tYOU DIED (93.02722215652466 %) \n",
            "Prediction \tYOU LIVED (63.530564308166504 %) \n",
            "Prediction \tYOU LIVED (99.84970092773438 %) \n",
            "Prediction \tYOU LIVED (98.63172173500061 %) \n",
            "Prediction \tYOU DIED (79.27545309066772 %) \n",
            "Prediction \tYOU LIVED (99.56629872322083 %) \n",
            "Prediction \tYOU LIVED (99.99806880950928 %) \n",
            "Prediction \tYOU LIVED (99.79100823402405 %) \n",
            "Prediction \tYOU LIVED (99.99324083328247 %) \n",
            "Prediction \tYOU LIVED (95.13501524925232 %) \n",
            "Prediction \tYOU LIVED (99.9987006187439 %) \n",
            "Prediction \tYOU LIVED (99.9976634979248 %) \n",
            "Prediction \tYOU LIVED (99.95536208152771 %) \n",
            "Prediction \tYOU LIVED (87.50441670417786 %) \n",
            "Prediction \tYOU LIVED (64.82765674591064 %) \n",
            "Prediction \tYOU LIVED (99.99974966049194 %) \n",
            "Prediction \tYOU LIVED (99.98499155044556 %) \n",
            "Prediction \tYOU LIVED (99.7448205947876 %) \n",
            "Prediction \tYOU DIED (96.11972570419312 %) \n",
            "Prediction \tYOU LIVED (98.07043671607971 %) \n",
            "Prediction \tYOU LIVED (99.99806880950928 %) \n",
            "Prediction \tYOU LIVED (98.84147644042969 %) \n",
            "Prediction \tYOU LIVED (99.8700499534607 %) \n",
            "Prediction \tYOU DIED (84.0722143650055 %) \n",
            "Prediction \tYOU LIVED (98.7212598323822 %) \n",
            "Prediction \tYOU LIVED (99.98490810394287 %) \n",
            "Prediction \tYOU LIVED (99.99995231628418 %) \n",
            "Prediction \tYOU LIVED (61.11089587211609 %) \n",
            "Prediction \tYOU LIVED (53.15038561820984 %) \n",
            "Prediction \tYOU LIVED (99.38492178916931 %) \n",
            "Prediction \tYOU DIED (64.42466974258423 %) \n",
            "Prediction \tYOU LIVED (98.88651371002197 %) \n",
            "Prediction \tYOU LIVED (99.9995231628418 %) \n",
            "Prediction \tYOU LIVED (99.96034502983093 %) \n",
            "Prediction \tYOU LIVED (99.98258948326111 %) \n",
            "Prediction \tYOU LIVED (99.14166331291199 %) \n",
            "Prediction \tYOU LIVED (99.99591112136841 %) \n",
            "Prediction \tYOU LIVED (99.99959468841553 %) \n"
          ],
          "name": "stdout"
        }
      ]
    },
    {
      "cell_type": "code",
      "metadata": {
        "id": "hKsTbvqIFVAl",
        "colab_type": "code",
        "colab": {
          "base_uri": "https://localhost:8080/",
          "height": 333
        },
        "outputId": "ed155ca3-7997-42fa-de1d-42d6cf212a1f"
      },
      "source": [
        "plt.hist(listatree, range=(0,1))"
      ],
      "execution_count": 378,
      "outputs": [
        {
          "output_type": "execute_result",
          "data": {
            "text/plain": [
              "(array([ 3.,  2.,  2.,  2.,  1.,  1.,  4.,  2.,  3., 49.]),\n",
              " array([0. , 0.1, 0.2, 0.3, 0.4, 0.5, 0.6, 0.7, 0.8, 0.9, 1. ],\n",
              "       dtype=float32),\n",
              " <a list of 10 Patch objects>)"
            ]
          },
          "metadata": {
            "tags": []
          },
          "execution_count": 378
        },
        {
          "output_type": "display_data",
          "data": {
            "image/png": "[encoded data removed]",
            "text/plain": [
              "<Figure size 432x288 with 1 Axes>"
            ]
          },
          "metadata": {
            "tags": [],
            "needs_background": "light"
          }
        }
      ]
    },
    {
      "cell_type": "code",
      "metadata": {
        "id": "-RUuWQEnrzzV",
        "colab_type": "code",
        "colab": {
          "base_uri": "https://localhost:8080/",
          "height": 1000
        },
        "outputId": "7db9339f-f6a1-4951-cef4-18f7457b9e02"
      },
      "source": [
        "LABEL =['YOU DIED', 'YOU LIVED']\n",
        "listatree2=[]\n",
        "predictions = treemodel.predict(input_fn=val_dead_fn)\n",
        "for i, predict in enumerate(predictions):\n",
        "    listatree2.append(predict['probabilities'][1])\n",
        "    label_ = predict['class_ids'][0]\n",
        "    probs = predict['probabilities'][label_]\n",
        "    print(f'Prediction \\t{LABEL[label_]} ({100*probs} %) ')"
      ],
      "execution_count": 379,
      "outputs": [
        {
          "output_type": "stream",
          "text": [
            "INFO:tensorflow:Calling model_fn.\n",
            "INFO:tensorflow:Done calling model_fn.\n",
            "INFO:tensorflow:Graph was finalized.\n",
            "INFO:tensorflow:Restoring parameters from /tmp/tmp_jdw8b7k/model.ckpt-500\n",
            "INFO:tensorflow:Running local_init_op.\n",
            "INFO:tensorflow:Done running local_init_op.\n",
            "Prediction \tYOU DIED (95.16227841377258 %) \n",
            "Prediction \tYOU LIVED (99.96297359466553 %) \n",
            "Prediction \tYOU DIED (99.83574748039246 %) \n",
            "Prediction \tYOU DIED (99.6888816356659 %) \n",
            "Prediction \tYOU LIVED (99.96217489242554 %) \n",
            "Prediction \tYOU DIED (99.62459206581116 %) \n",
            "Prediction \tYOU DIED (94.59988474845886 %) \n",
            "Prediction \tYOU DIED (99.0601897239685 %) \n",
            "Prediction \tYOU DIED (96.11972570419312 %) \n",
            "Prediction \tYOU DIED (95.16227841377258 %) \n",
            "Prediction \tYOU DIED (99.74573254585266 %) \n",
            "Prediction \tYOU DIED (99.98538494110107 %) \n",
            "Prediction \tYOU DIED (73.44057559967041 %) \n",
            "Prediction \tYOU DIED (74.11208748817444 %) \n",
            "Prediction \tYOU DIED (99.99313354492188 %) \n",
            "Prediction \tYOU DIED (93.09940934181213 %) \n",
            "Prediction \tYOU DIED (98.53916764259338 %) \n",
            "Prediction \tYOU LIVED (88.74675035476685 %) \n",
            "Prediction \tYOU DIED (98.33635091781616 %) \n",
            "Prediction \tYOU LIVED (60.80232858657837 %) \n",
            "Prediction \tYOU DIED (97.09407687187195 %) \n",
            "Prediction \tYOU DIED (99.94316697120667 %) \n",
            "Prediction \tYOU DIED (99.27389025688171 %) \n",
            "Prediction \tYOU DIED (99.99979734420776 %) \n",
            "Prediction \tYOU DIED (99.9273955821991 %) \n",
            "Prediction \tYOU DIED (70.19574642181396 %) \n",
            "Prediction \tYOU DIED (99.79198575019836 %) \n",
            "Prediction \tYOU DIED (96.86482548713684 %) \n",
            "Prediction \tYOU DIED (98.33635091781616 %) \n",
            "Prediction \tYOU DIED (89.03464078903198 %) \n",
            "Prediction \tYOU DIED (82.6581358909607 %) \n",
            "Prediction \tYOU DIED (99.89597797393799 %) \n",
            "Prediction \tYOU DIED (99.26226139068604 %) \n",
            "Prediction \tYOU DIED (99.99791383743286 %) \n",
            "Prediction \tYOU DIED (99.85045194625854 %) \n",
            "Prediction \tYOU DIED (97.62035608291626 %) \n",
            "Prediction \tYOU DIED (90.72223901748657 %) \n",
            "Prediction \tYOU DIED (99.96888637542725 %) \n",
            "Prediction \tYOU DIED (92.34831929206848 %) \n",
            "Prediction \tYOU DIED (99.97788071632385 %) \n",
            "Prediction \tYOU DIED (99.93605017662048 %) \n",
            "Prediction \tYOU DIED (99.0136444568634 %) \n",
            "Prediction \tYOU DIED (99.99350309371948 %) \n",
            "Prediction \tYOU DIED (82.50665068626404 %) \n",
            "Prediction \tYOU DIED (99.11075234413147 %) \n",
            "Prediction \tYOU DIED (99.78848099708557 %) \n",
            "Prediction \tYOU DIED (97.96587228775024 %) \n",
            "Prediction \tYOU DIED (99.99902248382568 %) \n",
            "Prediction \tYOU DIED (99.87265467643738 %) \n",
            "Prediction \tYOU DIED (70.2547013759613 %) \n",
            "Prediction \tYOU DIED (99.97701048851013 %) \n",
            "Prediction \tYOU DIED (99.11948442459106 %) \n",
            "Prediction \tYOU DIED (99.9974012374878 %) \n",
            "Prediction \tYOU DIED (74.31735396385193 %) \n",
            "Prediction \tYOU DIED (91.0252332687378 %) \n",
            "Prediction \tYOU DIED (99.98315572738647 %) \n",
            "Prediction \tYOU DIED (99.99555349349976 %) \n",
            "Prediction \tYOU DIED (99.53802824020386 %) \n",
            "Prediction \tYOU DIED (99.96034502983093 %) \n",
            "Prediction \tYOU DIED (91.85661673545837 %) \n",
            "Prediction \tYOU DIED (70.20769715309143 %) \n",
            "Prediction \tYOU DIED (90.60553908348083 %) \n",
            "Prediction \tYOU DIED (99.76295232772827 %) \n",
            "Prediction \tYOU DIED (99.99313354492188 %) \n",
            "Prediction \tYOU DIED (99.0872859954834 %) \n",
            "Prediction \tYOU DIED (97.04514145851135 %) \n",
            "Prediction \tYOU DIED (98.01154136657715 %) \n",
            "Prediction \tYOU DIED (99.99555349349976 %) \n",
            "Prediction \tYOU DIED (99.31246638298035 %) \n",
            "Prediction \tYOU DIED (99.92436170578003 %) \n",
            "Prediction \tYOU DIED (99.9618411064148 %) \n",
            "Prediction \tYOU DIED (99.43915009498596 %) \n",
            "Prediction \tYOU DIED (99.70530271530151 %) \n",
            "Prediction \tYOU DIED (99.86777901649475 %) \n",
            "Prediction \tYOU DIED (99.86769556999207 %) \n",
            "Prediction \tYOU DIED (96.92420959472656 %) \n",
            "Prediction \tYOU DIED (99.99555349349976 %) \n",
            "Prediction \tYOU DIED (99.7387945652008 %) \n",
            "Prediction \tYOU DIED (99.70652461051941 %) \n",
            "Prediction \tYOU DIED (98.5211730003357 %) \n",
            "Prediction \tYOU DIED (99.87667798995972 %) \n",
            "Prediction \tYOU DIED (98.71793389320374 %) \n",
            "Prediction \tYOU DIED (99.99762773513794 %) \n",
            "Prediction \tYOU DIED (64.86400961875916 %) \n",
            "Prediction \tYOU LIVED (99.93828535079956 %) \n",
            "Prediction \tYOU DIED (98.27724099159241 %) \n",
            "Prediction \tYOU DIED (99.99555349349976 %) \n",
            "Prediction \tYOU DIED (87.97580003738403 %) \n",
            "Prediction \tYOU DIED (99.25312399864197 %) \n",
            "Prediction \tYOU DIED (99.68641400337219 %) \n",
            "Prediction \tYOU DIED (97.96587228775024 %) \n",
            "Prediction \tYOU DIED (52.4740993976593 %) \n",
            "Prediction \tYOU DIED (99.3232250213623 %) \n",
            "Prediction \tYOU LIVED (73.22698831558228 %) \n",
            "Prediction \tYOU DIED (89.29394483566284 %) \n",
            "Prediction \tYOU LIVED (63.530564308166504 %) \n",
            "Prediction \tYOU DIED (94.10200119018555 %) \n",
            "Prediction \tYOU DIED (99.9998688697815 %) \n",
            "Prediction \tYOU DIED (89.40726518630981 %) \n",
            "Prediction \tYOU DIED (94.96409893035889 %) \n",
            "Prediction \tYOU DIED (99.941086769104 %) \n",
            "Prediction \tYOU DIED (99.87667798995972 %) \n",
            "Prediction \tYOU DIED (99.25312399864197 %) \n",
            "Prediction \tYOU DIED (93.03100109100342 %) \n",
            "Prediction \tYOU DIED (88.42859268188477 %) \n",
            "Prediction \tYOU DIED (86.82007789611816 %) \n",
            "Prediction \tYOU DIED (99.63753819465637 %) \n",
            "Prediction \tYOU LIVED (61.64284348487854 %) \n",
            "Prediction \tYOU DIED (93.09940934181213 %) \n",
            "Prediction \tYOU DIED (99.8617172241211 %) \n"
          ],
          "name": "stdout"
        }
      ]
    },
    {
      "cell_type": "code",
      "metadata": {
        "id": "i9lyZ8idr_JF",
        "colab_type": "code",
        "colab": {
          "base_uri": "https://localhost:8080/",
          "height": 333
        },
        "outputId": "612cf07a-df5d-4a61-e076-da34f187d3af"
      },
      "source": [
        "plt.hist(listatree2, range=(0,1))"
      ],
      "execution_count": 380,
      "outputs": [
        {
          "output_type": "execute_result",
          "data": {
            "text/plain": [
              "(array([86.,  8.,  6.,  1.,  1.,  0.,  3.,  1.,  1.,  3.]),\n",
              " array([0. , 0.1, 0.2, 0.3, 0.4, 0.5, 0.6, 0.7, 0.8, 0.9, 1. ],\n",
              "       dtype=float32),\n",
              " <a list of 10 Patch objects>)"
            ]
          },
          "metadata": {
            "tags": []
          },
          "execution_count": 380
        },
        {
          "output_type": "display_data",
          "data": {
            "image/png": "[encoded data removed]",
            "text/plain": [
              "<Figure size 432x288 with 1 Axes>"
            ]
          },
          "metadata": {
            "tags": [],
            "needs_background": "light"
          }
        }
      ]
    },
    {
      "cell_type": "code",
      "metadata": {
        "id": "EM3bfu1LsIZu",
        "colab_type": "code",
        "colab": {
          "base_uri": "https://localhost:8080/",
          "height": 312
        },
        "outputId": "6e53de29-a3d4-4dfb-8f66-5ae2a6ea3702"
      },
      "source": [
        "plt.hist(listatree, range=(0,1), alpha=0.8, label='Alive')\n",
        "plt.hist(listatree2, range=(0,1), alpha=0.8, label='Dead')\n",
        "plt.legend(loc='upper right')\n",
        "plt.xlabel('Probability of being alive')\n",
        "plt.ylabel('Events')\n",
        "plt.title('Results using a BDT')"
      ],
      "execution_count": 381,
      "outputs": [
        {
          "output_type": "execute_result",
          "data": {
            "text/plain": [
              "Text(0.5, 1.0, 'Results using a BDT')"
            ]
          },
          "metadata": {
            "tags": []
          },
          "execution_count": 381
        },
        {
          "output_type": "display_data",
          "data": {
            "image/png": "[encoded data removed]",
            "text/plain": [
              "<Figure size 432x288 with 1 Axes>"
            ]
          },
          "metadata": {
            "tags": [],
            "needs_background": "light"
          }
        }
      ]
    },
    {
      "cell_type": "code",
      "metadata": {
        "id": "YvANTvJUIw4T",
        "colab_type": "code",
        "colab": {
          "base_uri": "https://localhost:8080/",
          "height": 295
        },
        "outputId": "d71888c7-eb64-441e-c7e2-5168f4f94a10"
      },
      "source": [
        "#CREEMOS DATOS ALEADORIOS Y ORDENEMOLOS DE MENOR A MAYOR\n",
        "\n",
        "listatree = sorted(listatree)\n",
        "listatree2 = sorted(listatree2)\n",
        "\n",
        "#LISTAS DONDE SE GUARDARAN LOS VALORES DE EFICIENCIA Y BACK_REJECTION\n",
        "eficiency2 = []\n",
        "background_rejection2 = []\n",
        "\n",
        "#ITERAMOS SOBRE UN FLOAT QUE VA DE 0 A 100 EN 1000 PASOS\n",
        "for cut in np.linspace(0,1, 50):\n",
        "    \n",
        "    #INICIALIZAMOS EL VALOR DE VIVOS ACEPTADOS Y MUERTOS RECHAZADOS\n",
        "    #PUES EN EL CORTE = 0 ACEPTAMOS TODOS LOS 1s Y RECHAZAMOS TODOS LOS 0s\n",
        "    vivos_aceptados = len(listatree)\n",
        "    muertos_rechazados = 0\n",
        "\n",
        "\n",
        "    for i, v in enumerate(listatree):\n",
        "        # YA QUE LAS LISTAS ESTAN ORDENADAS BASTA CON CHECAR EL PRIMER VALOR QUE \n",
        "        # SEA MAYOR QUE EL CORTE\n",
        "        if cut<=v:\n",
        "            vivos_aceptados-=i\n",
        "            break\n",
        "        #EN EL CASO DE QUE EL CORTE SEA MAYOR QUE TODAS LAS PROBS CONSIDERA QUE \n",
        "        # NINGUN VIVO FUE ACEPTADO\n",
        "        if i==len(lista)-1:\n",
        "            vivos_aceptados=0\n",
        "\n",
        "    # ANALOGAMENTE PARA LOS MUERTOS        \n",
        "    for i, m in enumerate(listatree2):\n",
        "        if cut<=m:\n",
        "            muertos_rechazados+=i\n",
        "            break\n",
        "        if i==len(lista2)-1:\n",
        "            muertos_rechazados=len(listatree2)\n",
        "    \n",
        "    #ALMACENA EN LA LISTA\n",
        "    eficiency2.append(vivos_aceptados/len(listatree))\n",
        "    background_rejection2.append(muertos_rechazados/len(listatree2))\n",
        "\n",
        "    arbol = plt.plot(eficiency2, background_rejection2)\n",
        "    plt.xlabel('Signal efficiency')\n",
        "    plt.ylabel('Background rejection')\n",
        "    plt.title('BDT ROC curve')"
      ],
      "execution_count": 407,
      "outputs": [
        {
          "output_type": "display_data",
          "data": {
            "image/png": "[encoded data removed]",
            "text/plain": [
              "<Figure size 432x288 with 1 Axes>"
            ]
          },
          "metadata": {
            "tags": [],
            "needs_background": "light"
          }
        }
      ]
    }
  ]
}