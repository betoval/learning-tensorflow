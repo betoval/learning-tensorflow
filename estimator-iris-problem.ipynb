{
  "nbformat": 4,
  "nbformat_minor": 0,
  "metadata": {
    "colab": {
      "name": "estimator-iris-problem.ipynb",
      "provenance": [],
      "authorship_tag": "ABX9TyNOj5baWeoBQ5OLvi+mOzdZ",
      "include_colab_link": true
    },
    "kernelspec": {
      "name": "python3",
      "display_name": "Python 3"
    }
  },
  "cells": [
    {
      "cell_type": "markdown",
      "metadata": {
        "id": "view-in-github",
        "colab_type": "text"
      },
      "source": [
        "<a href=\"https://colab.research.google.com/github/betoval/learning-tensorflow/blob/master/estimator-iris-problem.ipynb\" target=\"_parent\"><img src=\"https://colab.research.google.com/assets/colab-badge.svg\" alt=\"Open In Colab\"/></a>"
      ]
    },
    {
      "cell_type": "code",
      "metadata": {
        "id": "l_25EJ4Eq6mr",
        "colab_type": "code",
        "colab": {}
      },
      "source": [
        "%tensorflow_version 2.x\n",
        "import tensorflow as tf\n",
        "import pandas as pd\n",
        "import numpy as np"
      ],
      "execution_count": 0,
      "outputs": []
    },
    {
      "cell_type": "markdown",
      "metadata": {
        "id": "-QhvEbNcrkWX",
        "colab_type": "text"
      },
      "source": [
        "The aim of this example is to solve the iris classification problem using `tf.estimator`. We will follow the example outlined in the tensorflow page.\n",
        "\n",
        "We want to classify Iris flowers into three different species based on the size of their sepals and petals.\n",
        "\n",
        "The iris dataset contains four features and one label. In supervised learning the label is the *answer* or *result* of an example.\n",
        "\n",
        "The four features of the flowers are:\n",
        "\n",
        "1. sepal length\n",
        "\n",
        "2. sepal width\n",
        "\n",
        "3. petal length\n",
        "\n",
        "4. petal width\n",
        "\n"
      ]
    },
    {
      "cell_type": "markdown",
      "metadata": {
        "id": "nRGvp4760tTd",
        "colab_type": "text"
      },
      "source": [
        "**DATA SETUP**"
      ]
    },
    {
      "cell_type": "code",
      "metadata": {
        "id": "9d8KE5nrre8Z",
        "colab_type": "code",
        "colab": {}
      },
      "source": [
        "#begin by defining constants for parsing the data\n",
        "CSV_COLUMN_NAMES = ['SepalLength', 'SepalWidth', 'PetalLength', 'PetalWidth', 'Species']\n",
        "SPECIES = ['Setosa', 'Versicolor', 'Virginica'] #the three species of Iris flowers"
      ],
      "execution_count": 0,
      "outputs": []
    },
    {
      "cell_type": "code",
      "metadata": {
        "id": "TEVcyqxVuo9y",
        "colab_type": "code",
        "colab": {
          "base_uri": "https://localhost:8080/",
          "height": 204
        },
        "outputId": "521df5ba-1cd5-4554-d870-c55f0ef05886"
      },
      "source": [
        "#We download the Iris data using keras and Pandas\n",
        "#Getting train dataset\n",
        "train_path = tf.keras.utils.get_file(\"iris_training.csv\", \"https://storage.googleapis.com/download.tensorflow.org/data/iris_training.csv\")\n",
        "\n",
        "#Getting test dataset\n",
        "test_path = tf.keras.utils.get_file(\"iris_test.csv\", \"https://storage.googleapis.com/download.tensorflow.org/data/iris_test.csv\")\n",
        "\n",
        "#Reading dataset using pandas\n",
        "train = pd.read_csv(train_path, names=CSV_COLUMN_NAMES, header=0)\n",
        "test = pd.read_csv(test_path, names=CSV_COLUMN_NAMES, header=0)\n",
        "\n",
        "#visualizing data using pandas\n",
        "train.head()"
      ],
      "execution_count": 27,
      "outputs": [
        {
          "output_type": "execute_result",
          "data": {
            "text/html": [
              "<div>\n",
              "<style scoped>\n",
              "    .dataframe tbody tr th:only-of-type {\n",
              "        vertical-align: middle;\n",
              "    }\n",
              "\n",
              "    .dataframe tbody tr th {\n",
              "        vertical-align: top;\n",
              "    }\n",
              "\n",
              "    .dataframe thead th {\n",
              "        text-align: right;\n",
              "    }\n",
              "</style>\n",
              "<table border=\"1\" class=\"dataframe\">\n",
              "  <thead>\n",
              "    <tr style=\"text-align: right;\">\n",
              "      <th></th>\n",
              "      <th>SepalLength</th>\n",
              "      <th>SepalWidth</th>\n",
              "      <th>PetalLength</th>\n",
              "      <th>PetalWidth</th>\n",
              "      <th>Species</th>\n",
              "    </tr>\n",
              "  </thead>\n",
              "  <tbody>\n",
              "    <tr>\n",
              "      <th>0</th>\n",
              "      <td>6.4</td>\n",
              "      <td>2.8</td>\n",
              "      <td>5.6</td>\n",
              "      <td>2.2</td>\n",
              "      <td>2</td>\n",
              "    </tr>\n",
              "    <tr>\n",
              "      <th>1</th>\n",
              "      <td>5.0</td>\n",
              "      <td>2.3</td>\n",
              "      <td>3.3</td>\n",
              "      <td>1.0</td>\n",
              "      <td>1</td>\n",
              "    </tr>\n",
              "    <tr>\n",
              "      <th>2</th>\n",
              "      <td>4.9</td>\n",
              "      <td>2.5</td>\n",
              "      <td>4.5</td>\n",
              "      <td>1.7</td>\n",
              "      <td>2</td>\n",
              "    </tr>\n",
              "    <tr>\n",
              "      <th>3</th>\n",
              "      <td>4.9</td>\n",
              "      <td>3.1</td>\n",
              "      <td>1.5</td>\n",
              "      <td>0.1</td>\n",
              "      <td>0</td>\n",
              "    </tr>\n",
              "    <tr>\n",
              "      <th>4</th>\n",
              "      <td>5.7</td>\n",
              "      <td>3.8</td>\n",
              "      <td>1.7</td>\n",
              "      <td>0.3</td>\n",
              "      <td>0</td>\n",
              "    </tr>\n",
              "  </tbody>\n",
              "</table>\n",
              "</div>"
            ],
            "text/plain": [
              "   SepalLength  SepalWidth  PetalLength  PetalWidth  Species\n",
              "0          6.4         2.8          5.6         2.2        2\n",
              "1          5.0         2.3          3.3         1.0        1\n",
              "2          4.9         2.5          4.5         1.7        2\n",
              "3          4.9         3.1          1.5         0.1        0\n",
              "4          5.7         3.8          1.7         0.3        0"
            ]
          },
          "metadata": {
            "tags": []
          },
          "execution_count": 27
        }
      ]
    },
    {
      "cell_type": "code",
      "metadata": {
        "id": "hUPBrL9vxxao",
        "colab_type": "code",
        "colab": {
          "base_uri": "https://localhost:8080/",
          "height": 204
        },
        "outputId": "9e3fa7f0-18e3-4809-c0be-133b8157db63"
      },
      "source": [
        "#Remove the label which the model will be trained to predict (that is, 'Species')\n",
        "\n",
        "train_y = train.pop('Species')\n",
        "test_y = test.pop('Species')\n",
        "\n",
        "train.head()"
      ],
      "execution_count": 28,
      "outputs": [
        {
          "output_type": "execute_result",
          "data": {
            "text/html": [
              "<div>\n",
              "<style scoped>\n",
              "    .dataframe tbody tr th:only-of-type {\n",
              "        vertical-align: middle;\n",
              "    }\n",
              "\n",
              "    .dataframe tbody tr th {\n",
              "        vertical-align: top;\n",
              "    }\n",
              "\n",
              "    .dataframe thead th {\n",
              "        text-align: right;\n",
              "    }\n",
              "</style>\n",
              "<table border=\"1\" class=\"dataframe\">\n",
              "  <thead>\n",
              "    <tr style=\"text-align: right;\">\n",
              "      <th></th>\n",
              "      <th>SepalLength</th>\n",
              "      <th>SepalWidth</th>\n",
              "      <th>PetalLength</th>\n",
              "      <th>PetalWidth</th>\n",
              "    </tr>\n",
              "  </thead>\n",
              "  <tbody>\n",
              "    <tr>\n",
              "      <th>0</th>\n",
              "      <td>6.4</td>\n",
              "      <td>2.8</td>\n",
              "      <td>5.6</td>\n",
              "      <td>2.2</td>\n",
              "    </tr>\n",
              "    <tr>\n",
              "      <th>1</th>\n",
              "      <td>5.0</td>\n",
              "      <td>2.3</td>\n",
              "      <td>3.3</td>\n",
              "      <td>1.0</td>\n",
              "    </tr>\n",
              "    <tr>\n",
              "      <th>2</th>\n",
              "      <td>4.9</td>\n",
              "      <td>2.5</td>\n",
              "      <td>4.5</td>\n",
              "      <td>1.7</td>\n",
              "    </tr>\n",
              "    <tr>\n",
              "      <th>3</th>\n",
              "      <td>4.9</td>\n",
              "      <td>3.1</td>\n",
              "      <td>1.5</td>\n",
              "      <td>0.1</td>\n",
              "    </tr>\n",
              "    <tr>\n",
              "      <th>4</th>\n",
              "      <td>5.7</td>\n",
              "      <td>3.8</td>\n",
              "      <td>1.7</td>\n",
              "      <td>0.3</td>\n",
              "    </tr>\n",
              "  </tbody>\n",
              "</table>\n",
              "</div>"
            ],
            "text/plain": [
              "   SepalLength  SepalWidth  PetalLength  PetalWidth\n",
              "0          6.4         2.8          5.6         2.2\n",
              "1          5.0         2.3          3.3         1.0\n",
              "2          4.9         2.5          4.5         1.7\n",
              "3          4.9         3.1          1.5         0.1\n",
              "4          5.7         3.8          1.7         0.3"
            ]
          },
          "metadata": {
            "tags": []
          },
          "execution_count": 28
        }
      ]
    },
    {
      "cell_type": "markdown",
      "metadata": {
        "id": "B3QI3b2PKlk7",
        "colab_type": "text"
      },
      "source": [
        "**Programming with estimators**\n",
        "\n",
        "To write a TensorFlow program based on pre-made Estimators, we must perform the following steps:\n",
        "\n",
        "1. Create input functions.\n",
        "\n",
        "2. Define the model's feature columns.\n",
        "\n",
        "3. Instantiate an Estimator\n",
        "\n",
        "4. Call one or more methods on the Estimator object, passing the appropiate input function as the source data.\n",
        "\n",
        "We already encountered these steps in the fashion_mnist example."
      ]
    },
    {
      "cell_type": "markdown",
      "metadata": {
        "id": "k-Y2C899MXjK",
        "colab_type": "text"
      },
      "source": [
        "**Input Functions**\n",
        "\n",
        "An input function returns a tf.data.Dataset object which outputs the following two-element tuple:\n",
        "\n",
        "1. `features` (Python dictionary)\n",
        "\n",
        "2. `label`\n",
        "\n",
        "Here's an example of what the input function does"
      ]
    },
    {
      "cell_type": "markdown",
      "metadata": {
        "id": "g6aYfrrBngVy",
        "colab_type": "text"
      },
      "source": [
        "\n",
        "\n",
        "```\n",
        "def input_evaluation_set():\n",
        "    features = {'SepalLength': np.array([6.4, 5.0]),\n",
        "                'SepalWidth':  np.array([2.8, 2.3]),\n",
        "                'PetalLength': np.array([5.6, 3.3]),\n",
        "                'PetalWidth':  np.array([2.2, 1.0])}\n",
        "    labels = np.array([2, 1])\n",
        "    return features, labels\n",
        "```\n",
        "\n"
      ]
    },
    {
      "cell_type": "code",
      "metadata": {
        "id": "DSybSxmgnwG_",
        "colab_type": "code",
        "colab": {}
      },
      "source": [
        "def input_fn(features, labels, training=True, batch_size=256):\n",
        "    dataset = tf.data.Dataset.from_tensor_slices((dict(features), labels))\n",
        "    # Shuffle and repeat if you are in training mode.\n",
        "    if training:\n",
        "        dataset = dataset.shuffle(1000).repeat()\n",
        "    return dataset.batch(batch_size)"
      ],
      "execution_count": 0,
      "outputs": []
    },
    {
      "cell_type": "markdown",
      "metadata": {
        "id": "rALb2rk7T2pB",
        "colab_type": "text"
      },
      "source": [
        "**Define feature columns**\n",
        "\n",
        "a feature column is an object that describes how the model shoul use input data from the features dictionary.\n",
        "\n",
        "For the Iris data, the 4 raw features (sepal and petal stuff) are numeric values.\n",
        "\n",
        "In this case, we'll tell the Estimator to represent the 4 features as 32-bit floating-point values."
      ]
    },
    {
      "cell_type": "code",
      "metadata": {
        "id": "Q-ckp0zDWZF_",
        "colab_type": "code",
        "colab": {}
      },
      "source": [
        "my_feature_columns =[]\n",
        "for key in train.keys():\n",
        "  my_feature_columns.append(tf.feature_column.numeric_column(key=key))"
      ],
      "execution_count": 0,
      "outputs": []
    },
    {
      "cell_type": "markdown",
      "metadata": {
        "id": "RzUgUOYoXUG-",
        "colab_type": "text"
      },
      "source": [
        "**Instantiate an Estimator**\n",
        "\n",
        "To solve the Iris classification problem, we'll use a pre-made classifier Estimator."
      ]
    },
    {
      "cell_type": "code",
      "metadata": {
        "id": "3SPDPJPTXmb0",
        "colab_type": "code",
        "colab": {
          "base_uri": "https://localhost:8080/",
          "height": 190
        },
        "outputId": "ae8fcf26-6841-4bf3-f8a7-530c2f056d60"
      },
      "source": [
        "#Build a DNN with 2 hidden layers with 30 and 10 hidden neurons each.\n",
        "classifier = tf.estimator.DNNClassifier(\n",
        "    feature_columns=my_feature_columns,\n",
        "    #Two hidden layers of 30 and 10 neurons\n",
        "    hidden_units=[30,10],\n",
        "    #The model must choose between 3 classes\n",
        "    n_classes=3\n",
        ")"
      ],
      "execution_count": 48,
      "outputs": [
        {
          "output_type": "stream",
          "text": [
            "INFO:tensorflow:Using default config.\n",
            "WARNING:tensorflow:Using temporary folder as model directory: /tmp/tmpbuwh2fqp\n",
            "INFO:tensorflow:Using config: {'_model_dir': '/tmp/tmpbuwh2fqp', '_tf_random_seed': None, '_save_summary_steps': 100, '_save_checkpoints_steps': None, '_save_checkpoints_secs': 600, '_session_config': allow_soft_placement: true\n",
            "graph_options {\n",
            "  rewrite_options {\n",
            "    meta_optimizer_iterations: ONE\n",
            "  }\n",
            "}\n",
            ", '_keep_checkpoint_max': 5, '_keep_checkpoint_every_n_hours': 10000, '_log_step_count_steps': 100, '_train_distribute': None, '_device_fn': None, '_protocol': None, '_eval_distribute': None, '_experimental_distribute': None, '_experimental_max_worker_delay_secs': None, '_session_creation_timeout_secs': 7200, '_service': None, '_cluster_spec': ClusterSpec({}), '_task_type': 'worker', '_task_id': 0, '_global_id_in_cluster': 0, '_master': '', '_evaluation_master': '', '_is_chief': True, '_num_ps_replicas': 0, '_num_worker_replicas': 1}\n"
          ],
          "name": "stdout"
        }
      ]
    },
    {
      "cell_type": "markdown",
      "metadata": {
        "id": "bxKgsipWYY_Y",
        "colab_type": "text"
      },
      "source": [
        "**Train the model**\n",
        "\n",
        "Train the model by calling the Estimator's `train` method\n"
      ]
    },
    {
      "cell_type": "code",
      "metadata": {
        "id": "qh6gRWuDYsrF",
        "colab_type": "code",
        "colab": {
          "base_uri": "https://localhost:8080/",
          "height": 1000
        },
        "outputId": "1815cc4b-7955-418f-bfc4-4a86485ae190"
      },
      "source": [
        "classifier.train(input_fn=lambda: input_fn(train, train_y, training=True), steps=5000)"
      ],
      "execution_count": 60,
      "outputs": [
        {
          "output_type": "stream",
          "text": [
            "INFO:tensorflow:Calling model_fn.\n",
            "WARNING:tensorflow:Layer dnn is casting an input tensor from dtype float64 to the layer's dtype of float32, which is new behavior in TensorFlow 2.  The layer has dtype float32 because it's dtype defaults to floatx.\n",
            "\n",
            "If you intended to run this layer in float32, you can safely ignore this warning. If in doubt, this warning is likely only an issue if you are porting a TensorFlow 1.X model to TensorFlow 2.\n",
            "\n",
            "To change all layers to have dtype float64 by default, call `tf.keras.backend.set_floatx('float64')`. To change just this layer, pass dtype='float64' to the layer constructor. If you are the author of this layer, you can disable autocasting by passing autocast=False to the base Layer constructor.\n",
            "\n",
            "INFO:tensorflow:Done calling model_fn.\n",
            "INFO:tensorflow:Create CheckpointSaverHook.\n",
            "INFO:tensorflow:Graph was finalized.\n",
            "INFO:tensorflow:Restoring parameters from /tmp/tmpbuwh2fqp/model.ckpt-10000\n",
            "INFO:tensorflow:Running local_init_op.\n",
            "INFO:tensorflow:Done running local_init_op.\n",
            "INFO:tensorflow:Calling checkpoint listeners before saving checkpoint 10000...\n",
            "INFO:tensorflow:Saving checkpoints for 10000 into /tmp/tmpbuwh2fqp/model.ckpt.\n",
            "INFO:tensorflow:Calling checkpoint listeners after saving checkpoint 10000...\n",
            "INFO:tensorflow:loss = 0.3622114, step = 10000\n",
            "INFO:tensorflow:global_step/sec: 453.22\n",
            "INFO:tensorflow:loss = 0.35941434, step = 10100 (0.224 sec)\n",
            "INFO:tensorflow:global_step/sec: 587.731\n",
            "INFO:tensorflow:loss = 0.35195684, step = 10200 (0.170 sec)\n",
            "INFO:tensorflow:global_step/sec: 601.256\n",
            "INFO:tensorflow:loss = 0.3561509, step = 10300 (0.164 sec)\n",
            "INFO:tensorflow:global_step/sec: 598.546\n",
            "INFO:tensorflow:loss = 0.34776238, step = 10400 (0.170 sec)\n",
            "INFO:tensorflow:global_step/sec: 581.736\n",
            "INFO:tensorflow:loss = 0.34914726, step = 10500 (0.170 sec)\n",
            "INFO:tensorflow:global_step/sec: 599.593\n",
            "INFO:tensorflow:loss = 0.3471089, step = 10600 (0.167 sec)\n",
            "INFO:tensorflow:global_step/sec: 622.955\n",
            "INFO:tensorflow:loss = 0.3397097, step = 10700 (0.160 sec)\n",
            "INFO:tensorflow:global_step/sec: 545.58\n",
            "INFO:tensorflow:loss = 0.3449946, step = 10800 (0.186 sec)\n",
            "INFO:tensorflow:global_step/sec: 646.683\n",
            "INFO:tensorflow:loss = 0.34503925, step = 10900 (0.152 sec)\n",
            "WARNING:tensorflow:It seems that global step (tf.train.get_global_step) has not been increased. Current value (could be stable): 10902 vs previous value: 10902. You could increase the global step by passing tf.train.get_global_step() to Optimizer.apply_gradients or Optimizer.minimize.\n",
            "INFO:tensorflow:global_step/sec: 597.158\n",
            "INFO:tensorflow:loss = 0.3498789, step = 11000 (0.168 sec)\n",
            "INFO:tensorflow:global_step/sec: 599.761\n",
            "INFO:tensorflow:loss = 0.33994877, step = 11100 (0.167 sec)\n",
            "INFO:tensorflow:global_step/sec: 624.497\n",
            "INFO:tensorflow:loss = 0.34296048, step = 11200 (0.160 sec)\n",
            "INFO:tensorflow:global_step/sec: 588.858\n",
            "INFO:tensorflow:loss = 0.3260583, step = 11300 (0.170 sec)\n",
            "INFO:tensorflow:global_step/sec: 560.246\n",
            "INFO:tensorflow:loss = 0.33337194, step = 11400 (0.179 sec)\n",
            "INFO:tensorflow:global_step/sec: 600.676\n",
            "INFO:tensorflow:loss = 0.3350239, step = 11500 (0.166 sec)\n",
            "INFO:tensorflow:global_step/sec: 565.029\n",
            "INFO:tensorflow:loss = 0.3164329, step = 11600 (0.177 sec)\n",
            "INFO:tensorflow:global_step/sec: 597.616\n",
            "INFO:tensorflow:loss = 0.33798316, step = 11700 (0.171 sec)\n",
            "INFO:tensorflow:global_step/sec: 600.118\n",
            "INFO:tensorflow:loss = 0.33428854, step = 11800 (0.163 sec)\n",
            "INFO:tensorflow:global_step/sec: 586.778\n",
            "INFO:tensorflow:loss = 0.31892008, step = 11900 (0.173 sec)\n",
            "INFO:tensorflow:global_step/sec: 581.328\n",
            "INFO:tensorflow:loss = 0.32629645, step = 12000 (0.171 sec)\n",
            "INFO:tensorflow:global_step/sec: 604.567\n",
            "INFO:tensorflow:loss = 0.325163, step = 12100 (0.163 sec)\n",
            "INFO:tensorflow:global_step/sec: 600.814\n",
            "INFO:tensorflow:loss = 0.31590217, step = 12200 (0.167 sec)\n",
            "INFO:tensorflow:global_step/sec: 608.071\n",
            "INFO:tensorflow:loss = 0.3268764, step = 12300 (0.166 sec)\n",
            "INFO:tensorflow:global_step/sec: 625.478\n",
            "INFO:tensorflow:loss = 0.32061303, step = 12400 (0.159 sec)\n",
            "INFO:tensorflow:global_step/sec: 593.108\n",
            "INFO:tensorflow:loss = 0.30603608, step = 12500 (0.169 sec)\n",
            "INFO:tensorflow:global_step/sec: 561.756\n",
            "INFO:tensorflow:loss = 0.3116874, step = 12600 (0.177 sec)\n",
            "INFO:tensorflow:global_step/sec: 610.668\n",
            "INFO:tensorflow:loss = 0.30893743, step = 12700 (0.164 sec)\n",
            "INFO:tensorflow:global_step/sec: 638.137\n",
            "INFO:tensorflow:loss = 0.31961024, step = 12800 (0.157 sec)\n",
            "INFO:tensorflow:global_step/sec: 602.376\n",
            "INFO:tensorflow:loss = 0.30796224, step = 12900 (0.167 sec)\n",
            "INFO:tensorflow:global_step/sec: 603.29\n",
            "INFO:tensorflow:loss = 0.30928877, step = 13000 (0.165 sec)\n",
            "INFO:tensorflow:global_step/sec: 613.266\n",
            "INFO:tensorflow:loss = 0.31515223, step = 13100 (0.164 sec)\n",
            "INFO:tensorflow:global_step/sec: 566.822\n",
            "INFO:tensorflow:loss = 0.30507454, step = 13200 (0.176 sec)\n",
            "INFO:tensorflow:global_step/sec: 610.373\n",
            "INFO:tensorflow:loss = 0.30514073, step = 13300 (0.166 sec)\n",
            "INFO:tensorflow:global_step/sec: 606.82\n",
            "INFO:tensorflow:loss = 0.3019252, step = 13400 (0.162 sec)\n",
            "INFO:tensorflow:global_step/sec: 604.28\n",
            "INFO:tensorflow:loss = 0.30288422, step = 13500 (0.166 sec)\n",
            "INFO:tensorflow:global_step/sec: 602.322\n",
            "INFO:tensorflow:loss = 0.30133718, step = 13600 (0.168 sec)\n",
            "INFO:tensorflow:global_step/sec: 458.279\n",
            "INFO:tensorflow:loss = 0.2981758, step = 13700 (0.216 sec)\n",
            "INFO:tensorflow:global_step/sec: 581.696\n",
            "INFO:tensorflow:loss = 0.29936615, step = 13800 (0.172 sec)\n",
            "INFO:tensorflow:global_step/sec: 640.671\n",
            "INFO:tensorflow:loss = 0.30063617, step = 13900 (0.157 sec)\n",
            "INFO:tensorflow:global_step/sec: 612.296\n",
            "INFO:tensorflow:loss = 0.30218118, step = 14000 (0.162 sec)\n",
            "INFO:tensorflow:global_step/sec: 588.567\n",
            "INFO:tensorflow:loss = 0.2977703, step = 14100 (0.170 sec)\n",
            "INFO:tensorflow:global_step/sec: 569.168\n",
            "INFO:tensorflow:loss = 0.29583323, step = 14200 (0.177 sec)\n",
            "INFO:tensorflow:global_step/sec: 579.495\n",
            "INFO:tensorflow:loss = 0.28826115, step = 14300 (0.171 sec)\n",
            "INFO:tensorflow:global_step/sec: 563.387\n",
            "INFO:tensorflow:loss = 0.2864565, step = 14400 (0.181 sec)\n",
            "INFO:tensorflow:global_step/sec: 578.261\n",
            "INFO:tensorflow:loss = 0.2858339, step = 14500 (0.170 sec)\n",
            "INFO:tensorflow:global_step/sec: 592.767\n",
            "INFO:tensorflow:loss = 0.28397286, step = 14600 (0.169 sec)\n",
            "INFO:tensorflow:global_step/sec: 610.3\n",
            "INFO:tensorflow:loss = 0.29142156, step = 14700 (0.164 sec)\n",
            "INFO:tensorflow:global_step/sec: 605.649\n",
            "INFO:tensorflow:loss = 0.28564444, step = 14800 (0.165 sec)\n",
            "INFO:tensorflow:global_step/sec: 566.94\n",
            "INFO:tensorflow:loss = 0.28261364, step = 14900 (0.179 sec)\n",
            "INFO:tensorflow:Calling checkpoint listeners before saving checkpoint 15000...\n",
            "INFO:tensorflow:Saving checkpoints for 15000 into /tmp/tmpbuwh2fqp/model.ckpt.\n",
            "INFO:tensorflow:Calling checkpoint listeners after saving checkpoint 15000...\n",
            "INFO:tensorflow:Loss for final step: 0.28759742.\n"
          ],
          "name": "stdout"
        },
        {
          "output_type": "execute_result",
          "data": {
            "text/plain": [
              "<tensorflow_estimator.python.estimator.canned.dnn.DNNClassifierV2 at 0x7f4e331622e8>"
            ]
          },
          "metadata": {
            "tags": []
          },
          "execution_count": 60
        }
      ]
    },
    {
      "cell_type": "markdown",
      "metadata": {
        "id": "D7LFzWsIoUhD",
        "colab_type": "text"
      },
      "source": [
        "**Evaluate the model**\n",
        "\n",
        "We have trained the model. Now, it is time to obtain some statistics on its performance\n"
      ]
    },
    {
      "cell_type": "code",
      "metadata": {
        "id": "xvFzmdb-olmp",
        "colab_type": "code",
        "colab": {
          "base_uri": "https://localhost:8080/",
          "height": 377
        },
        "outputId": "27337cd0-c392-4940-9edc-67b8e8b16cb9"
      },
      "source": [
        "eval_result = classifier.evaluate(input_fn=lambda: input_fn(test, test_y, training=False))\n",
        "print('\\nTest set accuracy: {accuracy:0.3f}\\n'.format(**eval_result))"
      ],
      "execution_count": 61,
      "outputs": [
        {
          "output_type": "stream",
          "text": [
            "INFO:tensorflow:Calling model_fn.\n",
            "WARNING:tensorflow:Layer dnn is casting an input tensor from dtype float64 to the layer's dtype of float32, which is new behavior in TensorFlow 2.  The layer has dtype float32 because it's dtype defaults to floatx.\n",
            "\n",
            "If you intended to run this layer in float32, you can safely ignore this warning. If in doubt, this warning is likely only an issue if you are porting a TensorFlow 1.X model to TensorFlow 2.\n",
            "\n",
            "To change all layers to have dtype float64 by default, call `tf.keras.backend.set_floatx('float64')`. To change just this layer, pass dtype='float64' to the layer constructor. If you are the author of this layer, you can disable autocasting by passing autocast=False to the base Layer constructor.\n",
            "\n",
            "INFO:tensorflow:Done calling model_fn.\n",
            "INFO:tensorflow:Starting evaluation at 2020-04-10T01:12:09Z\n",
            "INFO:tensorflow:Graph was finalized.\n",
            "INFO:tensorflow:Restoring parameters from /tmp/tmpbuwh2fqp/model.ckpt-15000\n",
            "INFO:tensorflow:Running local_init_op.\n",
            "INFO:tensorflow:Done running local_init_op.\n",
            "INFO:tensorflow:Inference Time : 0.29633s\n",
            "INFO:tensorflow:Finished evaluation at 2020-04-10-01:12:09\n",
            "INFO:tensorflow:Saving dict for global step 15000: accuracy = 0.96666664, average_loss = 0.32711506, global_step = 15000, loss = 0.32711506\n",
            "INFO:tensorflow:Saving 'checkpoint_path' summary for global step 15000: /tmp/tmpbuwh2fqp/model.ckpt-15000\n",
            "\n",
            "Test set accuracy: 0.967\n",
            "\n"
          ],
          "name": "stdout"
        }
      ]
    },
    {
      "cell_type": "markdown",
      "metadata": {
        "id": "2fS2U_BJpkdu",
        "colab_type": "text"
      },
      "source": [
        "**Make Predictions**\n",
        "\n",
        "We can use the trained model to predict the species of an Iris flower based on some unlabeled measurements. Below, we use the predict method, which returns a Python iterable, yielding a dictionary of prediction results for each example."
      ]
    },
    {
      "cell_type": "code",
      "metadata": {
        "id": "9O5-E40nqEv9",
        "colab_type": "code",
        "colab": {}
      },
      "source": [
        "expected = ['Setosa', 'Versicolor', 'Virginica'] \n",
        "#new data\n",
        "predict_x = {\n",
        "    'SepalLength': [5.1, 5.9, 6.9],\n",
        "    'SepalWidth': [3.3, 3.0, 3.1],\n",
        "    'PetalLength': [1.7, 4.2, 5.4],\n",
        "    'PetalWidth': [0.5, 1.5, 2.1],\n",
        "}\n",
        "#we define a function but now without labels because that's what we want the model to predict\n",
        "def input_fn(features, batch_size=256):\n",
        "    #Convert the inputs to a Dataset without labels.\n",
        "    return tf.data.Dataset.from_tensor_slices(dict(features)).batch(batch_size)\n",
        "\n",
        "predictions = classifier.predict(\n",
        "    input_fn=lambda: input_fn(predict_x))\n"
      ],
      "execution_count": 0,
      "outputs": []
    },
    {
      "cell_type": "markdown",
      "metadata": {
        "id": "aY_ycFcYq3nM",
        "colab_type": "text"
      },
      "source": [
        "The following code prints predictions and their probabilities"
      ]
    },
    {
      "cell_type": "code",
      "metadata": {
        "id": "Gx83DYejq26X",
        "colab_type": "code",
        "colab": {
          "base_uri": "https://localhost:8080/",
          "height": 170
        },
        "outputId": "8b7d955f-bc5c-45e5-c381-b32219626676"
      },
      "source": [
        "for pred_dict, expec in zip(predictions, expected):\n",
        "    class_id = pred_dict['class_ids'][0]\n",
        "    probability = pred_dict['probabilities'][class_id]\n",
        "\n",
        "    print('Prediction is \"{}\" ({:.1f}%), expected \"{}\"'.format(\n",
        "        SPECIES[class_id], 100 * probability, expec))"
      ],
      "execution_count": 74,
      "outputs": [
        {
          "output_type": "stream",
          "text": [
            "INFO:tensorflow:Calling model_fn.\n",
            "INFO:tensorflow:Done calling model_fn.\n",
            "INFO:tensorflow:Graph was finalized.\n",
            "INFO:tensorflow:Restoring parameters from /tmp/tmpbuwh2fqp/model.ckpt-15000\n",
            "INFO:tensorflow:Running local_init_op.\n",
            "INFO:tensorflow:Done running local_init_op.\n",
            "Prediction is \"Setosa\" (92.4%), expected \"Setosa\"\n",
            "Prediction is \"Versicolor\" (64.1%), expected \"Versicolor\"\n",
            "Prediction is \"Virginica\" (67.3%), expected \"Virginica\"\n"
          ],
          "name": "stdout"
        }
      ]
    }
  ]
}