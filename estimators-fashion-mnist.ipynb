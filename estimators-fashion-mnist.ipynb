{
  "nbformat": 4,
  "nbformat_minor": 0,
  "metadata": {
    "colab": {
      "name": "estimators-fashion-mnist.ipynb",
      "provenance": [],
      "authorship_tag": "ABX9TyOdow+nrwJ3gtRNLZ9KEWM8",
      "include_colab_link": true
    },
    "kernelspec": {
      "name": "python3",
      "display_name": "Python 3"
    }
  },
  "cells": [
    {
      "cell_type": "markdown",
      "metadata": {
        "id": "view-in-github",
        "colab_type": "text"
      },
      "source": [
        "<a href=\"https://colab.research.google.com/github/betoval/learning-tensorflow/blob/master/estimators-fashion-mnist.ipynb\" target=\"_parent\"><img src=\"https://colab.research.google.com/assets/colab-badge.svg\" alt=\"Open In Colab\"/></a>"
      ]
    },
    {
      "cell_type": "code",
      "metadata": {
        "id": "Dci0PXnvxohS",
        "colab_type": "code",
        "colab": {}
      },
      "source": [
        "import tensorflow as tf\n",
        "import numpy as np"
      ],
      "execution_count": 0,
      "outputs": []
    },
    {
      "cell_type": "markdown",
      "metadata": {
        "id": "PlhcvfBextmy",
        "colab_type": "text"
      },
      "source": [
        "**Tensorflow Estimators**\n",
        "\n",
        "`tf.estimator` provide a high-level API for TensorFlow. Used to simplify machine learning programming.\n",
        "\n",
        "Steps in developing an estimator model:\n",
        "\n",
        "1. Acquire the data and create the data functions\n",
        "2. Create the feature columns\n",
        "3. Instantiate the Estimator\n",
        "4. Evaluate the model's performance\n",
        "\n",
        "We will use the fashion_mnist dataset to demonstrate the use of Estimators."
      ]
    },
    {
      "cell_type": "code",
      "metadata": {
        "id": "R0NSYR6fzdmi",
        "colab_type": "code",
        "colab": {
          "base_uri": "https://localhost:8080/",
          "height": 34
        },
        "outputId": "036771cf-ef0d-4821-f957-c98967631df7"
      },
      "source": [
        "#We begin by acquiring the data\n",
        "#we already did a similar example using keras\n",
        "\n",
        "fashion = tf.keras.datasets.fashion_mnist #28x28 pixel images\n",
        "(x_train, y_train), (x_test, y_test) = fashion.load_data()\n",
        "print(type(x_train))\n",
        "x_train, x_test = x_train/255.0, x_test/255.0 #convert data into floats in the range 0 to 1\n",
        "y_train, y_test = np.int32(y_train), np.int32(y_test) #convert data into 32-bit integers\n",
        "\n",
        "learning_rate = 1e-4"
      ],
      "execution_count": 23,
      "outputs": [
        {
          "output_type": "stream",
          "text": [
            "<class 'numpy.ndarray'>\n"
          ],
          "name": "stdout"
        }
      ]
    },
    {
      "cell_type": "markdown",
      "metadata": {
        "id": "2w0YVAw08ors",
        "colab_type": "text"
      },
      "source": [
        "**Create training and testing input functions**\n",
        "\n",
        "training function = When you want to do the batching, shuffling, etc.\n",
        "\n",
        "We are not specifying the number of epochs. It will run forever.\n",
        "\n",
        "batch_size=number of images presented in one step.\n",
        "\n",
        "Data is shuffled before each step"
      ]
    },
    {
      "cell_type": "code",
      "metadata": {
        "id": "XUxHO0eQ0689",
        "colab_type": "code",
        "colab": {}
      },
      "source": [
        "#Create training input function\n",
        "train_input_fn = tf.compat.v1.estimator.inputs.numpy_input_fn(x={\"x\": x_train},\n",
        "                                                            y=y_train,\n",
        "                                                            num_epochs=None,\n",
        "                                                            batch_size=50,\n",
        "                                                            shuffle=True\n",
        "                                                            )                                                        "
      ],
      "execution_count": 0,
      "outputs": []
    },
    {
      "cell_type": "code",
      "metadata": {
        "id": "JYbBPsmq25BQ",
        "colab_type": "code",
        "colab": {}
      },
      "source": [
        "#Create testing input function\n",
        "test_input_fn = tf.compat.v1.estimator.inputs.numpy_input_fn(x={\"x\": x_test},\n",
        "                                                             y=y_test,\n",
        "                                                             num_epochs=1,\n",
        "                                                             shuffle=False\n",
        "                                                             )"
      ],
      "execution_count": 0,
      "outputs": []
    },
    {
      "cell_type": "markdown",
      "metadata": {
        "id": "y2StTwpH6pNu",
        "colab_type": "text"
      },
      "source": [
        "**Create feature columns**\n",
        "\n",
        "This will pass the data to an estimator.\n",
        "\n",
        "key = unique string, being the name of the column corresponding to the name of the dictionary we previosly defined (is \"x\" in this case).\n",
        "\n",
        "shape = 28x28, which is the shape of the fashion_mnist images."
      ]
    },
    {
      "cell_type": "code",
      "metadata": {
        "id": "LufBVbEB3inM",
        "colab_type": "code",
        "colab": {}
      },
      "source": [
        "#Create feature columns\n",
        "feature_columns = [tf.feature_column.numeric_column(\"x\", shape=[28,28])]\n",
        "\n",
        "\n"
      ],
      "execution_count": 0,
      "outputs": []
    },
    {
      "cell_type": "markdown",
      "metadata": {
        "id": "uFucgWrm7A7e",
        "colab_type": "text"
      },
      "source": [
        "**Instantiate estimator**\n",
        "\n",
        "This will do the classification. It will construct a deep neural network (DNN) for us.\n",
        "\n",
        "1 argument = the feature we specified earlier.\n",
        "2 argument = network size.\n",
        "`n_classes` = number of y labels for our fashion dataset.\n",
        "`model_dir` = the directory that we save the model parameters in.\n"
      ]
    },
    {
      "cell_type": "code",
      "metadata": {
        "id": "NX7dCUVH473G",
        "colab_type": "code",
        "colab": {
          "base_uri": "https://localhost:8080/",
          "height": 173
        },
        "outputId": "18dad9c2-91ed-4078-a3d3-2bc6a55443b4"
      },
      "source": [
        "#Build 2 layer DNN classifier\n",
        "classifier = tf.estimator.DNNClassifier(\n",
        "    feature_columns=feature_columns,\n",
        "    hidden_units=[256,32],\n",
        "    optimizer='Adam',\n",
        "    n_classes=10,\n",
        "    dropout=0.1,\n",
        "    model_dir=\"./tmp/mnist_modelx\",\n",
        "    loss_reduction=tf.losses.Reduction.SUM\n",
        ")"
      ],
      "execution_count": 31,
      "outputs": [
        {
          "output_type": "stream",
          "text": [
            "INFO:tensorflow:Using default config.\n",
            "INFO:tensorflow:Using config: {'_model_dir': './tmp/mnist_modelx', '_tf_random_seed': None, '_save_summary_steps': 100, '_save_checkpoints_steps': None, '_save_checkpoints_secs': 600, '_session_config': allow_soft_placement: true\n",
            "graph_options {\n",
            "  rewrite_options {\n",
            "    meta_optimizer_iterations: ONE\n",
            "  }\n",
            "}\n",
            ", '_keep_checkpoint_max': 5, '_keep_checkpoint_every_n_hours': 10000, '_log_step_count_steps': 100, '_train_distribute': None, '_device_fn': None, '_protocol': None, '_eval_distribute': None, '_experimental_distribute': None, '_experimental_max_worker_delay_secs': None, '_session_creation_timeout_secs': 7200, '_service': None, '_cluster_spec': ClusterSpec({}), '_task_type': 'worker', '_task_id': 0, '_global_id_in_cluster': 0, '_master': '', '_evaluation_master': '', '_is_chief': True, '_num_ps_replicas': 0, '_num_worker_replicas': 1}\n"
          ],
          "name": "stdout"
        }
      ]
    },
    {
      "cell_type": "markdown",
      "metadata": {
        "id": "D3PbbwT_9iH9",
        "colab_type": "text"
      },
      "source": [
        "**Train the model**"
      ]
    },
    {
      "cell_type": "code",
      "metadata": {
        "id": "-s0AsVSE9hdx",
        "colab_type": "code",
        "colab": {
          "base_uri": "https://localhost:8080/",
          "height": 1000
        },
        "outputId": "0d855e58-2d40-4b57-a417-eca3b5e45e6f"
      },
      "source": [
        "classifier.train(input_fn=train_input_fn,steps=10000)"
      ],
      "execution_count": 32,
      "outputs": [
        {
          "output_type": "stream",
          "text": [
            "INFO:tensorflow:Calling model_fn.\n",
            "WARNING:tensorflow:Layer dnn is casting an input tensor from dtype float64 to the layer's dtype of float32, which is new behavior in TensorFlow 2.  The layer has dtype float32 because it's dtype defaults to floatx.\n",
            "\n",
            "If you intended to run this layer in float32, you can safely ignore this warning. If in doubt, this warning is likely only an issue if you are porting a TensorFlow 1.X model to TensorFlow 2.\n",
            "\n",
            "To change all layers to have dtype float64 by default, call `tf.keras.backend.set_floatx('float64')`. To change just this layer, pass dtype='float64' to the layer constructor. If you are the author of this layer, you can disable autocasting by passing autocast=False to the base Layer constructor.\n",
            "\n",
            "INFO:tensorflow:Done calling model_fn.\n",
            "INFO:tensorflow:Create CheckpointSaverHook.\n",
            "INFO:tensorflow:Graph was finalized.\n",
            "INFO:tensorflow:Running local_init_op.\n",
            "INFO:tensorflow:Done running local_init_op.\n",
            "WARNING:tensorflow:From /usr/local/lib/python3.6/dist-packages/tensorflow/python/training/monitored_session.py:906: start_queue_runners (from tensorflow.python.training.queue_runner_impl) is deprecated and will be removed in a future version.\n",
            "Instructions for updating:\n",
            "To construct input pipelines, use the `tf.data` module.\n",
            "INFO:tensorflow:Calling checkpoint listeners before saving checkpoint 0...\n",
            "INFO:tensorflow:Saving checkpoints for 0 into ./tmp/mnist_modelx/model.ckpt.\n",
            "INFO:tensorflow:Calling checkpoint listeners after saving checkpoint 0...\n",
            "INFO:tensorflow:loss = 115.02762, step = 0\n",
            "INFO:tensorflow:global_step/sec: 271.19\n",
            "INFO:tensorflow:loss = 33.737347, step = 100 (0.370 sec)\n",
            "INFO:tensorflow:global_step/sec: 290.964\n",
            "INFO:tensorflow:loss = 31.41283, step = 200 (0.344 sec)\n",
            "INFO:tensorflow:global_step/sec: 295.153\n",
            "INFO:tensorflow:loss = 45.360477, step = 300 (0.339 sec)\n",
            "INFO:tensorflow:global_step/sec: 293.905\n",
            "INFO:tensorflow:loss = 39.753872, step = 400 (0.340 sec)\n",
            "INFO:tensorflow:global_step/sec: 287.108\n",
            "INFO:tensorflow:loss = 43.023254, step = 500 (0.348 sec)\n",
            "INFO:tensorflow:global_step/sec: 300.834\n",
            "INFO:tensorflow:loss = 24.501701, step = 600 (0.332 sec)\n",
            "INFO:tensorflow:global_step/sec: 296.525\n",
            "INFO:tensorflow:loss = 18.03281, step = 700 (0.337 sec)\n",
            "INFO:tensorflow:global_step/sec: 268.746\n",
            "INFO:tensorflow:loss = 32.06549, step = 800 (0.372 sec)\n",
            "INFO:tensorflow:global_step/sec: 299.905\n",
            "INFO:tensorflow:loss = 21.323357, step = 900 (0.334 sec)\n",
            "INFO:tensorflow:global_step/sec: 299.016\n",
            "INFO:tensorflow:loss = 31.47566, step = 1000 (0.334 sec)\n",
            "INFO:tensorflow:global_step/sec: 298.794\n",
            "INFO:tensorflow:loss = 16.813526, step = 1100 (0.335 sec)\n",
            "INFO:tensorflow:global_step/sec: 293.434\n",
            "INFO:tensorflow:loss = 18.914713, step = 1200 (0.341 sec)\n",
            "INFO:tensorflow:global_step/sec: 304.075\n",
            "INFO:tensorflow:loss = 17.300755, step = 1300 (0.328 sec)\n",
            "INFO:tensorflow:global_step/sec: 293.527\n",
            "INFO:tensorflow:loss = 25.970467, step = 1400 (0.341 sec)\n",
            "INFO:tensorflow:global_step/sec: 300.521\n",
            "INFO:tensorflow:loss = 22.928753, step = 1500 (0.333 sec)\n",
            "INFO:tensorflow:global_step/sec: 301.476\n",
            "INFO:tensorflow:loss = 13.285291, step = 1600 (0.334 sec)\n",
            "INFO:tensorflow:global_step/sec: 286.487\n",
            "INFO:tensorflow:loss = 11.482841, step = 1700 (0.346 sec)\n",
            "INFO:tensorflow:global_step/sec: 305.585\n",
            "INFO:tensorflow:loss = 14.794532, step = 1800 (0.329 sec)\n",
            "INFO:tensorflow:global_step/sec: 298.876\n",
            "INFO:tensorflow:loss = 28.083733, step = 1900 (0.332 sec)\n",
            "INFO:tensorflow:global_step/sec: 298.734\n",
            "INFO:tensorflow:loss = 24.439777, step = 2000 (0.335 sec)\n",
            "INFO:tensorflow:global_step/sec: 300.507\n",
            "INFO:tensorflow:loss = 34.2006, step = 2100 (0.335 sec)\n",
            "INFO:tensorflow:global_step/sec: 300.258\n",
            "INFO:tensorflow:loss = 27.040833, step = 2200 (0.331 sec)\n",
            "INFO:tensorflow:global_step/sec: 295.871\n",
            "INFO:tensorflow:loss = 13.7308035, step = 2300 (0.338 sec)\n",
            "INFO:tensorflow:global_step/sec: 283.941\n",
            "INFO:tensorflow:loss = 16.714174, step = 2400 (0.352 sec)\n",
            "INFO:tensorflow:global_step/sec: 298.927\n",
            "INFO:tensorflow:loss = 18.623873, step = 2500 (0.335 sec)\n",
            "INFO:tensorflow:global_step/sec: 286.576\n",
            "INFO:tensorflow:loss = 18.568413, step = 2600 (0.351 sec)\n",
            "INFO:tensorflow:global_step/sec: 293.46\n",
            "INFO:tensorflow:loss = 19.854519, step = 2700 (0.342 sec)\n",
            "INFO:tensorflow:global_step/sec: 284.166\n",
            "INFO:tensorflow:loss = 17.69738, step = 2800 (0.349 sec)\n",
            "INFO:tensorflow:global_step/sec: 279.898\n",
            "INFO:tensorflow:loss = 20.814781, step = 2900 (0.357 sec)\n",
            "INFO:tensorflow:global_step/sec: 300.873\n",
            "INFO:tensorflow:loss = 16.642235, step = 3000 (0.332 sec)\n",
            "INFO:tensorflow:global_step/sec: 294.326\n",
            "INFO:tensorflow:loss = 17.412613, step = 3100 (0.340 sec)\n",
            "INFO:tensorflow:global_step/sec: 288.007\n",
            "INFO:tensorflow:loss = 18.878748, step = 3200 (0.347 sec)\n",
            "INFO:tensorflow:global_step/sec: 292.752\n",
            "INFO:tensorflow:loss = 21.45658, step = 3300 (0.342 sec)\n",
            "INFO:tensorflow:global_step/sec: 286.037\n",
            "INFO:tensorflow:loss = 16.599545, step = 3400 (0.349 sec)\n",
            "INFO:tensorflow:global_step/sec: 293.351\n",
            "INFO:tensorflow:loss = 12.477141, step = 3500 (0.341 sec)\n",
            "INFO:tensorflow:global_step/sec: 285.966\n",
            "INFO:tensorflow:loss = 12.487503, step = 3600 (0.350 sec)\n",
            "INFO:tensorflow:global_step/sec: 290.118\n",
            "INFO:tensorflow:loss = 19.082554, step = 3700 (0.345 sec)\n",
            "INFO:tensorflow:global_step/sec: 274.051\n",
            "INFO:tensorflow:loss = 19.149385, step = 3800 (0.365 sec)\n",
            "INFO:tensorflow:global_step/sec: 285.033\n",
            "INFO:tensorflow:loss = 13.998072, step = 3900 (0.351 sec)\n",
            "INFO:tensorflow:global_step/sec: 285.133\n",
            "INFO:tensorflow:loss = 20.058208, step = 4000 (0.351 sec)\n",
            "INFO:tensorflow:global_step/sec: 295.006\n",
            "INFO:tensorflow:loss = 8.124559, step = 4100 (0.339 sec)\n",
            "INFO:tensorflow:global_step/sec: 288.048\n",
            "INFO:tensorflow:loss = 34.93421, step = 4200 (0.347 sec)\n",
            "INFO:tensorflow:global_step/sec: 284.595\n",
            "INFO:tensorflow:loss = 15.853867, step = 4300 (0.352 sec)\n",
            "INFO:tensorflow:global_step/sec: 293.447\n",
            "INFO:tensorflow:loss = 9.747144, step = 4400 (0.340 sec)\n",
            "INFO:tensorflow:global_step/sec: 296.203\n",
            "INFO:tensorflow:loss = 19.521286, step = 4500 (0.337 sec)\n",
            "INFO:tensorflow:global_step/sec: 291.85\n",
            "INFO:tensorflow:loss = 12.840275, step = 4600 (0.343 sec)\n",
            "INFO:tensorflow:global_step/sec: 290.858\n",
            "INFO:tensorflow:loss = 18.103127, step = 4700 (0.344 sec)\n",
            "INFO:tensorflow:global_step/sec: 294.959\n",
            "INFO:tensorflow:loss = 12.931985, step = 4800 (0.339 sec)\n",
            "INFO:tensorflow:global_step/sec: 282.135\n",
            "INFO:tensorflow:loss = 17.41147, step = 4900 (0.357 sec)\n",
            "INFO:tensorflow:global_step/sec: 296.585\n",
            "INFO:tensorflow:loss = 25.564575, step = 5000 (0.334 sec)\n",
            "INFO:tensorflow:global_step/sec: 295.162\n",
            "INFO:tensorflow:loss = 13.179366, step = 5100 (0.339 sec)\n",
            "INFO:tensorflow:global_step/sec: 292.631\n",
            "INFO:tensorflow:loss = 15.608456, step = 5200 (0.342 sec)\n",
            "INFO:tensorflow:global_step/sec: 294.411\n",
            "INFO:tensorflow:loss = 25.600353, step = 5300 (0.342 sec)\n",
            "INFO:tensorflow:global_step/sec: 292.495\n",
            "INFO:tensorflow:loss = 20.531801, step = 5400 (0.340 sec)\n",
            "INFO:tensorflow:global_step/sec: 294.524\n",
            "INFO:tensorflow:loss = 19.373833, step = 5500 (0.340 sec)\n",
            "INFO:tensorflow:global_step/sec: 298.458\n",
            "INFO:tensorflow:loss = 17.234219, step = 5600 (0.334 sec)\n",
            "INFO:tensorflow:global_step/sec: 291.3\n",
            "INFO:tensorflow:loss = 15.511587, step = 5700 (0.343 sec)\n",
            "INFO:tensorflow:global_step/sec: 293.356\n",
            "INFO:tensorflow:loss = 20.579628, step = 5800 (0.341 sec)\n",
            "INFO:tensorflow:global_step/sec: 290.301\n",
            "INFO:tensorflow:loss = 15.231508, step = 5900 (0.347 sec)\n",
            "INFO:tensorflow:global_step/sec: 300.29\n",
            "INFO:tensorflow:loss = 13.649392, step = 6000 (0.331 sec)\n",
            "INFO:tensorflow:global_step/sec: 298.934\n",
            "INFO:tensorflow:loss = 14.003382, step = 6100 (0.335 sec)\n",
            "INFO:tensorflow:global_step/sec: 305.629\n",
            "INFO:tensorflow:loss = 20.562708, step = 6200 (0.327 sec)\n",
            "INFO:tensorflow:global_step/sec: 299.633\n",
            "INFO:tensorflow:loss = 14.184153, step = 6300 (0.336 sec)\n",
            "INFO:tensorflow:global_step/sec: 290.953\n",
            "INFO:tensorflow:loss = 19.600668, step = 6400 (0.344 sec)\n",
            "INFO:tensorflow:global_step/sec: 308.308\n",
            "INFO:tensorflow:loss = 13.84294, step = 6500 (0.322 sec)\n",
            "INFO:tensorflow:global_step/sec: 305.283\n",
            "INFO:tensorflow:loss = 9.098067, step = 6600 (0.328 sec)\n",
            "INFO:tensorflow:global_step/sec: 283\n",
            "INFO:tensorflow:loss = 10.913696, step = 6700 (0.356 sec)\n",
            "INFO:tensorflow:global_step/sec: 293.72\n",
            "INFO:tensorflow:loss = 11.208325, step = 6800 (0.338 sec)\n",
            "INFO:tensorflow:global_step/sec: 290.547\n",
            "INFO:tensorflow:loss = 9.382754, step = 6900 (0.347 sec)\n",
            "INFO:tensorflow:global_step/sec: 290.962\n",
            "INFO:tensorflow:loss = 17.88458, step = 7000 (0.341 sec)\n",
            "INFO:tensorflow:global_step/sec: 288.173\n",
            "INFO:tensorflow:loss = 10.332287, step = 7100 (0.347 sec)\n",
            "INFO:tensorflow:global_step/sec: 272.995\n",
            "INFO:tensorflow:loss = 25.861042, step = 7200 (0.366 sec)\n",
            "INFO:tensorflow:global_step/sec: 271.738\n",
            "INFO:tensorflow:loss = 20.738285, step = 7300 (0.368 sec)\n",
            "INFO:tensorflow:global_step/sec: 278.686\n",
            "INFO:tensorflow:loss = 13.3132305, step = 7400 (0.359 sec)\n",
            "INFO:tensorflow:global_step/sec: 282.69\n",
            "INFO:tensorflow:loss = 12.9380455, step = 7500 (0.353 sec)\n",
            "INFO:tensorflow:global_step/sec: 275.411\n",
            "INFO:tensorflow:loss = 7.715053, step = 7600 (0.363 sec)\n",
            "INFO:tensorflow:global_step/sec: 276.78\n",
            "INFO:tensorflow:loss = 8.242919, step = 7700 (0.363 sec)\n",
            "INFO:tensorflow:global_step/sec: 279.567\n",
            "INFO:tensorflow:loss = 11.538195, step = 7800 (0.356 sec)\n",
            "INFO:tensorflow:global_step/sec: 274.885\n",
            "INFO:tensorflow:loss = 20.78685, step = 7900 (0.366 sec)\n",
            "INFO:tensorflow:global_step/sec: 274.765\n",
            "INFO:tensorflow:loss = 13.466162, step = 8000 (0.362 sec)\n",
            "INFO:tensorflow:global_step/sec: 277.389\n",
            "INFO:tensorflow:loss = 8.853593, step = 8100 (0.360 sec)\n",
            "INFO:tensorflow:global_step/sec: 281.124\n",
            "INFO:tensorflow:loss = 14.137754, step = 8200 (0.356 sec)\n",
            "INFO:tensorflow:global_step/sec: 277.592\n",
            "INFO:tensorflow:loss = 15.146279, step = 8300 (0.362 sec)\n",
            "INFO:tensorflow:global_step/sec: 278.056\n",
            "INFO:tensorflow:loss = 9.099561, step = 8400 (0.358 sec)\n",
            "INFO:tensorflow:global_step/sec: 279.587\n",
            "INFO:tensorflow:loss = 7.541271, step = 8500 (0.358 sec)\n",
            "INFO:tensorflow:global_step/sec: 275.554\n",
            "INFO:tensorflow:loss = 5.0515933, step = 8600 (0.363 sec)\n",
            "INFO:tensorflow:global_step/sec: 294.475\n",
            "INFO:tensorflow:loss = 20.952854, step = 8700 (0.340 sec)\n",
            "INFO:tensorflow:global_step/sec: 300.307\n",
            "INFO:tensorflow:loss = 9.642908, step = 8800 (0.333 sec)\n",
            "INFO:tensorflow:global_step/sec: 309.169\n",
            "INFO:tensorflow:loss = 12.133152, step = 8900 (0.323 sec)\n",
            "INFO:tensorflow:global_step/sec: 301.818\n",
            "INFO:tensorflow:loss = 16.123938, step = 9000 (0.331 sec)\n",
            "INFO:tensorflow:global_step/sec: 298.137\n",
            "INFO:tensorflow:loss = 10.583849, step = 9100 (0.335 sec)\n",
            "INFO:tensorflow:global_step/sec: 302.243\n",
            "INFO:tensorflow:loss = 4.6415462, step = 9200 (0.332 sec)\n",
            "INFO:tensorflow:global_step/sec: 292.912\n",
            "INFO:tensorflow:loss = 28.645086, step = 9300 (0.340 sec)\n",
            "INFO:tensorflow:global_step/sec: 299.145\n",
            "INFO:tensorflow:loss = 16.67956, step = 9400 (0.334 sec)\n",
            "INFO:tensorflow:global_step/sec: 301.916\n",
            "INFO:tensorflow:loss = 14.923746, step = 9500 (0.331 sec)\n",
            "INFO:tensorflow:global_step/sec: 297.567\n",
            "INFO:tensorflow:loss = 19.154987, step = 9600 (0.336 sec)\n",
            "INFO:tensorflow:global_step/sec: 307.052\n",
            "INFO:tensorflow:loss = 14.418279, step = 9700 (0.326 sec)\n",
            "INFO:tensorflow:global_step/sec: 290.714\n",
            "INFO:tensorflow:loss = 16.78495, step = 9800 (0.344 sec)\n",
            "INFO:tensorflow:global_step/sec: 276.752\n",
            "INFO:tensorflow:loss = 11.832823, step = 9900 (0.361 sec)\n",
            "INFO:tensorflow:Calling checkpoint listeners before saving checkpoint 10000...\n",
            "INFO:tensorflow:Saving checkpoints for 10000 into ./tmp/mnist_modelx/model.ckpt.\n",
            "INFO:tensorflow:Calling checkpoint listeners after saving checkpoint 10000...\n",
            "INFO:tensorflow:Loss for final step: 5.805384.\n"
          ],
          "name": "stdout"
        },
        {
          "output_type": "execute_result",
          "data": {
            "text/plain": [
              "<tensorflow_estimator.python.estimator.canned.dnn.DNNClassifierV2 at 0x7fcb4219d080>"
            ]
          },
          "metadata": {
            "tags": []
          },
          "execution_count": 32
        }
      ]
    },
    {
      "cell_type": "markdown",
      "metadata": {
        "id": "K4U6YoOCCtek",
        "colab_type": "text"
      },
      "source": [
        "**Evaluate the performance of the model**"
      ]
    },
    {
      "cell_type": "code",
      "metadata": {
        "id": "ZTiscixoCzOq",
        "colab_type": "code",
        "colab": {
          "base_uri": "https://localhost:8080/",
          "height": 377
        },
        "outputId": "648e5bc2-f588-440c-da4a-67553a70bca8"
      },
      "source": [
        "accuracy_score=classifier.evaluate(input_fn=test_input_fn)[\"accuracy\"] #we use test because we want to know how our training model performs with the test images\n",
        "print(\"\\nTest accuracy: {0:f}%\\n\".format(accuracy_score*100))"
      ],
      "execution_count": 33,
      "outputs": [
        {
          "output_type": "stream",
          "text": [
            "INFO:tensorflow:Calling model_fn.\n",
            "WARNING:tensorflow:Layer dnn is casting an input tensor from dtype float64 to the layer's dtype of float32, which is new behavior in TensorFlow 2.  The layer has dtype float32 because it's dtype defaults to floatx.\n",
            "\n",
            "If you intended to run this layer in float32, you can safely ignore this warning. If in doubt, this warning is likely only an issue if you are porting a TensorFlow 1.X model to TensorFlow 2.\n",
            "\n",
            "To change all layers to have dtype float64 by default, call `tf.keras.backend.set_floatx('float64')`. To change just this layer, pass dtype='float64' to the layer constructor. If you are the author of this layer, you can disable autocasting by passing autocast=False to the base Layer constructor.\n",
            "\n",
            "INFO:tensorflow:Done calling model_fn.\n",
            "INFO:tensorflow:Starting evaluation at 2020-04-07T19:13:57Z\n",
            "INFO:tensorflow:Graph was finalized.\n",
            "INFO:tensorflow:Restoring parameters from ./tmp/mnist_modelx/model.ckpt-10000\n",
            "INFO:tensorflow:Running local_init_op.\n",
            "INFO:tensorflow:Done running local_init_op.\n",
            "INFO:tensorflow:Inference Time : 0.43983s\n",
            "INFO:tensorflow:Finished evaluation at 2020-04-07-19:13:58\n",
            "INFO:tensorflow:Saving dict for global step 10000: accuracy = 0.8793, average_loss = 0.3343948, global_step = 10000, loss = 42.328457\n",
            "INFO:tensorflow:Saving 'checkpoint_path' summary for global step 10000: ./tmp/mnist_modelx/model.ckpt-10000\n",
            "\n",
            "Test accuracy: 87.930000%\n",
            "\n"
          ],
          "name": "stdout"
        }
      ]
    }
  ]
}